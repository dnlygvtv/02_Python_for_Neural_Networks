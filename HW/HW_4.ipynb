{
  "cells": [
    {
      "cell_type": "code",
      "execution_count": 38,
      "metadata": {},
      "outputs": [],
      "source": [
        "import numpy as np\n",
        "import pandas as pd\n",
        "import tensorflow as tf\n",
        "import matplotlib.pyplot as plt\n",
        "\n",
        "import warnings\n",
        "warnings.filterwarnings('ignore')"
      ]
    },
    {
      "cell_type": "markdown",
      "metadata": {},
      "source": [
        "# 0. Загрузка, предобработка и визуализация обучающих и тестовых данных"
      ]
    },
    {
      "cell_type": "code",
      "execution_count": 2,
      "metadata": {},
      "outputs": [],
      "source": [
        "from tensorflow.keras.datasets import cifar10\n",
        "from tensorflow.keras.utils import to_categorical\n",
        "from tensorflow.keras.models import Sequential\n",
        "from tensorflow.keras.layers import Dense, Flatten, Conv2D, MaxPooling2D"
      ]
    },
    {
      "cell_type": "code",
      "execution_count": 6,
      "metadata": {},
      "outputs": [],
      "source": [
        "classes = ['самолет', 'автомобиль', 'птица', 'кот', 'олень', 'собака', 'лягушка', 'лошадь', 'корабль', 'грузовик']"
      ]
    },
    {
      "cell_type": "code",
      "execution_count": 3,
      "metadata": {},
      "outputs": [
        {
          "name": "stdout",
          "output_type": "stream",
          "text": [
            "(50000, 32, 32, 3) (10000, 32, 32, 3)\n"
          ]
        }
      ],
      "source": [
        "(X_train, y_train), (X_test, y_test) = cifar10.load_data()\n",
        "print(X_train.shape, X_test.shape)"
      ]
    },
    {
      "cell_type": "code",
      "execution_count": 4,
      "metadata": {},
      "outputs": [
        {
          "name": "stdout",
          "output_type": "stream",
          "text": [
            "(50000, 1) (10000, 1)\n"
          ]
        }
      ],
      "source": [
        "print( y_train.shape, y_test.shape)"
      ]
    },
    {
      "cell_type": "code",
      "execution_count": 5,
      "metadata": {},
      "outputs": [],
      "source": [
        "y_train = to_categorical(y_train, 10)\n",
        "y_test = to_categorical(y_test, 10)\n",
        "\n",
        "X_train = X_train / 255.0\n",
        "X_test = X_test / 255.0"
      ]
    },
    {
      "cell_type": "code",
      "execution_count": 18,
      "metadata": {},
      "outputs": [
        {
          "data": {
            "image/png": "[encoded data removed]",
            "text/plain": [
              "<Figure size 640x480 with 1 Axes>"
            ]
          },
          "metadata": {},
          "output_type": "display_data"
        }
      ],
      "source": [
        "N = np.random.randint(0, X_test.shape[0] + 1)\n",
        "\n",
        "plt.imshow(X_test[N])\n",
        "plt.title(classes[np.argmax(y_test[N,:])])\n",
        "plt.show()"
      ]
    },
    {
      "cell_type": "markdown",
      "metadata": {},
      "source": [
        "# 1. Базовое решение"
      ]
    },
    {
      "cell_type": "code",
      "execution_count": 34,
      "metadata": {},
      "outputs": [],
      "source": [
        "num_classes = len(classes)\n",
        "num_epochs = 5\n",
        "batch_size = 128"
      ]
    },
    {
      "cell_type": "code",
      "execution_count": 71,
      "metadata": {},
      "outputs": [
        {
          "name": "stdout",
          "output_type": "stream",
          "text": [
            "Model: \"sequential_6\"\n",
            "_________________________________________________________________\n",
            " Layer (type)                Output Shape              Param #   \n",
            "=================================================================\n",
            " conv2d_15 (Conv2D)          (None, 32, 32, 6)         1158      \n",
            "                                                                 \n",
            " max_pooling2d_15 (MaxPoolin  (None, 16, 16, 6)        0         \n",
            " g2D)                                                            \n",
            "                                                                 \n",
            " conv2d_16 (Conv2D)          (None, 16, 16, 12)        660       \n",
            "                                                                 \n",
            " max_pooling2d_16 (MaxPoolin  (None, 8, 8, 12)         0         \n",
            " g2D)                                                            \n",
            "                                                                 \n",
            " flatten_6 (Flatten)         (None, 768)               0         \n",
            "                                                                 \n",
            " dense_12 (Dense)            (None, 512)               393728    \n",
            "                                                                 \n",
            " dense_13 (Dense)            (None, 10)                5130      \n",
            "                                                                 \n",
            "=================================================================\n",
            "Total params: 400,676\n",
            "Trainable params: 400,676\n",
            "Non-trainable params: 0\n",
            "_________________________________________________________________\n"
          ]
        }
      ],
      "source": [
        "base_model = Sequential()\n",
        "\n",
        "base_model.add(Conv2D(6, kernel_size=(8, 8), padding='same', activation='relu', input_shape=X_train.shape[1:]))\n",
        "base_model.add(MaxPooling2D(pool_size=(2, 2)))\n",
        "\n",
        "base_model.add(Conv2D(12, kernel_size=(3, 3), padding='same', activation='relu'))\n",
        "base_model.add(MaxPooling2D(pool_size=(2, 2)))\n",
        "\n",
        "base_model.add(Flatten())\n",
        "base_model.add(Dense(512, activation='relu'))\n",
        "base_model.add(Dense(num_classes, activation='softmax'))\n",
        "\n",
        "base_model.summary()\n",
        "\n",
        "base_model.compile(loss='categorical_crossentropy',\n",
        "                   optimizer='Adam',\n",
        "                   metrics=['accuracy'])"
      ]
    },
    {
      "cell_type": "code",
      "execution_count": 72,
      "metadata": {},
      "outputs": [
        {
          "name": "stdout",
          "output_type": "stream",
          "text": [
            "Epoch 1/5\n",
            "391/391 [==============================] - 63s 160ms/step - loss: 1.6343 - accuracy: 0.4136 - val_loss: 1.4393 - val_accuracy: 0.4839\n",
            "Epoch 2/5\n",
            "391/391 [==============================] - 60s 154ms/step - loss: 1.3727 - accuracy: 0.5119 - val_loss: 1.3137 - val_accuracy: 0.5302\n",
            "Epoch 3/5\n",
            "391/391 [==============================] - 57s 146ms/step - loss: 1.2577 - accuracy: 0.5553 - val_loss: 1.2468 - val_accuracy: 0.5518\n",
            "Epoch 4/5\n",
            "391/391 [==============================] - 55s 141ms/step - loss: 1.1636 - accuracy: 0.5905 - val_loss: 1.1928 - val_accuracy: 0.5736\n",
            "Epoch 5/5\n",
            "391/391 [==============================] - 52s 133ms/step - loss: 1.0806 - accuracy: 0.6213 - val_loss: 1.1398 - val_accuracy: 0.5963\n"
          ]
        }
      ],
      "source": [
        "history = base_model.fit(X_train, y_train,\n",
        "               epochs=num_epochs,\n",
        "               batch_size=batch_size,\n",
        "               validation_data=(X_test, y_test),\n",
        "               verbose=1)"
      ]
    },
    {
      "cell_type": "code",
      "execution_count": 74,
      "metadata": {},
      "outputs": [
        {
          "name": "stdout",
          "output_type": "stream",
          "text": [
            "313/313 [==============================] - 6s 18ms/step - loss: 1.1398 - accuracy: 0.5963\n"
          ]
        }
      ],
      "source": [
        "loss, metric = base_model.evaluate(X_test, y_test)"
      ]
    },
    {
      "cell_type": "code",
      "execution_count": 75,
      "metadata": {},
      "outputs": [],
      "source": [
        "stata = pd.DataFrame(columns=['Название модели',\n",
        "                              'Кол-во сверточных слоев',\n",
        "                              'Кол-во фильтров',\n",
        "                              'Accuracy test'\n",
        "                              ])"
      ]
    },
    {
      "cell_type": "code",
      "execution_count": 76,
      "metadata": {},
      "outputs": [
        {
          "data": {
            "text/html": [
              "<div>\n",
              "<style scoped>\n",
              "    .dataframe tbody tr th:only-of-type {\n",
              "        vertical-align: middle;\n",
              "    }\n",
              "\n",
              "    .dataframe tbody tr th {\n",
              "        vertical-align: top;\n",
              "    }\n",
              "\n",
              "    .dataframe thead th {\n",
              "        text-align: right;\n",
              "    }\n",
              "</style>\n",
              "<table border=\"1\" class=\"dataframe\">\n",
              "  <thead>\n",
              "    <tr style=\"text-align: right;\">\n",
              "      <th></th>\n",
              "      <th>Название модели</th>\n",
              "      <th>Кол-во сверточных слоев</th>\n",
              "      <th>Кол-во фильтров</th>\n",
              "      <th>Accuracy test</th>\n",
              "    </tr>\n",
              "  </thead>\n",
              "  <tbody>\n",
              "    <tr>\n",
              "      <th>0</th>\n",
              "      <td>Базовое решение</td>\n",
              "      <td>2</td>\n",
              "      <td>18</td>\n",
              "      <td>0.5963</td>\n",
              "    </tr>\n",
              "  </tbody>\n",
              "</table>\n",
              "</div>"
            ],
            "text/plain": [
              "   Название модели Кол-во сверточных слоев Кол-во фильтров  Accuracy test\n",
              "0  Базовое решение                       2              18         0.5963"
            ]
          },
          "execution_count": 76,
          "metadata": {},
          "output_type": "execute_result"
        }
      ],
      "source": [
        "stata = stata.append({'Название модели': 'Базовое решение',\n",
        "                     'Кол-во сверточных слоев': 2,\n",
        "                     'Кол-во фильтров': 12 + 6,\n",
        "                     'Accuracy test': metric},\n",
        "                     ignore_index=True)\n",
        "stata"
      ]
    },
    {
      "cell_type": "code",
      "execution_count": 77,
      "metadata": {},
      "outputs": [
        {
          "name": "stdout",
          "output_type": "stream",
          "text": [
            "313/313 [==============================] - 5s 16ms/step\n"
          ]
        }
      ],
      "source": [
        "y_pred = base_model.predict(X_test)"
      ]
    },
    {
      "cell_type": "code",
      "execution_count": 78,
      "metadata": {},
      "outputs": [
        {
          "data": {
            "image/png": "[encoded data removed]",
            "text/plain": [
              "<Figure size 1600x700 with 10 Axes>"
            ]
          },
          "metadata": {},
          "output_type": "display_data"
        }
      ],
      "source": [
        "NN = np.random.randint(0, X_test.shape[0] + 1, num_classes)\n",
        "\n",
        "plt.figure(figsize=(16,7))\n",
        "\n",
        "for i, nn in enumerate(NN):\n",
        "    plt.subplot(2, 5, i+1)\n",
        "    plt.imshow(X_test[nn])\n",
        "    plt.title(classes[np.argmax(y_pred[nn,:])])\n",
        "    plt.tight_layout();"
      ]
    },
    {
      "cell_type": "markdown",
      "metadata": {},
      "source": [
        "# 2. Увеличение ширины сети (количества фильтров)"
      ]
    },
    {
      "cell_type": "markdown",
      "metadata": {},
      "source": [
        "# 2.1 Сеть model_1"
      ]
    },
    {
      "cell_type": "code",
      "execution_count": 79,
      "metadata": {},
      "outputs": [
        {
          "name": "stdout",
          "output_type": "stream",
          "text": [
            "Model: \"sequential_8\"\n",
            "_________________________________________________________________\n",
            " Layer (type)                Output Shape              Param #   \n",
            "=================================================================\n",
            " conv2d_19 (Conv2D)          (None, 32, 32, 12)        2316      \n",
            "                                                                 \n",
            " max_pooling2d_19 (MaxPoolin  (None, 16, 16, 12)       0         \n",
            " g2D)                                                            \n",
            "                                                                 \n",
            " conv2d_20 (Conv2D)          (None, 16, 16, 24)        2616      \n",
            "                                                                 \n",
            " max_pooling2d_20 (MaxPoolin  (None, 8, 8, 24)         0         \n",
            " g2D)                                                            \n",
            "                                                                 \n",
            " flatten_8 (Flatten)         (None, 1536)              0         \n",
            "                                                                 \n",
            " dense_16 (Dense)            (None, 512)               786944    \n"
          ]
        },
        {
          "name": "stdout",
          "output_type": "stream",
          "text": [
            "                                                                 \n",
            " dense_17 (Dense)            (None, 10)                5130      \n",
            "                                                                 \n",
            "=================================================================\n",
            "Total params: 797,006\n",
            "Trainable params: 797,006\n",
            "Non-trainable params: 0\n",
            "_________________________________________________________________\n"
          ]
        }
      ],
      "source": [
        "model_1 = Sequential()\n",
        "\n",
        "model_1.add(Conv2D(12, kernel_size=(8, 8), padding='same', activation='relu', input_shape=X_train.shape[1:]))\n",
        "model_1.add(MaxPooling2D(pool_size=(2, 2)))\n",
        "\n",
        "model_1.add(Conv2D(24, kernel_size=(3, 3), padding='same', activation='relu'))\n",
        "model_1.add(MaxPooling2D(pool_size=(2, 2)))\n",
        "\n",
        "model_1.add(Flatten())\n",
        "model_1.add(Dense(512, activation='relu'))\n",
        "model_1.add(Dense(num_classes, activation='softmax'))\n",
        "\n",
        "model_1.summary()\n",
        "\n",
        "model_1.compile(loss='categorical_crossentropy',\n",
        "                   optimizer='Adam',\n",
        "                   metrics=['accuracy'])"
      ]
    },
    {
      "cell_type": "code",
      "execution_count": 80,
      "metadata": {},
      "outputs": [
        {
          "name": "stdout",
          "output_type": "stream",
          "text": [
            "Epoch 1/5\n",
            "391/391 [==============================] - 71s 181ms/step - loss: 1.5299 - accuracy: 0.4541 - val_loss: 1.2743 - val_accuracy: 0.5406\n",
            "Epoch 2/5\n",
            "391/391 [==============================] - 73s 186ms/step - loss: 1.2151 - accuracy: 0.5729 - val_loss: 1.1823 - val_accuracy: 0.5879\n",
            "Epoch 3/5\n",
            "391/391 [==============================] - 70s 180ms/step - loss: 1.0902 - accuracy: 0.6161 - val_loss: 1.1238 - val_accuracy: 0.6075\n",
            "Epoch 4/5\n",
            "391/391 [==============================] - 69s 177ms/step - loss: 0.9805 - accuracy: 0.6552 - val_loss: 1.0607 - val_accuracy: 0.6275\n",
            "Epoch 5/5\n",
            "391/391 [==============================] - 67s 171ms/step - loss: 0.8863 - accuracy: 0.6909 - val_loss: 1.0076 - val_accuracy: 0.6493\n",
            "313/313 [==============================] - 5s 15ms/step - loss: 1.0076 - accuracy: 0.6493\n"
          ]
        }
      ],
      "source": [
        "history = model_1.fit(X_train, y_train,\n",
        "               epochs=num_epochs,\n",
        "               batch_size=batch_size,\n",
        "               validation_data=(X_test, y_test),\n",
        "               verbose=1)\n",
        "\n",
        "loss, metric = model_1.evaluate(X_test, y_test)"
      ]
    },
    {
      "cell_type": "code",
      "execution_count": 81,
      "metadata": {},
      "outputs": [
        {
          "data": {
            "text/html": [
              "<div>\n",
              "<style scoped>\n",
              "    .dataframe tbody tr th:only-of-type {\n",
              "        vertical-align: middle;\n",
              "    }\n",
              "\n",
              "    .dataframe tbody tr th {\n",
              "        vertical-align: top;\n",
              "    }\n",
              "\n",
              "    .dataframe thead th {\n",
              "        text-align: right;\n",
              "    }\n",
              "</style>\n",
              "<table border=\"1\" class=\"dataframe\">\n",
              "  <thead>\n",
              "    <tr style=\"text-align: right;\">\n",
              "      <th></th>\n",
              "      <th>Название модели</th>\n",
              "      <th>Кол-во сверточных слоев</th>\n",
              "      <th>Кол-во фильтров</th>\n",
              "      <th>Accuracy test</th>\n",
              "    </tr>\n",
              "  </thead>\n",
              "  <tbody>\n",
              "    <tr>\n",
              "      <th>0</th>\n",
              "      <td>Базовое решение</td>\n",
              "      <td>2</td>\n",
              "      <td>18</td>\n",
              "      <td>0.5963</td>\n",
              "    </tr>\n",
              "    <tr>\n",
              "      <th>1</th>\n",
              "      <td>Модель №1</td>\n",
              "      <td>2</td>\n",
              "      <td>36</td>\n",
              "      <td>0.6493</td>\n",
              "    </tr>\n",
              "  </tbody>\n",
              "</table>\n",
              "</div>"
            ],
            "text/plain": [
              "   Название модели Кол-во сверточных слоев Кол-во фильтров  Accuracy test\n",
              "0  Базовое решение                       2              18         0.5963\n",
              "1        Модель №1                       2              36         0.6493"
            ]
          },
          "execution_count": 81,
          "metadata": {},
          "output_type": "execute_result"
        }
      ],
      "source": [
        "stata = stata.append({'Название модели': 'Модель №1',\n",
        "                     'Кол-во сверточных слоев': 2,\n",
        "                     'Кол-во фильтров': 12 + 24,\n",
        "                     'Accuracy test': metric},\n",
        "                     ignore_index=True)\n",
        "stata"
      ]
    },
    {
      "cell_type": "markdown",
      "metadata": {},
      "source": [
        "# 2.2 Сеть model_2"
      ]
    },
    {
      "cell_type": "code",
      "execution_count": 85,
      "metadata": {},
      "outputs": [
        {
          "name": "stdout",
          "output_type": "stream",
          "text": [
            "Model: \"sequential_10\"\n",
            "_________________________________________________________________\n",
            " Layer (type)                Output Shape              Param #   \n",
            "=================================================================\n",
            " conv2d_23 (Conv2D)          (None, 32, 32, 24)        4632      \n"
          ]
        },
        {
          "name": "stdout",
          "output_type": "stream",
          "text": [
            "                                                                 \n",
            " max_pooling2d_23 (MaxPoolin  (None, 16, 16, 24)       0         \n",
            " g2D)                                                            \n",
            "                                                                 \n",
            " conv2d_24 (Conv2D)          (None, 16, 16, 48)        10416     \n",
            "                                                                 \n",
            " max_pooling2d_24 (MaxPoolin  (None, 8, 8, 48)         0         \n",
            " g2D)                                                            \n",
            "                                                                 \n",
            " flatten_10 (Flatten)        (None, 3072)              0         \n",
            "                                                                 \n",
            " dense_20 (Dense)            (None, 512)               1573376   \n",
            "                                                                 \n",
            " dense_21 (Dense)            (None, 10)                5130      \n",
            "                                                                 \n",
            "=================================================================\n",
            "Total params: 1,593,554\n",
            "Trainable params: 1,593,554\n",
            "Non-trainable params: 0\n",
            "_________________________________________________________________\n"
          ]
        }
      ],
      "source": [
        "model_2 = Sequential()\n",
        "\n",
        "model_2.add(Conv2D(24, kernel_size=(8, 8), padding='same', activation='relu', input_shape=X_train.shape[1:]))\n",
        "model_2.add(MaxPooling2D(pool_size=(2, 2)))\n",
        "\n",
        "model_2.add(Conv2D(48, kernel_size=(3, 3), padding='same', activation='relu'))\n",
        "model_2.add(MaxPooling2D(pool_size=(2, 2)))\n",
        "\n",
        "model_2.add(Flatten())\n",
        "model_2.add(Dense(512, activation='relu'))\n",
        "model_2.add(Dense(num_classes, activation='softmax'))\n",
        "\n",
        "model_2.summary()\n",
        "\n",
        "model_2.compile(loss='categorical_crossentropy',\n",
        "                   optimizer='Adam',\n",
        "                   metrics=['accuracy'])"
      ]
    },
    {
      "cell_type": "code",
      "execution_count": 86,
      "metadata": {},
      "outputs": [
        {
          "name": "stdout",
          "output_type": "stream",
          "text": [
            "Epoch 1/5\n",
            "391/391 [==============================] - 100s 255ms/step - loss: 1.5162 - accuracy: 0.4590 - val_loss: 1.2557 - val_accuracy: 0.5547\n",
            "Epoch 2/5\n",
            "391/391 [==============================] - 105s 267ms/step - loss: 1.1766 - accuracy: 0.5864 - val_loss: 1.1268 - val_accuracy: 0.5983\n",
            "Epoch 3/5\n",
            "391/391 [==============================] - 104s 266ms/step - loss: 1.0175 - accuracy: 0.6435 - val_loss: 1.0350 - val_accuracy: 0.6344\n",
            "Epoch 4/5\n",
            "391/391 [==============================] - 103s 264ms/step - loss: 0.9045 - accuracy: 0.6827 - val_loss: 1.0577 - val_accuracy: 0.6376\n",
            "Epoch 5/5\n",
            "391/391 [==============================] - 101s 259ms/step - loss: 0.7885 - accuracy: 0.7219 - val_loss: 0.9941 - val_accuracy: 0.6585\n",
            "313/313 [==============================] - 10s 32ms/step - loss: 0.9941 - accuracy: 0.6585\n"
          ]
        }
      ],
      "source": [
        "history = model_2.fit(X_train, y_train,\n",
        "               epochs=num_epochs,\n",
        "               batch_size=batch_size,\n",
        "               validation_data=(X_test, y_test),\n",
        "               verbose=1)\n",
        "\n",
        "loss, metric = model_2.evaluate(X_test, y_test)"
      ]
    },
    {
      "cell_type": "code",
      "execution_count": 87,
      "metadata": {},
      "outputs": [
        {
          "data": {
            "text/html": [
              "<div>\n",
              "<style scoped>\n",
              "    .dataframe tbody tr th:only-of-type {\n",
              "        vertical-align: middle;\n",
              "    }\n",
              "\n",
              "    .dataframe tbody tr th {\n",
              "        vertical-align: top;\n",
              "    }\n",
              "\n",
              "    .dataframe thead th {\n",
              "        text-align: right;\n",
              "    }\n",
              "</style>\n",
              "<table border=\"1\" class=\"dataframe\">\n",
              "  <thead>\n",
              "    <tr style=\"text-align: right;\">\n",
              "      <th></th>\n",
              "      <th>Название модели</th>\n",
              "      <th>Кол-во сверточных слоев</th>\n",
              "      <th>Кол-во фильтров</th>\n",
              "      <th>Accuracy test</th>\n",
              "    </tr>\n",
              "  </thead>\n",
              "  <tbody>\n",
              "    <tr>\n",
              "      <th>0</th>\n",
              "      <td>Базовое решение</td>\n",
              "      <td>2</td>\n",
              "      <td>18</td>\n",
              "      <td>0.5963</td>\n",
              "    </tr>\n",
              "    <tr>\n",
              "      <th>1</th>\n",
              "      <td>Модель №1</td>\n",
              "      <td>2</td>\n",
              "      <td>36</td>\n",
              "      <td>0.6493</td>\n",
              "    </tr>\n",
              "    <tr>\n",
              "      <th>2</th>\n",
              "      <td>Модель №2</td>\n",
              "      <td>2</td>\n",
              "      <td>50</td>\n",
              "      <td>0.6456</td>\n",
              "    </tr>\n",
              "    <tr>\n",
              "      <th>3</th>\n",
              "      <td>Модель №2</td>\n",
              "      <td>2</td>\n",
              "      <td>72</td>\n",
              "      <td>0.6585</td>\n",
              "    </tr>\n",
              "  </tbody>\n",
              "</table>\n",
              "</div>"
            ],
            "text/plain": [
              "   Название модели Кол-во сверточных слоев Кол-во фильтров  Accuracy test\n",
              "0  Базовое решение                       2              18         0.5963\n",
              "1        Модель №1                       2              36         0.6493\n",
              "2        Модель №2                       2              50         0.6456\n",
              "3        Модель №2                       2              72         0.6585"
            ]
          },
          "execution_count": 87,
          "metadata": {},
          "output_type": "execute_result"
        }
      ],
      "source": [
        "stata = stata.append({'Название модели': 'Модель №2',\n",
        "                     'Кол-во сверточных слоев': 2,\n",
        "                     'Кол-во фильтров': 24 + 48,\n",
        "                     'Accuracy test': metric},\n",
        "                     ignore_index=True)\n",
        "stata"
      ]
    },
    {
      "cell_type": "markdown",
      "metadata": {},
      "source": [
        "# 3. Увеличение глубины сети (количества слоев)"
      ]
    },
    {
      "cell_type": "markdown",
      "metadata": {},
      "source": [
        "# 3.1 Сеть model_3"
      ]
    },
    {
      "cell_type": "code",
      "execution_count": 90,
      "metadata": {},
      "outputs": [
        {
          "name": "stdout",
          "output_type": "stream",
          "text": [
            "Model: \"sequential_11\"\n",
            "_________________________________________________________________\n",
            " Layer (type)                Output Shape              Param #   \n",
            "=================================================================\n",
            " conv2d_25 (Conv2D)          (None, 32, 32, 4)         772       \n",
            "                                                                 \n"
          ]
        },
        {
          "name": "stdout",
          "output_type": "stream",
          "text": [
            " max_pooling2d_25 (MaxPoolin  (None, 16, 16, 4)        0         \n",
            " g2D)                                                            \n",
            "                                                                 \n",
            " conv2d_26 (Conv2D)          (None, 16, 16, 6)         870       \n",
            "                                                                 \n",
            " max_pooling2d_26 (MaxPoolin  (None, 8, 8, 6)          0         \n",
            " g2D)                                                            \n",
            "                                                                 \n",
            " conv2d_27 (Conv2D)          (None, 8, 8, 8)           440       \n",
            "                                                                 \n",
            " max_pooling2d_27 (MaxPoolin  (None, 4, 4, 8)          0         \n",
            " g2D)                                                            \n",
            "                                                                 \n",
            " flatten_11 (Flatten)        (None, 128)               0         \n",
            "                                                                 \n",
            " dense_22 (Dense)            (None, 512)               66048     \n",
            "                                                                 \n",
            " dense_23 (Dense)            (None, 10)                5130      \n",
            "                                                                 \n",
            "=================================================================\n",
            "Total params: 73,260\n",
            "Trainable params: 73,260\n",
            "Non-trainable params: 0\n",
            "_________________________________________________________________\n"
          ]
        }
      ],
      "source": [
        "model_3 = Sequential()\n",
        "\n",
        "model_3.add(Conv2D(4, kernel_size=(8, 8), padding='same', activation='relu', input_shape=X_train.shape[1:]))\n",
        "model_3.add(MaxPooling2D(pool_size=(2, 2)))\n",
        "\n",
        "model_3.add(Conv2D(6, kernel_size=(6, 6), padding='same', activation='relu'))\n",
        "model_3.add(MaxPooling2D(pool_size=(2, 2)))\n",
        "\n",
        "model_3.add(Conv2D(8, kernel_size=(3, 3), padding='same', activation='relu'))\n",
        "model_3.add(MaxPooling2D(pool_size=(2, 2)))\n",
        "\n",
        "model_3.add(Flatten())\n",
        "model_3.add(Dense(512, activation='relu'))\n",
        "model_3.add(Dense(num_classes, activation='softmax'))\n",
        "\n",
        "model_3.summary()\n",
        "\n",
        "model_3.compile(loss='categorical_crossentropy',\n",
        "                   optimizer='Adam',\n",
        "                   metrics=['accuracy'])"
      ]
    },
    {
      "cell_type": "code",
      "execution_count": 91,
      "metadata": {},
      "outputs": [
        {
          "name": "stdout",
          "output_type": "stream",
          "text": [
            "Epoch 1/5\n",
            "391/391 [==============================] - 63s 161ms/step - loss: 1.7912 - accuracy: 0.3519 - val_loss: 1.6002 - val_accuracy: 0.4312\n",
            "Epoch 2/5\n",
            "391/391 [==============================] - 63s 162ms/step - loss: 1.5505 - accuracy: 0.4418 - val_loss: 1.5459 - val_accuracy: 0.4567\n",
            "Epoch 3/5\n",
            "391/391 [==============================] - 61s 154ms/step - loss: 1.4742 - accuracy: 0.4713 - val_loss: 1.4262 - val_accuracy: 0.4926\n",
            "Epoch 4/5\n",
            "391/391 [==============================] - 58s 148ms/step - loss: 1.4123 - accuracy: 0.4954 - val_loss: 1.3949 - val_accuracy: 0.4975\n",
            "Epoch 5/5\n",
            "391/391 [==============================] - 57s 145ms/step - loss: 1.3732 - accuracy: 0.5102 - val_loss: 1.3545 - val_accuracy: 0.5204\n",
            "313/313 [==============================] - 5s 15ms/step - loss: 1.3545 - accuracy: 0.5204\n"
          ]
        }
      ],
      "source": [
        "history = model_3.fit(X_train, y_train,\n",
        "               epochs=num_epochs,\n",
        "               batch_size=batch_size,\n",
        "               validation_data=(X_test, y_test),\n",
        "               verbose=1)\n",
        "\n",
        "loss, metric = model_3.evaluate(X_test, y_test)"
      ]
    },
    {
      "cell_type": "code",
      "execution_count": 92,
      "metadata": {},
      "outputs": [
        {
          "data": {
            "text/html": [
              "<div>\n",
              "<style scoped>\n",
              "    .dataframe tbody tr th:only-of-type {\n",
              "        vertical-align: middle;\n",
              "    }\n",
              "\n",
              "    .dataframe tbody tr th {\n",
              "        vertical-align: top;\n",
              "    }\n",
              "\n",
              "    .dataframe thead th {\n",
              "        text-align: right;\n",
              "    }\n",
              "</style>\n",
              "<table border=\"1\" class=\"dataframe\">\n",
              "  <thead>\n",
              "    <tr style=\"text-align: right;\">\n",
              "      <th></th>\n",
              "      <th>index</th>\n",
              "      <th>Название модели</th>\n",
              "      <th>Кол-во сверточных слоев</th>\n",
              "      <th>Кол-во фильтров</th>\n",
              "      <th>Accuracy test</th>\n",
              "    </tr>\n",
              "  </thead>\n",
              "  <tbody>\n",
              "    <tr>\n",
              "      <th>0</th>\n",
              "      <td>0.0</td>\n",
              "      <td>Базовое решение</td>\n",
              "      <td>2</td>\n",
              "      <td>18</td>\n",
              "      <td>0.5963</td>\n",
              "    </tr>\n",
              "    <tr>\n",
              "      <th>1</th>\n",
              "      <td>1.0</td>\n",
              "      <td>Модель №1</td>\n",
              "      <td>2</td>\n",
              "      <td>36</td>\n",
              "      <td>0.6493</td>\n",
              "    </tr>\n",
              "    <tr>\n",
              "      <th>2</th>\n",
              "      <td>3.0</td>\n",
              "      <td>Модель №2</td>\n",
              "      <td>2</td>\n",
              "      <td>72</td>\n",
              "      <td>0.6585</td>\n",
              "    </tr>\n",
              "    <tr>\n",
              "      <th>3</th>\n",
              "      <td>NaN</td>\n",
              "      <td>Модель №3</td>\n",
              "      <td>3</td>\n",
              "      <td>18</td>\n",
              "      <td>0.5204</td>\n",
              "    </tr>\n",
              "  </tbody>\n",
              "</table>\n",
              "</div>"
            ],
            "text/plain": [
              "   index  Название модели Кол-во сверточных слоев Кол-во фильтров  \\\n",
              "0    0.0  Базовое решение                       2              18   \n",
              "1    1.0        Модель №1                       2              36   \n",
              "2    3.0        Модель №2                       2              72   \n",
              "3    NaN        Модель №3                       3              18   \n",
              "\n",
              "   Accuracy test  \n",
              "0         0.5963  \n",
              "1         0.6493  \n",
              "2         0.6585  \n",
              "3         0.5204  "
            ]
          },
          "execution_count": 92,
          "metadata": {},
          "output_type": "execute_result"
        }
      ],
      "source": [
        "stata = stata.append({'Название модели': 'Модель №3',\n",
        "                     'Кол-во сверточных слоев': 3,\n",
        "                     'Кол-во фильтров': 4 + 6 + 8,\n",
        "                     'Accuracy test': metric},\n",
        "                     ignore_index=True)\n",
        "stata"
      ]
    },
    {
      "cell_type": "markdown",
      "metadata": {},
      "source": [
        "# 3.2 Сеть model_4"
      ]
    },
    {
      "cell_type": "code",
      "execution_count": 98,
      "metadata": {},
      "outputs": [
        {
          "name": "stdout",
          "output_type": "stream",
          "text": [
            "Model: \"sequential_12\"\n",
            "_________________________________________________________________\n",
            " Layer (type)                Output Shape              Param #   \n",
            "=================================================================\n",
            " conv2d_28 (Conv2D)          (None, 32, 32, 3)         579       \n",
            "                                                                 \n",
            " max_pooling2d_28 (MaxPoolin  (None, 16, 16, 3)        0         \n",
            " g2D)                                                            \n",
            "                                                                 \n",
            " conv2d_29 (Conv2D)          (None, 16, 16, 4)         436       \n",
            "                                                                 \n",
            " max_pooling2d_29 (MaxPoolin  (None, 8, 8, 4)          0         \n",
            " g2D)                                                            \n",
            "                                                                 \n",
            " conv2d_30 (Conv2D)          (None, 8, 8, 5)           505       \n",
            "                                                                 \n",
            " max_pooling2d_30 (MaxPoolin  (None, 4, 4, 5)          0         \n",
            " g2D)                                                            \n",
            "                                                                 \n",
            " conv2d_31 (Conv2D)          (None, 4, 4, 6)           276       \n",
            "                                                                 \n",
            " max_pooling2d_31 (MaxPoolin  (None, 2, 2, 6)          0         \n",
            " g2D)                                                            \n",
            "                                                                 \n",
            " flatten_12 (Flatten)        (None, 24)                0         \n",
            "                                                                 \n",
            " dense_24 (Dense)            (None, 512)               12800     \n",
            "                                                                 \n",
            " dense_25 (Dense)            (None, 10)                5130      \n",
            "                                                                 \n",
            "=================================================================\n",
            "Total params: 19,726\n",
            "Trainable params: 19,726\n",
            "Non-trainable params: 0\n",
            "_________________________________________________________________\n"
          ]
        }
      ],
      "source": [
        "model_4 = Sequential()\n",
        "\n",
        "model_4.add(Conv2D(3, kernel_size=(8, 8), padding='same', activation='relu', input_shape=X_train.shape[1:]))\n",
        "model_4.add(MaxPooling2D(pool_size=(2, 2)))\n",
        "\n",
        "model_4.add(Conv2D(4, kernel_size=(6, 6), padding='same', activation='relu'))\n",
        "model_4.add(MaxPooling2D(pool_size=(2, 2)))\n",
        "\n",
        "model_4.add(Conv2D(5, kernel_size=(5, 5), padding='same', activation='relu'))\n",
        "model_4.add(MaxPooling2D(pool_size=(2, 2)))\n",
        "\n",
        "model_4.add(Conv2D(6, kernel_size=(3, 3), padding='same', activation='relu'))\n",
        "model_4.add(MaxPooling2D(pool_size=(2, 2)))\n",
        "\n",
        "model_4.add(Flatten())\n",
        "model_4.add(Dense(512, activation='relu'))\n",
        "model_4.add(Dense(num_classes, activation='softmax'))\n",
        "\n",
        "model_4.summary()\n",
        "\n",
        "model_4.compile(loss='categorical_crossentropy',\n",
        "                   optimizer='Adam',\n",
        "                   metrics=['accuracy'])"
      ]
    },
    {
      "cell_type": "code",
      "execution_count": 99,
      "metadata": {},
      "outputs": [
        {
          "name": "stdout",
          "output_type": "stream",
          "text": [
            "Epoch 1/5\n",
            "391/391 [==============================] - 64s 160ms/step - loss: 1.9178 - accuracy: 0.2906 - val_loss: 1.7318 - val_accuracy: 0.3648\n",
            "Epoch 2/5\n",
            "391/391 [==============================] - 61s 156ms/step - loss: 1.6698 - accuracy: 0.3907 - val_loss: 1.6235 - val_accuracy: 0.4073\n",
            "Epoch 3/5\n",
            "391/391 [==============================] - 60s 153ms/step - loss: 1.6011 - accuracy: 0.4181 - val_loss: 1.5719 - val_accuracy: 0.4343\n",
            "Epoch 4/5\n",
            "391/391 [==============================] - 55s 140ms/step - loss: 1.5561 - accuracy: 0.4331 - val_loss: 1.5774 - val_accuracy: 0.4287\n",
            "Epoch 5/5\n",
            "391/391 [==============================] - 53s 136ms/step - loss: 1.5314 - accuracy: 0.4459 - val_loss: 1.4990 - val_accuracy: 0.4550\n",
            "313/313 [==============================] - 5s 17ms/step - loss: 1.4990 - accuracy: 0.4550\n"
          ]
        }
      ],
      "source": [
        "history = model_4.fit(X_train, y_train,\n",
        "               epochs=num_epochs,\n",
        "               batch_size=batch_size,\n",
        "               validation_data=(X_test, y_test),\n",
        "               verbose=1)\n",
        "\n",
        "loss, metric = model_4.evaluate(X_test, y_test)"
      ]
    },
    {
      "cell_type": "code",
      "execution_count": 100,
      "metadata": {},
      "outputs": [
        {
          "data": {
            "text/html": [
              "<div>\n",
              "<style scoped>\n",
              "    .dataframe tbody tr th:only-of-type {\n",
              "        vertical-align: middle;\n",
              "    }\n",
              "\n",
              "    .dataframe tbody tr th {\n",
              "        vertical-align: top;\n",
              "    }\n",
              "\n",
              "    .dataframe thead th {\n",
              "        text-align: right;\n",
              "    }\n",
              "</style>\n",
              "<table border=\"1\" class=\"dataframe\">\n",
              "  <thead>\n",
              "    <tr style=\"text-align: right;\">\n",
              "      <th></th>\n",
              "      <th>Название модели</th>\n",
              "      <th>Кол-во сверточных слоев</th>\n",
              "      <th>Кол-во фильтров</th>\n",
              "      <th>Accuracy test</th>\n",
              "    </tr>\n",
              "  </thead>\n",
              "  <tbody>\n",
              "    <tr>\n",
              "      <th>0</th>\n",
              "      <td>Базовое решение</td>\n",
              "      <td>2</td>\n",
              "      <td>18</td>\n",
              "      <td>0.5963</td>\n",
              "    </tr>\n",
              "    <tr>\n",
              "      <th>1</th>\n",
              "      <td>Модель №1</td>\n",
              "      <td>2</td>\n",
              "      <td>36</td>\n",
              "      <td>0.6493</td>\n",
              "    </tr>\n",
              "    <tr>\n",
              "      <th>2</th>\n",
              "      <td>Модель №2</td>\n",
              "      <td>2</td>\n",
              "      <td>72</td>\n",
              "      <td>0.6585</td>\n",
              "    </tr>\n",
              "    <tr>\n",
              "      <th>3</th>\n",
              "      <td>Модель №3</td>\n",
              "      <td>3</td>\n",
              "      <td>18</td>\n",
              "      <td>0.5204</td>\n",
              "    </tr>\n",
              "    <tr>\n",
              "      <th>4</th>\n",
              "      <td>Модель №4</td>\n",
              "      <td>4</td>\n",
              "      <td>18</td>\n",
              "      <td>0.4550</td>\n",
              "    </tr>\n",
              "  </tbody>\n",
              "</table>\n",
              "</div>"
            ],
            "text/plain": [
              "   Название модели Кол-во сверточных слоев Кол-во фильтров  Accuracy test\n",
              "0  Базовое решение                       2              18         0.5963\n",
              "1        Модель №1                       2              36         0.6493\n",
              "2        Модель №2                       2              72         0.6585\n",
              "3        Модель №3                       3              18         0.5204\n",
              "4        Модель №4                       4              18         0.4550"
            ]
          },
          "execution_count": 100,
          "metadata": {},
          "output_type": "execute_result"
        }
      ],
      "source": [
        "stata = stata.append({'Название модели': 'Модель №4',\n",
        "                     'Кол-во сверточных слоев': 4,\n",
        "                     'Кол-во фильтров': 3 + 4 + 5 + 6,\n",
        "                     'Accuracy test': metric},\n",
        "                     ignore_index=True)\n",
        "stata"
      ]
    },
    {
      "cell_type": "markdown",
      "metadata": {},
      "source": [
        "# 3.3 Дообучим сеть model_3 ещё на протяжении 5 эпох"
      ]
    },
    {
      "cell_type": "code",
      "execution_count": 101,
      "metadata": {},
      "outputs": [
        {
          "name": "stdout",
          "output_type": "stream",
          "text": [
            "Epoch 1/5\n",
            "391/391 [==============================] - 72s 184ms/step - loss: 1.3295 - accuracy: 0.5278 - val_loss: 1.3388 - val_accuracy: 0.5194\n",
            "Epoch 2/5\n",
            "391/391 [==============================] - 72s 184ms/step - loss: 1.2923 - accuracy: 0.5412 - val_loss: 1.3921 - val_accuracy: 0.5073\n",
            "Epoch 3/5\n",
            "391/391 [==============================] - 60s 153ms/step - loss: 1.2485 - accuracy: 0.5575 - val_loss: 1.2849 - val_accuracy: 0.5419\n",
            "Epoch 4/5\n",
            "391/391 [==============================] - 55s 140ms/step - loss: 1.2147 - accuracy: 0.5689 - val_loss: 1.2829 - val_accuracy: 0.5403\n",
            "Epoch 5/5\n",
            "391/391 [==============================] - 51s 131ms/step - loss: 1.1914 - accuracy: 0.5775 - val_loss: 1.2773 - val_accuracy: 0.5477\n",
            "313/313 [==============================] - 5s 16ms/step - loss: 1.2773 - accuracy: 0.5477\n"
          ]
        }
      ],
      "source": [
        "history = model_3.fit(X_train, y_train,\n",
        "               epochs=num_epochs,\n",
        "               batch_size=batch_size,\n",
        "               validation_data=(X_test, y_test),\n",
        "               verbose=1)\n",
        "\n",
        "loss, metric = model_3.evaluate(X_test, y_test)"
      ]
    },
    {
      "cell_type": "code",
      "execution_count": 102,
      "metadata": {},
      "outputs": [
        {
          "data": {
            "text/html": [
              "<div>\n",
              "<style scoped>\n",
              "    .dataframe tbody tr th:only-of-type {\n",
              "        vertical-align: middle;\n",
              "    }\n",
              "\n",
              "    .dataframe tbody tr th {\n",
              "        vertical-align: top;\n",
              "    }\n",
              "\n",
              "    .dataframe thead th {\n",
              "        text-align: right;\n",
              "    }\n",
              "</style>\n",
              "<table border=\"1\" class=\"dataframe\">\n",
              "  <thead>\n",
              "    <tr style=\"text-align: right;\">\n",
              "      <th></th>\n",
              "      <th>Название модели</th>\n",
              "      <th>Кол-во сверточных слоев</th>\n",
              "      <th>Кол-во фильтров</th>\n",
              "      <th>Accuracy test</th>\n",
              "    </tr>\n",
              "  </thead>\n",
              "  <tbody>\n",
              "    <tr>\n",
              "      <th>0</th>\n",
              "      <td>Базовое решение</td>\n",
              "      <td>2</td>\n",
              "      <td>18</td>\n",
              "      <td>0.5963</td>\n",
              "    </tr>\n",
              "    <tr>\n",
              "      <th>1</th>\n",
              "      <td>Модель №1</td>\n",
              "      <td>2</td>\n",
              "      <td>36</td>\n",
              "      <td>0.6493</td>\n",
              "    </tr>\n",
              "    <tr>\n",
              "      <th>2</th>\n",
              "      <td>Модель №2</td>\n",
              "      <td>2</td>\n",
              "      <td>72</td>\n",
              "      <td>0.6585</td>\n",
              "    </tr>\n",
              "    <tr>\n",
              "      <th>3</th>\n",
              "      <td>Модель №3</td>\n",
              "      <td>3</td>\n",
              "      <td>18</td>\n",
              "      <td>0.5204</td>\n",
              "    </tr>\n",
              "    <tr>\n",
              "      <th>4</th>\n",
              "      <td>Модель №4</td>\n",
              "      <td>4</td>\n",
              "      <td>18</td>\n",
              "      <td>0.4550</td>\n",
              "    </tr>\n",
              "    <tr>\n",
              "      <th>5</th>\n",
              "      <td>Модель №3 (10 эпох)</td>\n",
              "      <td>3</td>\n",
              "      <td>18</td>\n",
              "      <td>0.5477</td>\n",
              "    </tr>\n",
              "  </tbody>\n",
              "</table>\n",
              "</div>"
            ],
            "text/plain": [
              "       Название модели Кол-во сверточных слоев Кол-во фильтров  Accuracy test\n",
              "0      Базовое решение                       2              18         0.5963\n",
              "1            Модель №1                       2              36         0.6493\n",
              "2            Модель №2                       2              72         0.6585\n",
              "3            Модель №3                       3              18         0.5204\n",
              "4            Модель №4                       4              18         0.4550\n",
              "5  Модель №3 (10 эпох)                       3              18         0.5477"
            ]
          },
          "execution_count": 102,
          "metadata": {},
          "output_type": "execute_result"
        }
      ],
      "source": [
        "stata = stata.append({'Название модели': 'Модель №3 (10 эпох)',\n",
        "                     'Кол-во сверточных слоев': 3,\n",
        "                     'Кол-во фильтров': 4 + 6 + 8,\n",
        "                     'Accuracy test': metric},\n",
        "                     ignore_index=True)\n",
        "stata"
      ]
    },
    {
      "cell_type": "markdown",
      "metadata": {},
      "source": [
        "# 4. Полносвязная сеть"
      ]
    },
    {
      "cell_type": "code",
      "execution_count": 103,
      "metadata": {},
      "outputs": [
        {
          "data": {
            "text/plain": [
              "(50000, 32, 32, 3)"
            ]
          },
          "execution_count": 103,
          "metadata": {},
          "output_type": "execute_result"
        }
      ],
      "source": [
        "X_train.shape"
      ]
    },
    {
      "cell_type": "code",
      "execution_count": 104,
      "metadata": {},
      "outputs": [
        {
          "data": {
            "text/plain": [
              "((50000, 3072), (10000, 3072))"
            ]
          },
          "execution_count": 104,
          "metadata": {},
          "output_type": "execute_result"
        }
      ],
      "source": [
        "# вытягивание данных в вектор\n",
        "X_train = X_train.reshape((-1, 32 * 32 * 3))\n",
        "X_test = X_test.reshape((-1, 32 * 32 * 3))\n",
        "\n",
        "X_train.shape, X_test.shape"
      ]
    },
    {
      "cell_type": "code",
      "execution_count": 111,
      "metadata": {},
      "outputs": [
        {
          "name": "stdout",
          "output_type": "stream",
          "text": [
            "Model: \"sequential_16\"\n",
            "_________________________________________________________________\n",
            " Layer (type)                Output Shape              Param #   \n",
            "=================================================================\n",
            " dense_38 (Dense)            (None, 256)               786688    \n",
            "                                                                 \n",
            " dense_39 (Dense)            (None, 128)               32896     \n",
            "                                                                 \n",
            " dense_40 (Dense)            (None, 64)                8256      \n"
          ]
        },
        {
          "name": "stdout",
          "output_type": "stream",
          "text": [
            "                                                                 \n",
            " dense_41 (Dense)            (None, 10)                650       \n",
            "                                                                 \n",
            "=================================================================\n",
            "Total params: 828,490\n",
            "Trainable params: 828,490\n",
            "Non-trainable params: 0\n",
            "_________________________________________________________________\n"
          ]
        }
      ],
      "source": [
        "dense_model = Sequential()\n",
        "dense_model.add(Dense(256, input_shape=(32 * 32 * 3,), activation='relu'))\n",
        "dense_model.add(Dense(128, activation='relu'))\n",
        "dense_model.add(Dense(64, activation='relu'))\n",
        "dense_model.add(Dense(num_classes, activation='sigmoid'))\n",
        "\n",
        "dense_model.summary()\n",
        "\n",
        "dense_model.compile(loss='categorical_crossentropy',\n",
        "                   optimizer='Adam',\n",
        "                   metrics=['accuracy'])"
      ]
    },
    {
      "cell_type": "code",
      "execution_count": 112,
      "metadata": {},
      "outputs": [
        {
          "name": "stdout",
          "output_type": "stream",
          "text": [
            "Epoch 1/5\n",
            "391/391 [==============================] - 8s 18ms/step - loss: 1.9045 - accuracy: 0.3166 - val_loss: 1.7958 - val_accuracy: 0.3618\n",
            "Epoch 2/5\n",
            "391/391 [==============================] - 6s 16ms/step - loss: 1.6986 - accuracy: 0.3926 - val_loss: 1.6445 - val_accuracy: 0.4226\n",
            "Epoch 3/5\n",
            "391/391 [==============================] - 6s 16ms/step - loss: 1.6097 - accuracy: 0.4259 - val_loss: 1.5675 - val_accuracy: 0.4465\n",
            "Epoch 4/5\n",
            "391/391 [==============================] - 6s 17ms/step - loss: 1.5481 - accuracy: 0.4472 - val_loss: 1.5720 - val_accuracy: 0.4408\n",
            "Epoch 5/5\n",
            "391/391 [==============================] - 7s 18ms/step - loss: 1.5086 - accuracy: 0.4633 - val_loss: 1.5542 - val_accuracy: 0.4548\n",
            "313/313 [==============================] - 1s 4ms/step - loss: 1.5542 - accuracy: 0.4548\n"
          ]
        }
      ],
      "source": [
        "history = dense_model.fit(X_train, y_train,\n",
        "               epochs=num_epochs,\n",
        "               batch_size=batch_size,\n",
        "               validation_data=(X_test, y_test),\n",
        "               verbose=1)\n",
        "\n",
        "loss, metric = dense_model.evaluate(X_test, y_test)"
      ]
    },
    {
      "cell_type": "code",
      "execution_count": 113,
      "metadata": {},
      "outputs": [
        {
          "data": {
            "text/html": [
              "<div>\n",
              "<style scoped>\n",
              "    .dataframe tbody tr th:only-of-type {\n",
              "        vertical-align: middle;\n",
              "    }\n",
              "\n",
              "    .dataframe tbody tr th {\n",
              "        vertical-align: top;\n",
              "    }\n",
              "\n",
              "    .dataframe thead th {\n",
              "        text-align: right;\n",
              "    }\n",
              "</style>\n",
              "<table border=\"1\" class=\"dataframe\">\n",
              "  <thead>\n",
              "    <tr style=\"text-align: right;\">\n",
              "      <th></th>\n",
              "      <th>Название модели</th>\n",
              "      <th>Кол-во сверточных слоев</th>\n",
              "      <th>Кол-во фильтров</th>\n",
              "      <th>Accuracy test</th>\n",
              "    </tr>\n",
              "  </thead>\n",
              "  <tbody>\n",
              "    <tr>\n",
              "      <th>0</th>\n",
              "      <td>Базовое решение</td>\n",
              "      <td>2</td>\n",
              "      <td>18</td>\n",
              "      <td>0.5963</td>\n",
              "    </tr>\n",
              "    <tr>\n",
              "      <th>1</th>\n",
              "      <td>Модель №1</td>\n",
              "      <td>2</td>\n",
              "      <td>36</td>\n",
              "      <td>0.6493</td>\n",
              "    </tr>\n",
              "    <tr>\n",
              "      <th>2</th>\n",
              "      <td>Модель №2</td>\n",
              "      <td>2</td>\n",
              "      <td>72</td>\n",
              "      <td>0.6585</td>\n",
              "    </tr>\n",
              "    <tr>\n",
              "      <th>3</th>\n",
              "      <td>Модель №3</td>\n",
              "      <td>3</td>\n",
              "      <td>18</td>\n",
              "      <td>0.5204</td>\n",
              "    </tr>\n",
              "    <tr>\n",
              "      <th>4</th>\n",
              "      <td>Модель №4</td>\n",
              "      <td>4</td>\n",
              "      <td>18</td>\n",
              "      <td>0.4550</td>\n",
              "    </tr>\n",
              "    <tr>\n",
              "      <th>5</th>\n",
              "      <td>Модель №3 (10 эпох)</td>\n",
              "      <td>3</td>\n",
              "      <td>18</td>\n",
              "      <td>0.5477</td>\n",
              "    </tr>\n",
              "    <tr>\n",
              "      <th>6</th>\n",
              "      <td>Полносвязная сеть</td>\n",
              "      <td>0</td>\n",
              "      <td>0</td>\n",
              "      <td>0.4539</td>\n",
              "    </tr>\n",
              "    <tr>\n",
              "      <th>7</th>\n",
              "      <td>Полносвязная сеть</td>\n",
              "      <td>0</td>\n",
              "      <td>0</td>\n",
              "      <td>0.4548</td>\n",
              "    </tr>\n",
              "  </tbody>\n",
              "</table>\n",
              "</div>"
            ],
            "text/plain": [
              "       Название модели Кол-во сверточных слоев Кол-во фильтров  Accuracy test\n",
              "0      Базовое решение                       2              18         0.5963\n",
              "1            Модель №1                       2              36         0.6493\n",
              "2            Модель №2                       2              72         0.6585\n",
              "3            Модель №3                       3              18         0.5204\n",
              "4            Модель №4                       4              18         0.4550\n",
              "5  Модель №3 (10 эпох)                       3              18         0.5477\n",
              "6    Полносвязная сеть                       0               0         0.4539\n",
              "7    Полносвязная сеть                       0               0         0.4548"
            ]
          },
          "execution_count": 113,
          "metadata": {},
          "output_type": "execute_result"
        }
      ],
      "source": [
        "stata = stata.append({'Название модели': 'Полносвязная сеть',\n",
        "                     'Кол-во сверточных слоев': 0,\n",
        "                     'Кол-во фильтров': 0,\n",
        "                     'Accuracy test': metric},\n",
        "                     ignore_index=True)\n",
        "stata"
      ]
    },
    {
      "cell_type": "markdown",
      "metadata": {},
      "source": [
        "# 5. Выводы"
      ]
    },
    {
      "cell_type": "code",
      "execution_count": 114,
      "metadata": {},
      "outputs": [
        {
          "data": {
            "text/html": [
              "<div>\n",
              "<style scoped>\n",
              "    .dataframe tbody tr th:only-of-type {\n",
              "        vertical-align: middle;\n",
              "    }\n",
              "\n",
              "    .dataframe tbody tr th {\n",
              "        vertical-align: top;\n",
              "    }\n",
              "\n",
              "    .dataframe thead th {\n",
              "        text-align: right;\n",
              "    }\n",
              "</style>\n",
              "<table border=\"1\" class=\"dataframe\">\n",
              "  <thead>\n",
              "    <tr style=\"text-align: right;\">\n",
              "      <th></th>\n",
              "      <th>Название модели</th>\n",
              "      <th>Кол-во сверточных слоев</th>\n",
              "      <th>Кол-во фильтров</th>\n",
              "      <th>Accuracy test</th>\n",
              "    </tr>\n",
              "  </thead>\n",
              "  <tbody>\n",
              "    <tr>\n",
              "      <th>2</th>\n",
              "      <td>Модель №2</td>\n",
              "      <td>2</td>\n",
              "      <td>72</td>\n",
              "      <td>0.6585</td>\n",
              "    </tr>\n",
              "    <tr>\n",
              "      <th>1</th>\n",
              "      <td>Модель №1</td>\n",
              "      <td>2</td>\n",
              "      <td>36</td>\n",
              "      <td>0.6493</td>\n",
              "    </tr>\n",
              "    <tr>\n",
              "      <th>0</th>\n",
              "      <td>Базовое решение</td>\n",
              "      <td>2</td>\n",
              "      <td>18</td>\n",
              "      <td>0.5963</td>\n",
              "    </tr>\n",
              "    <tr>\n",
              "      <th>5</th>\n",
              "      <td>Модель №3 (10 эпох)</td>\n",
              "      <td>3</td>\n",
              "      <td>18</td>\n",
              "      <td>0.5477</td>\n",
              "    </tr>\n",
              "    <tr>\n",
              "      <th>3</th>\n",
              "      <td>Модель №3</td>\n",
              "      <td>3</td>\n",
              "      <td>18</td>\n",
              "      <td>0.5204</td>\n",
              "    </tr>\n",
              "    <tr>\n",
              "      <th>4</th>\n",
              "      <td>Модель №4</td>\n",
              "      <td>4</td>\n",
              "      <td>18</td>\n",
              "      <td>0.4550</td>\n",
              "    </tr>\n",
              "    <tr>\n",
              "      <th>7</th>\n",
              "      <td>Полносвязная сеть</td>\n",
              "      <td>0</td>\n",
              "      <td>0</td>\n",
              "      <td>0.4548</td>\n",
              "    </tr>\n",
              "    <tr>\n",
              "      <th>6</th>\n",
              "      <td>Полносвязная сеть</td>\n",
              "      <td>0</td>\n",
              "      <td>0</td>\n",
              "      <td>0.4539</td>\n",
              "    </tr>\n",
              "  </tbody>\n",
              "</table>\n",
              "</div>"
            ],
            "text/plain": [
              "       Название модели Кол-во сверточных слоев Кол-во фильтров  Accuracy test\n",
              "2            Модель №2                       2              72         0.6585\n",
              "1            Модель №1                       2              36         0.6493\n",
              "0      Базовое решение                       2              18         0.5963\n",
              "5  Модель №3 (10 эпох)                       3              18         0.5477\n",
              "3            Модель №3                       3              18         0.5204\n",
              "4            Модель №4                       4              18         0.4550\n",
              "7    Полносвязная сеть                       0               0         0.4548\n",
              "6    Полносвязная сеть                       0               0         0.4539"
            ]
          },
          "execution_count": 114,
          "metadata": {},
          "output_type": "execute_result"
        }
      ],
      "source": [
        "stata.sort_values(['Accuracy test'], ascending=False, inplace=True)\n",
        "stata"
      ]
    },
    {
      "cell_type": "markdown",
      "metadata": {},
      "source": []
    }
  ],
  "metadata": {
    "accelerator": "TPU",
    "colab": {
      "provenance": []
    },
    "kernelspec": {
      "display_name": "Python 3",
      "name": "python3"
    },
    "language_info": {
      "codemirror_mode": {
        "name": "ipython",
        "version": 3
      },
      "file_extension": ".py",
      "mimetype": "text/x-python",
      "name": "python",
      "nbconvert_exporter": "python",
      "pygments_lexer": "ipython3",
      "version": "3.8.15"
    }
  },
  "nbformat": 4,
  "nbformat_minor": 0
}
