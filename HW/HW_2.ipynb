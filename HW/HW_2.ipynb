{
 "cells": [
  {
   "cell_type": "code",
   "execution_count": 1,
   "metadata": {},
   "outputs": [],
   "source": [
    "import numpy as np\n",
    "import pandas as pd\n",
    "import matplotlib.pyplot as plt\n",
    "\n",
    "import warnings\n",
    "warnings.filterwarnings('ignore')\n",
    "\n",
    "import tensorflow as tf\n",
    "tf.random.set_seed(42)"
   ]
  },
  {
   "cell_type": "markdown",
   "metadata": {},
   "source": [
    "# 0. Загрузка и визуализация данных"
   ]
  },
  {
   "cell_type": "code",
   "execution_count": 2,
   "metadata": {},
   "outputs": [
    {
     "data": {
      "text/plain": [
       "((60000, 785), (10000, 785))"
      ]
     },
     "execution_count": 2,
     "metadata": {},
     "output_type": "execute_result"
    }
   ],
   "source": [
    "df_train = pd.read_csv('../content/fashion-mnist/fashion-mnist_train.csv.zip')\n",
    "df_test = pd.read_csv('../content/fashion-mnist/fashion-mnist_test.csv.zip')\n",
    "\n",
    "df_train.shape, df_test.shape"
   ]
  },
  {
   "cell_type": "code",
   "execution_count": 3,
   "metadata": {},
   "outputs": [
    {
     "data": {
      "text/plain": [
       "(       pixel1  pixel2  pixel3  pixel4  pixel5  pixel6  pixel7  pixel8  pixel9  \\\n",
       " 0           0       0       0       0       0       0       0       0       0   \n",
       " 1           0       0       0       0       0       0       0       0       0   \n",
       " 2           0       0       0       0       0       0       0       5       0   \n",
       " 3           0       0       0       1       2       0       0       0       0   \n",
       " 4           0       0       0       0       0       0       0       0       0   \n",
       " ...       ...     ...     ...     ...     ...     ...     ...     ...     ...   \n",
       " 59995       0       0       0       0       0       0       0       0       0   \n",
       " 59996       0       0       0       0       0       0       0       0       0   \n",
       " 59997       0       0       0       0       0       0       0       0       0   \n",
       " 59998       0       0       0       0       0       0       0       0       0   \n",
       " 59999       0       0       0       0       0       0       0       0       0   \n",
       " \n",
       "        pixel10  ...  pixel775  pixel776  pixel777  pixel778  pixel779  \\\n",
       " 0            0  ...         0         0         0         0         0   \n",
       " 1            0  ...         0         0         0         0         0   \n",
       " 2            0  ...         0         0         0        30        43   \n",
       " 3            0  ...         3         0         0         0         0   \n",
       " 4            0  ...         0         0         0         0         0   \n",
       " ...        ...  ...       ...       ...       ...       ...       ...   \n",
       " 59995        0  ...         0         0         0         0         0   \n",
       " 59996        0  ...        73         0         0         0         0   \n",
       " 59997        0  ...       160       162       163       135        94   \n",
       " 59998        0  ...         0         0         0         0         0   \n",
       " 59999        0  ...         0         0         0         0         0   \n",
       " \n",
       "        pixel780  pixel781  pixel782  pixel783  pixel784  \n",
       " 0             0         0         0         0         0  \n",
       " 1             0         0         0         0         0  \n",
       " 2             0         0         0         0         0  \n",
       " 3             1         0         0         0         0  \n",
       " 4             0         0         0         0         0  \n",
       " ...         ...       ...       ...       ...       ...  \n",
       " 59995         0         0         0         0         0  \n",
       " 59996         0         0         0         0         0  \n",
       " 59997         0         0         0         0         0  \n",
       " 59998         0         0         0         0         0  \n",
       " 59999         0         0         0         0         0  \n",
       " \n",
       " [60000 rows x 784 columns],\n",
       " 0        2\n",
       " 1        9\n",
       " 2        6\n",
       " 3        0\n",
       " 4        3\n",
       "         ..\n",
       " 59995    9\n",
       " 59996    1\n",
       " 59997    8\n",
       " 59998    8\n",
       " 59999    7\n",
       " Name: label, Length: 60000, dtype: int64)"
      ]
     },
     "execution_count": 3,
     "metadata": {},
     "output_type": "execute_result"
    }
   ],
   "source": [
    "y_train_labels = df_train['label']\n",
    "y_test_labels = df_test['label']\n",
    "\n",
    "X_train = df_train.drop(columns='label')\n",
    "X_test = df_test.drop(columns='label')\n",
    "\n",
    "X_train, y_train_labels"
   ]
  },
  {
   "cell_type": "code",
   "execution_count": 4,
   "metadata": {},
   "outputs": [
    {
     "name": "stdout",
     "output_type": "stream",
     "text": [
      "Label is 6\n"
     ]
    },
    {
     "data": {
      "image/png": "[encoded data removed]",
      "text/plain": [
       "<Figure size 640x480 with 1 Axes>"
      ]
     },
     "metadata": {},
     "output_type": "display_data"
    }
   ],
   "source": [
    "ind = np.random.randint(0, X_train.shape[0])\n",
    "plt.imshow(np.array(X_train.iloc[ind]).reshape(28, 28), cmap='gray')\n",
    "print(f'Label is {y_train_labels[ind]}')"
   ]
  },
  {
   "cell_type": "markdown",
   "metadata": {},
   "source": [
    "# 1. Предобработка данных"
   ]
  },
  {
   "cell_type": "markdown",
   "metadata": {},
   "source": [
    "## 1.1 Нормировка признаков"
   ]
  },
  {
   "cell_type": "code",
   "execution_count": 5,
   "metadata": {},
   "outputs": [
    {
     "data": {
      "text/plain": [
       "(0.0, 1.0)"
      ]
     },
     "execution_count": 5,
     "metadata": {},
     "output_type": "execute_result"
    }
   ],
   "source": [
    "X_train /= 255.0\n",
    "X_test /= 255.0\n",
    "\n",
    "X_train.min(axis=1).min(), X_train.max(axis=1).max()"
   ]
  },
  {
   "cell_type": "code",
   "execution_count": 6,
   "metadata": {},
   "outputs": [
    {
     "data": {
      "text/plain": [
       "((60000, 784), (10000, 784))"
      ]
     },
     "execution_count": 6,
     "metadata": {},
     "output_type": "execute_result"
    }
   ],
   "source": [
    "X_train.shape, X_test.shape"
   ]
  },
  {
   "cell_type": "markdown",
   "metadata": {},
   "source": [
    "## 1.2 Обработка целевого признака"
   ]
  },
  {
   "cell_type": "code",
   "execution_count": 7,
   "metadata": {},
   "outputs": [],
   "source": [
    "from keras.utils.np_utils import to_categorical\n",
    "\n",
    "y_train = to_categorical(y_train_labels)\n",
    "y_test = to_categorical(y_test_labels)"
   ]
  },
  {
   "cell_type": "markdown",
   "metadata": {},
   "source": [
    "# 2. Исследование простых нейросетей"
   ]
  },
  {
   "cell_type": "markdown",
   "metadata": {},
   "source": [
    "## 2.1 В зависимости от числа нейронов слоя"
   ]
  },
  {
   "cell_type": "code",
   "execution_count": 8,
   "metadata": {},
   "outputs": [],
   "source": [
    "num_epochs = 5\n",
    "batch_size = 256"
   ]
  },
  {
   "cell_type": "code",
   "execution_count": 9,
   "metadata": {},
   "outputs": [
    {
     "data": {
      "text/html": [
       "<div>\n",
       "<style scoped>\n",
       "    .dataframe tbody tr th:only-of-type {\n",
       "        vertical-align: middle;\n",
       "    }\n",
       "\n",
       "    .dataframe tbody tr th {\n",
       "        vertical-align: top;\n",
       "    }\n",
       "\n",
       "    .dataframe thead th {\n",
       "        text-align: right;\n",
       "    }\n",
       "</style>\n",
       "<table border=\"1\" class=\"dataframe\">\n",
       "  <thead>\n",
       "    <tr style=\"text-align: right;\">\n",
       "      <th></th>\n",
       "      <th>Число нейронов слоя</th>\n",
       "      <th>accuracy_train</th>\n",
       "      <th>accuracy_test</th>\n",
       "    </tr>\n",
       "  </thead>\n",
       "  <tbody>\n",
       "  </tbody>\n",
       "</table>\n",
       "</div>"
      ],
      "text/plain": [
       "Empty DataFrame\n",
       "Columns: [Число нейронов слоя, accuracy_train, accuracy_test]\n",
       "Index: []"
      ]
     },
     "execution_count": 9,
     "metadata": {},
     "output_type": "execute_result"
    }
   ],
   "source": [
    "stata_1 = pd.DataFrame(columns=['Число нейронов слоя', 'accuracy_train', 'accuracy_test'])\n",
    "stata_1"
   ]
  },
  {
   "cell_type": "code",
   "execution_count": 10,
   "metadata": {},
   "outputs": [
    {
     "name": "stderr",
     "output_type": "stream",
     "text": [
      "2023-11-28 13:47:21.586335: I tensorflow/core/platform/cpu_feature_guard.cc:193] This TensorFlow binary is optimized with oneAPI Deep Neural Network Library (oneDNN) to use the following CPU instructions in performance-critical operations:  SSE4.1 SSE4.2 AVX AVX2 FMA\n",
      "To enable them in other operations, rebuild TensorFlow with the appropriate compiler flags.\n"
     ]
    },
    {
     "name": "stdout",
     "output_type": "stream",
     "text": [
      "Epoch 1/5\n",
      "235/235 [==============================] - 1s 4ms/step - loss: 1.5040 - accuracy: 0.4688 - val_loss: 1.1064 - val_accuracy: 0.6580\n",
      "Epoch 2/5\n",
      "235/235 [==============================] - 1s 4ms/step - loss: 0.8003 - accuracy: 0.7427 - val_loss: 0.6483 - val_accuracy: 0.7785\n",
      "Epoch 3/5\n",
      "235/235 [==============================] - 1s 5ms/step - loss: 0.6009 - accuracy: 0.7886 - val_loss: 0.5774 - val_accuracy: 0.7919\n",
      "Epoch 4/5\n",
      "235/235 [==============================] - 1s 5ms/step - loss: 0.5481 - accuracy: 0.8071 - val_loss: 0.5401 - val_accuracy: 0.8062\n",
      "Epoch 5/5\n",
      "235/235 [==============================] - 1s 5ms/step - loss: 0.5122 - accuracy: 0.8204 - val_loss: 0.5012 - val_accuracy: 0.8263\n",
      "****************************************************************************************************\n",
      "Epoch 1/5\n",
      "235/235 [==============================] - 2s 7ms/step - loss: 1.0467 - accuracy: 0.6436 - val_loss: 0.6376 - val_accuracy: 0.7865\n",
      "Epoch 2/5\n",
      "235/235 [==============================] - 2s 6ms/step - loss: 0.5590 - accuracy: 0.8116 - val_loss: 0.5176 - val_accuracy: 0.8270\n",
      "Epoch 3/5\n",
      "235/235 [==============================] - 1s 5ms/step - loss: 0.4878 - accuracy: 0.8322 - val_loss: 0.4733 - val_accuracy: 0.8382\n",
      "Epoch 4/5\n",
      "235/235 [==============================] - 1s 4ms/step - loss: 0.4577 - accuracy: 0.8398 - val_loss: 0.4610 - val_accuracy: 0.8395\n",
      "Epoch 5/5\n",
      "235/235 [==============================] - 1s 6ms/step - loss: 0.4347 - accuracy: 0.8471 - val_loss: 0.4366 - val_accuracy: 0.8489\n",
      "****************************************************************************************************\n",
      "Epoch 1/5\n",
      "235/235 [==============================] - 2s 7ms/step - loss: 0.7853 - accuracy: 0.7416 - val_loss: 0.5427 - val_accuracy: 0.8148\n",
      "Epoch 2/5\n",
      "235/235 [==============================] - 1s 6ms/step - loss: 0.4917 - accuracy: 0.8325 - val_loss: 0.4697 - val_accuracy: 0.8430\n",
      "Epoch 3/5\n",
      "235/235 [==============================] - 1s 6ms/step - loss: 0.4446 - accuracy: 0.8476 - val_loss: 0.4321 - val_accuracy: 0.8572\n",
      "Epoch 4/5\n",
      "235/235 [==============================] - 1s 6ms/step - loss: 0.4176 - accuracy: 0.8561 - val_loss: 0.4320 - val_accuracy: 0.8536\n",
      "Epoch 5/5\n",
      "235/235 [==============================] - 2s 7ms/step - loss: 0.3981 - accuracy: 0.8632 - val_loss: 0.4021 - val_accuracy: 0.8654\n",
      "****************************************************************************************************\n",
      "Epoch 1/5\n",
      "235/235 [==============================] - 2s 7ms/step - loss: 0.6885 - accuracy: 0.7673 - val_loss: 0.5077 - val_accuracy: 0.8328\n",
      "Epoch 2/5\n",
      "235/235 [==============================] - 2s 7ms/step - loss: 0.4579 - accuracy: 0.8414 - val_loss: 0.4352 - val_accuracy: 0.8538\n",
      "Epoch 3/5\n",
      "235/235 [==============================] - 1s 5ms/step - loss: 0.4163 - accuracy: 0.8558 - val_loss: 0.4045 - val_accuracy: 0.8618\n",
      "Epoch 4/5\n",
      "235/235 [==============================] - 1s 6ms/step - loss: 0.3912 - accuracy: 0.8638 - val_loss: 0.3996 - val_accuracy: 0.8611\n",
      "Epoch 5/5\n",
      "235/235 [==============================] - 1s 6ms/step - loss: 0.3719 - accuracy: 0.8694 - val_loss: 0.3749 - val_accuracy: 0.8702\n",
      "****************************************************************************************************\n",
      "Epoch 1/5\n",
      "235/235 [==============================] - 3s 10ms/step - loss: 0.6063 - accuracy: 0.7952 - val_loss: 0.4610 - val_accuracy: 0.8456\n",
      "Epoch 2/5\n",
      "235/235 [==============================] - 2s 8ms/step - loss: 0.4255 - accuracy: 0.8528 - val_loss: 0.4023 - val_accuracy: 0.8616\n",
      "Epoch 3/5\n",
      "235/235 [==============================] - 2s 7ms/step - loss: 0.3875 - accuracy: 0.8649 - val_loss: 0.3800 - val_accuracy: 0.8699\n",
      "Epoch 4/5\n",
      "235/235 [==============================] - 2s 8ms/step - loss: 0.3641 - accuracy: 0.8720 - val_loss: 0.3644 - val_accuracy: 0.8725\n",
      "Epoch 5/5\n",
      "235/235 [==============================] - 2s 7ms/step - loss: 0.3407 - accuracy: 0.8794 - val_loss: 0.3424 - val_accuracy: 0.8809\n",
      "****************************************************************************************************\n",
      "Epoch 1/5\n",
      "235/235 [==============================] - 3s 11ms/step - loss: 0.5770 - accuracy: 0.8019 - val_loss: 0.4792 - val_accuracy: 0.8355\n",
      "Epoch 2/5\n",
      "235/235 [==============================] - 2s 10ms/step - loss: 0.4099 - accuracy: 0.8566 - val_loss: 0.3895 - val_accuracy: 0.8645\n",
      "Epoch 3/5\n",
      "235/235 [==============================] - 2s 8ms/step - loss: 0.3674 - accuracy: 0.8708 - val_loss: 0.3657 - val_accuracy: 0.8700\n",
      "Epoch 4/5\n",
      "235/235 [==============================] - 2s 11ms/step - loss: 0.3421 - accuracy: 0.8792 - val_loss: 0.3437 - val_accuracy: 0.8777\n",
      "Epoch 5/5\n",
      "235/235 [==============================] - 2s 9ms/step - loss: 0.3197 - accuracy: 0.8859 - val_loss: 0.3308 - val_accuracy: 0.8811\n",
      "****************************************************************************************************\n",
      "Epoch 1/5\n",
      "235/235 [==============================] - 4s 15ms/step - loss: 0.5448 - accuracy: 0.8116 - val_loss: 0.4707 - val_accuracy: 0.8382\n",
      "Epoch 2/5\n",
      "235/235 [==============================] - 5s 19ms/step - loss: 0.3960 - accuracy: 0.8610 - val_loss: 0.3735 - val_accuracy: 0.8672\n",
      "Epoch 3/5\n",
      "235/235 [==============================] - 5s 21ms/step - loss: 0.3520 - accuracy: 0.8749 - val_loss: 0.3460 - val_accuracy: 0.8797\n",
      "Epoch 4/5\n",
      "235/235 [==============================] - 4s 15ms/step - loss: 0.3276 - accuracy: 0.8835 - val_loss: 0.3311 - val_accuracy: 0.8814\n",
      "Epoch 5/5\n",
      "235/235 [==============================] - 4s 16ms/step - loss: 0.3027 - accuracy: 0.8904 - val_loss: 0.3207 - val_accuracy: 0.8837\n",
      "****************************************************************************************************\n",
      "CPU times: user 1min 45s, sys: 9.76 s, total: 1min 54s\n",
      "Wall time: 1min 30s\n"
     ]
    }
   ],
   "source": [
    "%%time\n",
    "\n",
    "from keras.layers import Dense\n",
    "from keras.models import Sequential\n",
    "\n",
    "for nn in [8, 16, 32, 64, 128, 256, 512]:\n",
    "    tf.random.set_seed(42)\n",
    "    model = Sequential()\n",
    "    # входной слой за слой не считаем, только скрытый(-ые) и выходной\n",
    "    model.add(Dense(nn, input_shape=(28 * 28,), activation='relu'))\n",
    "    model.add(Dense(10, activation='sigmoid'))\n",
    "\n",
    "    model.compile(loss='categorical_crossentropy', optimizer='adam', metrics=['accuracy'])\n",
    "\n",
    "    history = model.fit(X_train, y_train,\n",
    "                    epochs=num_epochs,\n",
    "                    batch_size=batch_size,\n",
    "                    verbose=1,\n",
    "                    validation_data=(X_test, y_test)\n",
    "                    )\n",
    "    print(100 * '*')\n",
    "    train_loss, train_metric = model.evaluate(X_train, y_train, batch_size=batch_size, verbose=0)\n",
    "    test_loss, test_metric = model.evaluate(X_test, y_test, batch_size=batch_size, verbose=0)\n",
    "\n",
    "    stata_1 = stata_1.append(\n",
    "        {\n",
    "            'Число нейронов слоя': int(nn),\n",
    "            'accuracy_train': train_metric,\n",
    "            'accuracy_test': test_metric\n",
    "            },\n",
    "            ignore_index=True\n",
    "        )"
   ]
  },
  {
   "cell_type": "code",
   "execution_count": 11,
   "metadata": {},
   "outputs": [
    {
     "data": {
      "text/html": [
       "<div>\n",
       "<style scoped>\n",
       "    .dataframe tbody tr th:only-of-type {\n",
       "        vertical-align: middle;\n",
       "    }\n",
       "\n",
       "    .dataframe tbody tr th {\n",
       "        vertical-align: top;\n",
       "    }\n",
       "\n",
       "    .dataframe thead th {\n",
       "        text-align: right;\n",
       "    }\n",
       "</style>\n",
       "<table border=\"1\" class=\"dataframe\">\n",
       "  <thead>\n",
       "    <tr style=\"text-align: right;\">\n",
       "      <th></th>\n",
       "      <th>Число нейронов слоя</th>\n",
       "      <th>accuracy_train</th>\n",
       "      <th>accuracy_test</th>\n",
       "    </tr>\n",
       "  </thead>\n",
       "  <tbody>\n",
       "    <tr>\n",
       "      <th>0</th>\n",
       "      <td>8.0</td>\n",
       "      <td>0.828217</td>\n",
       "      <td>0.8263</td>\n",
       "    </tr>\n",
       "    <tr>\n",
       "      <th>1</th>\n",
       "      <td>16.0</td>\n",
       "      <td>0.850950</td>\n",
       "      <td>0.8489</td>\n",
       "    </tr>\n",
       "    <tr>\n",
       "      <th>2</th>\n",
       "      <td>32.0</td>\n",
       "      <td>0.869100</td>\n",
       "      <td>0.8654</td>\n",
       "    </tr>\n",
       "    <tr>\n",
       "      <th>3</th>\n",
       "      <td>64.0</td>\n",
       "      <td>0.877250</td>\n",
       "      <td>0.8702</td>\n",
       "    </tr>\n",
       "    <tr>\n",
       "      <th>4</th>\n",
       "      <td>128.0</td>\n",
       "      <td>0.887217</td>\n",
       "      <td>0.8809</td>\n",
       "    </tr>\n",
       "    <tr>\n",
       "      <th>5</th>\n",
       "      <td>256.0</td>\n",
       "      <td>0.891767</td>\n",
       "      <td>0.8811</td>\n",
       "    </tr>\n",
       "    <tr>\n",
       "      <th>6</th>\n",
       "      <td>512.0</td>\n",
       "      <td>0.895133</td>\n",
       "      <td>0.8837</td>\n",
       "    </tr>\n",
       "  </tbody>\n",
       "</table>\n",
       "</div>"
      ],
      "text/plain": [
       "   Число нейронов слоя  accuracy_train  accuracy_test\n",
       "0                  8.0        0.828217         0.8263\n",
       "1                 16.0        0.850950         0.8489\n",
       "2                 32.0        0.869100         0.8654\n",
       "3                 64.0        0.877250         0.8702\n",
       "4                128.0        0.887217         0.8809\n",
       "5                256.0        0.891767         0.8811\n",
       "6                512.0        0.895133         0.8837"
      ]
     },
     "execution_count": 11,
     "metadata": {},
     "output_type": "execute_result"
    }
   ],
   "source": [
    "stata_1"
   ]
  },
  {
   "cell_type": "code",
   "execution_count": 12,
   "metadata": {},
   "outputs": [
    {
     "data": {
      "image/png": "[encoded data removed]",
      "text/plain": [
       "<Figure size 800x600 with 1 Axes>"
      ]
     },
     "metadata": {},
     "output_type": "display_data"
    }
   ],
   "source": [
    "plt.figure(figsize=(8, 6))\n",
    "plt.plot(stata_1['Число нейронов слоя'], stata_1['accuracy_train'], label='train')\n",
    "plt.plot(stata_1['Число нейронов слоя'], stata_1['accuracy_test'], label='test')\n",
    "plt.xlabel('Число нейронов слоя')\n",
    "plt.ylabel('accuracy')\n",
    "plt.grid(alpha=.3)\n",
    "plt.legend(loc='best');"
   ]
  },
  {
   "cell_type": "markdown",
   "metadata": {},
   "source": [
    "**Выводы по п. 2.1:**\n",
    "\n",
    "Увеличение числа нейронов в скрытом слое сети ведет к улучшению точности классификации модели (и на тренировочных, и на тестовых даных)"
   ]
  },
  {
   "cell_type": "markdown",
   "metadata": {},
   "source": [
    "## 2.2 В зависимости от количества слоев (при близких размерах сети)"
   ]
  },
  {
   "cell_type": "code",
   "execution_count": 13,
   "metadata": {},
   "outputs": [
    {
     "data": {
      "text/html": [
       "<div>\n",
       "<style scoped>\n",
       "    .dataframe tbody tr th:only-of-type {\n",
       "        vertical-align: middle;\n",
       "    }\n",
       "\n",
       "    .dataframe tbody tr th {\n",
       "        vertical-align: top;\n",
       "    }\n",
       "\n",
       "    .dataframe thead th {\n",
       "        text-align: right;\n",
       "    }\n",
       "</style>\n",
       "<table border=\"1\" class=\"dataframe\">\n",
       "  <thead>\n",
       "    <tr style=\"text-align: right;\">\n",
       "      <th></th>\n",
       "      <th>Количество слоев</th>\n",
       "      <th>Количество параметров</th>\n",
       "      <th>accuracy_train</th>\n",
       "      <th>accuracy_test</th>\n",
       "    </tr>\n",
       "  </thead>\n",
       "  <tbody>\n",
       "  </tbody>\n",
       "</table>\n",
       "</div>"
      ],
      "text/plain": [
       "Empty DataFrame\n",
       "Columns: [Количество слоев, Количество параметров, accuracy_train, accuracy_test]\n",
       "Index: []"
      ]
     },
     "execution_count": 13,
     "metadata": {},
     "output_type": "execute_result"
    }
   ],
   "source": [
    "stata_2 = pd.DataFrame(columns=['Количество слоев', 'Количество параметров',\n",
    "                                'accuracy_train', 'accuracy_test']\n",
    "                                )\n",
    "stata_2"
   ]
  },
  {
   "cell_type": "code",
   "execution_count": 14,
   "metadata": {},
   "outputs": [
    {
     "name": "stdout",
     "output_type": "stream",
     "text": [
      "Model: \"sequential_7\"\n",
      "_________________________________________________________________\n",
      " Layer (type)                Output Shape              Param #   \n",
      "=================================================================\n",
      " dense_14 (Dense)            (None, 128)               100480    \n",
      "                                                                 \n",
      " dense_15 (Dense)            (None, 10)                1290      \n",
      "                                                                 \n"
     ]
    },
    {
     "name": "stdout",
     "output_type": "stream",
     "text": [
      "=================================================================\n",
      "Total params: 101,770\n",
      "Trainable params: 101,770\n",
      "Non-trainable params: 0\n",
      "_________________________________________________________________\n"
     ]
    }
   ],
   "source": [
    "model_2 = Sequential()\n",
    "model_2.add(Dense(128, input_shape=(28 * 28,), activation='relu'))\n",
    "model_2.add(Dense(10, activation='sigmoid'))\n",
    "model_2.summary()"
   ]
  },
  {
   "cell_type": "code",
   "execution_count": 15,
   "metadata": {},
   "outputs": [
    {
     "name": "stdout",
     "output_type": "stream",
     "text": [
      "Model: \"sequential_8\"\n",
      "_________________________________________________________________\n",
      " Layer (type)                Output Shape              Param #   \n",
      "=================================================================\n",
      " dense_16 (Dense)            (None, 115)               90275     \n",
      "                                                                 \n",
      " dense_17 (Dense)            (None, 90)                10440     \n",
      "                                                                 \n",
      " dense_18 (Dense)            (None, 10)                910       \n",
      "                                                                 \n",
      "=================================================================\n",
      "Total params: 101,625\n",
      "Trainable params: 101,625\n",
      "Non-trainable params: 0\n",
      "_________________________________________________________________\n"
     ]
    }
   ],
   "source": [
    "model_3 = Sequential()\n",
    "model_3.add(Dense(115, input_shape=(28 * 28,), activation='relu'))\n",
    "model_3.add(Dense(90, activation='relu'))\n",
    "model_3.add(Dense(10, activation='sigmoid'))\n",
    "model_3.summary()"
   ]
  },
  {
   "cell_type": "code",
   "execution_count": 16,
   "metadata": {},
   "outputs": [
    {
     "name": "stdout",
     "output_type": "stream",
     "text": [
      "Model: \"sequential_9\"\n",
      "_________________________________________________________________\n",
      " Layer (type)                Output Shape              Param #   \n",
      "=================================================================\n",
      " dense_19 (Dense)            (None, 103)               80855     \n",
      "                                                                 \n",
      " dense_20 (Dense)            (None, 94)                9776      \n",
      "                                                                 \n",
      " dense_21 (Dense)            (None, 75)                7125      \n",
      "                                                                 \n",
      " dense_22 (Dense)            (None, 46)                3496      \n",
      "                                                                 \n",
      " dense_23 (Dense)            (None, 10)                470       \n",
      "                                                                 \n",
      "=================================================================\n",
      "Total params: 101,722\n",
      "Trainable params: 101,722\n",
      "Non-trainable params: 0\n",
      "_________________________________________________________________\n"
     ]
    }
   ],
   "source": [
    "model_5 = Sequential()\n",
    "model_5.add(Dense(103, input_shape=(28 * 28,), activation='relu'))\n",
    "model_5.add(Dense(94, activation='relu'))\n",
    "model_5.add(Dense(75, activation='relu'))\n",
    "model_5.add(Dense(46, activation='relu'))\n",
    "model_5.add(Dense(10, activation='sigmoid'))\n",
    "model_5.summary()"
   ]
  },
  {
   "cell_type": "code",
   "execution_count": 17,
   "metadata": {},
   "outputs": [
    {
     "name": "stdout",
     "output_type": "stream",
     "text": [
      "Model: \"sequential_10\"\n",
      "_________________________________________________________________\n",
      " Layer (type)                Output Shape              Param #   \n",
      "=================================================================\n",
      " dense_24 (Dense)            (None, 92)                72220     \n",
      "                                                                 \n",
      " dense_25 (Dense)            (None, 88)                8184      \n",
      "                                                                 \n",
      " dense_26 (Dense)            (None, 76)                6764      \n",
      "                                                                 \n",
      " dense_27 (Dense)            (None, 67)                5159      \n",
      "                                                                 \n",
      " dense_28 (Dense)            (None, 56)                3808      \n",
      "                                                                 \n",
      " dense_29 (Dense)            (None, 44)                2508      \n",
      "                                                                 \n",
      " dense_30 (Dense)            (None, 32)                1440      \n",
      "                                                                 \n",
      " dense_31 (Dense)            (None, 29)                957       \n",
      "                                                                 \n",
      " dense_32 (Dense)            (None, 12)                360       \n",
      "                                                                 \n",
      " dense_33 (Dense)            (None, 10)                130       \n",
      "                                                                 \n",
      "=================================================================\n",
      "Total params: 101,530\n",
      "Trainable params: 101,530\n",
      "Non-trainable params: 0\n",
      "_________________________________________________________________\n"
     ]
    }
   ],
   "source": [
    "model_10 = Sequential()\n",
    "model_10.add(Dense(92, input_shape=(28 * 28,), activation='relu'))\n",
    "model_10.add(Dense(88, activation='relu'))\n",
    "model_10.add(Dense(76, activation='relu'))\n",
    "model_10.add(Dense(67, activation='relu'))\n",
    "model_10.add(Dense(56, activation='relu'))\n",
    "model_10.add(Dense(44, activation='relu'))\n",
    "model_10.add(Dense(32, activation='relu'))\n",
    "model_10.add(Dense(29, activation='relu'))\n",
    "model_10.add(Dense(12, activation='relu'))\n",
    "model_10.add(Dense(10, activation='sigmoid'))\n",
    "model_10.summary()"
   ]
  },
  {
   "cell_type": "code",
   "execution_count": 18,
   "metadata": {},
   "outputs": [],
   "source": [
    "models = [model_2, model_3, model_5, model_10]"
   ]
  },
  {
   "cell_type": "code",
   "execution_count": 19,
   "metadata": {},
   "outputs": [
    {
     "name": "stdout",
     "output_type": "stream",
     "text": [
      "Epoch 1/5\n",
      "235/235 [==============================] - 3s 7ms/step - loss: 1.7338 - accuracy: 0.4993 - val_loss: 1.3884 - val_accuracy: 0.6346\n",
      "Epoch 2/5\n",
      "235/235 [==============================] - 1s 6ms/step - loss: 1.2250 - accuracy: 0.6561 - val_loss: 1.1004 - val_accuracy: 0.6773\n",
      "Epoch 3/5\n",
      "235/235 [==============================] - 1s 5ms/step - loss: 1.0274 - accuracy: 0.6862 - val_loss: 0.9676 - val_accuracy: 0.6985\n",
      "Epoch 4/5\n",
      "235/235 [==============================] - 1s 6ms/step - loss: 0.9255 - accuracy: 0.7060 - val_loss: 0.8903 - val_accuracy: 0.7154\n",
      "Epoch 5/5\n",
      "235/235 [==============================] - 1s 6ms/step - loss: 0.8616 - accuracy: 0.7227 - val_loss: 0.8377 - val_accuracy: 0.7292\n",
      "****************************************************************************************************\n",
      "Epoch 1/5\n",
      "235/235 [==============================] - 4s 13ms/step - loss: 1.9850 - accuracy: 0.3824 - val_loss: 1.6645 - val_accuracy: 0.5821\n",
      "Epoch 2/5\n",
      "235/235 [==============================] - 2s 10ms/step - loss: 1.4488 - accuracy: 0.6203 - val_loss: 1.2635 - val_accuracy: 0.6408\n",
      "Epoch 3/5\n",
      "235/235 [==============================] - 2s 7ms/step - loss: 1.1544 - accuracy: 0.6506 - val_loss: 1.0604 - val_accuracy: 0.6627\n",
      "Epoch 4/5\n",
      "235/235 [==============================] - 2s 7ms/step - loss: 1.0010 - accuracy: 0.6732 - val_loss: 0.9476 - val_accuracy: 0.6861\n",
      "Epoch 5/5\n",
      "235/235 [==============================] - 2s 8ms/step - loss: 0.9099 - accuracy: 0.6949 - val_loss: 0.8756 - val_accuracy: 0.7065\n",
      "****************************************************************************************************\n",
      "Epoch 1/5\n",
      "235/235 [==============================] - 3s 11ms/step - loss: 2.1811 - accuracy: 0.2215 - val_loss: 2.0455 - val_accuracy: 0.3262\n",
      "Epoch 2/5\n",
      "235/235 [==============================] - 2s 9ms/step - loss: 1.8666 - accuracy: 0.4332 - val_loss: 1.6555 - val_accuracy: 0.5559\n",
      "Epoch 3/5\n",
      "235/235 [==============================] - 2s 7ms/step - loss: 1.4409 - accuracy: 0.6101 - val_loss: 1.2384 - val_accuracy: 0.6468\n",
      "Epoch 4/5\n",
      "235/235 [==============================] - 2s 8ms/step - loss: 1.1093 - accuracy: 0.6608 - val_loss: 1.0042 - val_accuracy: 0.6668\n",
      "Epoch 5/5\n",
      "235/235 [==============================] - 2s 7ms/step - loss: 0.9400 - accuracy: 0.6797 - val_loss: 0.8874 - val_accuracy: 0.6894\n",
      "****************************************************************************************************\n",
      "Epoch 1/5\n",
      "235/235 [==============================] - 3s 10ms/step - loss: 2.2926 - accuracy: 0.0999 - val_loss: 2.2792 - val_accuracy: 0.1000\n",
      "Epoch 2/5\n",
      "235/235 [==============================] - 2s 9ms/step - loss: 2.2473 - accuracy: 0.1039 - val_loss: 2.2108 - val_accuracy: 0.1221\n",
      "Epoch 3/5\n",
      "235/235 [==============================] - 2s 10ms/step - loss: 2.1558 - accuracy: 0.1767 - val_loss: 2.0878 - val_accuracy: 0.2169\n",
      "Epoch 4/5\n",
      "235/235 [==============================] - 2s 10ms/step - loss: 1.9907 - accuracy: 0.2255 - val_loss: 1.8838 - val_accuracy: 0.2223\n",
      "Epoch 5/5\n",
      "235/235 [==============================] - 2s 9ms/step - loss: 1.7791 - accuracy: 0.2555 - val_loss: 1.6794 - val_accuracy: 0.3103\n",
      "****************************************************************************************************\n",
      "CPU times: user 1min 3s, sys: 6.82 s, total: 1min 9s\n",
      "Wall time: 50 s\n"
     ]
    }
   ],
   "source": [
    "%%time\n",
    "\n",
    "for model in models:\n",
    "    model.compile(loss='categorical_crossentropy', optimizer='adagrad', metrics=['accuracy'])\n",
    "\n",
    "    history = model.fit(X_train, y_train,\n",
    "                    epochs=num_epochs,\n",
    "                    batch_size=batch_size,\n",
    "                    verbose=1,\n",
    "                    validation_data=(X_test, y_test)\n",
    "                    )\n",
    "    print(100 * '*')\n",
    "    train_loss, train_metric = model.evaluate(X_train, y_train, batch_size=batch_size, verbose=0)\n",
    "    test_loss, test_metric = model.evaluate(X_test, y_test, batch_size=batch_size, verbose=0)\n",
    "\n",
    "    stata_2 = stata_2.append(\n",
    "        {\n",
    "            'Количество слоев': len(model.get_config()['layers'])-1,\n",
    "            'Количество параметров': model.count_params(),\n",
    "            'accuracy_train': train_metric,\n",
    "            'accuracy_test': test_metric\n",
    "        },\n",
    "        ignore_index=True\n",
    "        )"
   ]
  },
  {
   "cell_type": "code",
   "execution_count": 20,
   "metadata": {},
   "outputs": [
    {
     "data": {
      "text/html": [
       "<div>\n",
       "<style scoped>\n",
       "    .dataframe tbody tr th:only-of-type {\n",
       "        vertical-align: middle;\n",
       "    }\n",
       "\n",
       "    .dataframe tbody tr th {\n",
       "        vertical-align: top;\n",
       "    }\n",
       "\n",
       "    .dataframe thead th {\n",
       "        text-align: right;\n",
       "    }\n",
       "</style>\n",
       "<table border=\"1\" class=\"dataframe\">\n",
       "  <thead>\n",
       "    <tr style=\"text-align: right;\">\n",
       "      <th></th>\n",
       "      <th>Количество слоев</th>\n",
       "      <th>Количество параметров</th>\n",
       "      <th>accuracy_train</th>\n",
       "      <th>accuracy_test</th>\n",
       "    </tr>\n",
       "  </thead>\n",
       "  <tbody>\n",
       "    <tr>\n",
       "      <th>0</th>\n",
       "      <td>2.0</td>\n",
       "      <td>101770.0</td>\n",
       "      <td>0.729667</td>\n",
       "      <td>0.7292</td>\n",
       "    </tr>\n",
       "    <tr>\n",
       "      <th>1</th>\n",
       "      <td>3.0</td>\n",
       "      <td>101625.0</td>\n",
       "      <td>0.706200</td>\n",
       "      <td>0.7065</td>\n",
       "    </tr>\n",
       "    <tr>\n",
       "      <th>2</th>\n",
       "      <td>5.0</td>\n",
       "      <td>101722.0</td>\n",
       "      <td>0.690367</td>\n",
       "      <td>0.6894</td>\n",
       "    </tr>\n",
       "    <tr>\n",
       "      <th>3</th>\n",
       "      <td>10.0</td>\n",
       "      <td>101530.0</td>\n",
       "      <td>0.305750</td>\n",
       "      <td>0.3103</td>\n",
       "    </tr>\n",
       "  </tbody>\n",
       "</table>\n",
       "</div>"
      ],
      "text/plain": [
       "   Количество слоев  Количество параметров  accuracy_train  accuracy_test\n",
       "0               2.0               101770.0        0.729667         0.7292\n",
       "1               3.0               101625.0        0.706200         0.7065\n",
       "2               5.0               101722.0        0.690367         0.6894\n",
       "3              10.0               101530.0        0.305750         0.3103"
      ]
     },
     "execution_count": 20,
     "metadata": {},
     "output_type": "execute_result"
    }
   ],
   "source": [
    "stata_2"
   ]
  },
  {
   "cell_type": "code",
   "execution_count": 21,
   "metadata": {},
   "outputs": [
    {
     "data": {
      "image/png": "[encoded data removed]",
      "text/plain": [
       "<Figure size 800x600 with 1 Axes>"
      ]
     },
     "metadata": {},
     "output_type": "display_data"
    }
   ],
   "source": [
    "plt.figure(figsize=(8, 6))\n",
    "plt.plot(stata_2['Количество слоев'], stata_2['accuracy_train'], label='train')\n",
    "plt.plot(stata_2['Количество слоев'], stata_2['accuracy_test'], label='test')\n",
    "plt.xlabel('Количество слоев')\n",
    "plt.ylabel('accuracy')\n",
    "plt.grid(alpha=.3)\n",
    "plt.legend(loc='best');"
   ]
  },
  {
   "cell_type": "markdown",
   "metadata": {},
   "source": [
    "**Выводы по п. 2.2:**\n",
    "\n",
    "Увеличение количества слоев (при примерно одинаковом количестве обучемых параметров) ведет к ухудшению точности классификации модели. Происходит её переобучение."
   ]
  },
  {
   "cell_type": "markdown",
   "metadata": {},
   "source": [
    "# 3. Исследование работы разных оптимизаторов (`SGD`, `Adam`, `RMSProp`)"
   ]
  },
  {
   "cell_type": "code",
   "execution_count": 22,
   "metadata": {},
   "outputs": [],
   "source": [
    "config_5 = model_5.get_config()"
   ]
  },
  {
   "cell_type": "code",
   "execution_count": 23,
   "metadata": {},
   "outputs": [
    {
     "data": {
      "text/html": [
       "<div>\n",
       "<style scoped>\n",
       "    .dataframe tbody tr th:only-of-type {\n",
       "        vertical-align: middle;\n",
       "    }\n",
       "\n",
       "    .dataframe tbody tr th {\n",
       "        vertical-align: top;\n",
       "    }\n",
       "\n",
       "    .dataframe thead th {\n",
       "        text-align: right;\n",
       "    }\n",
       "</style>\n",
       "<table border=\"1\" class=\"dataframe\">\n",
       "  <thead>\n",
       "    <tr style=\"text-align: right;\">\n",
       "      <th></th>\n",
       "      <th>Оптимизатор</th>\n",
       "      <th>accuracy_train</th>\n",
       "      <th>accuracy_test</th>\n",
       "    </tr>\n",
       "  </thead>\n",
       "  <tbody>\n",
       "  </tbody>\n",
       "</table>\n",
       "</div>"
      ],
      "text/plain": [
       "Empty DataFrame\n",
       "Columns: [Оптимизатор, accuracy_train, accuracy_test]\n",
       "Index: []"
      ]
     },
     "execution_count": 23,
     "metadata": {},
     "output_type": "execute_result"
    }
   ],
   "source": [
    "stata_3 = pd.DataFrame(columns=['Оптимизатор', 'accuracy_train', 'accuracy_test'])\n",
    "stata_3"
   ]
  },
  {
   "cell_type": "code",
   "execution_count": 24,
   "metadata": {},
   "outputs": [
    {
     "name": "stdout",
     "output_type": "stream",
     "text": [
      "Epoch 1/5\n",
      "235/235 [==============================] - 2s 6ms/step - loss: 1.7286 - accuracy: 0.4190 - val_loss: 1.1056 - val_accuracy: 0.6639\n",
      "Epoch 2/5\n",
      "235/235 [==============================] - 1s 5ms/step - loss: 0.8767 - accuracy: 0.7092 - val_loss: 0.7807 - val_accuracy: 0.7249\n",
      "Epoch 3/5\n",
      "235/235 [==============================] - 1s 6ms/step - loss: 0.7010 - accuracy: 0.7515 - val_loss: 0.6609 - val_accuracy: 0.7553\n",
      "Epoch 4/5\n",
      "235/235 [==============================] - 1s 5ms/step - loss: 0.6324 - accuracy: 0.7720 - val_loss: 0.6525 - val_accuracy: 0.7653\n",
      "Epoch 5/5\n",
      "235/235 [==============================] - 1s 5ms/step - loss: 0.5899 - accuracy: 0.7888 - val_loss: 0.5950 - val_accuracy: 0.7942\n",
      "****************************************************************************************************\n",
      "Epoch 1/5\n",
      "235/235 [==============================] - 2s 7ms/step - loss: 0.6361 - accuracy: 0.7757 - val_loss: 0.4711 - val_accuracy: 0.8381\n",
      "Epoch 2/5\n",
      "235/235 [==============================] - 1s 5ms/step - loss: 0.4137 - accuracy: 0.8514 - val_loss: 0.3878 - val_accuracy: 0.8586\n",
      "Epoch 3/5\n",
      "235/235 [==============================] - 1s 5ms/step - loss: 0.3698 - accuracy: 0.8663 - val_loss: 0.3618 - val_accuracy: 0.8703\n",
      "Epoch 4/5\n",
      "235/235 [==============================] - 1s 5ms/step - loss: 0.3441 - accuracy: 0.8749 - val_loss: 0.3424 - val_accuracy: 0.8735\n",
      "Epoch 5/5\n",
      "235/235 [==============================] - 1s 6ms/step - loss: 0.3232 - accuracy: 0.8825 - val_loss: 0.3372 - val_accuracy: 0.8742\n",
      "****************************************************************************************************\n",
      "Epoch 1/5\n",
      "235/235 [==============================] - 2s 7ms/step - loss: 0.6899 - accuracy: 0.7520 - val_loss: 0.5416 - val_accuracy: 0.8110\n",
      "Epoch 2/5\n",
      "235/235 [==============================] - 2s 8ms/step - loss: 0.4557 - accuracy: 0.8337 - val_loss: 0.6320 - val_accuracy: 0.7711\n",
      "Epoch 3/5\n",
      "235/235 [==============================] - 2s 7ms/step - loss: 0.3954 - accuracy: 0.8547 - val_loss: 0.4190 - val_accuracy: 0.8495\n",
      "Epoch 4/5\n",
      "235/235 [==============================] - 1s 6ms/step - loss: 0.3635 - accuracy: 0.8669 - val_loss: 0.4046 - val_accuracy: 0.8483\n",
      "Epoch 5/5\n",
      "235/235 [==============================] - 1s 6ms/step - loss: 0.3382 - accuracy: 0.8748 - val_loss: 0.3371 - val_accuracy: 0.8776\n",
      "****************************************************************************************************\n",
      "CPU times: user 47.2 s, sys: 5.2 s, total: 52.4 s\n",
      "Wall time: 28.4 s\n"
     ]
    }
   ],
   "source": [
    "%%time\n",
    "\n",
    "from keras import optimizers\n",
    "\n",
    "for opt in [optimizers.gradient_descent_v2.SGD(),\n",
    "            optimizers.adam_v2.Adam(),\n",
    "            optimizers.rmsprop_v2.RMSprop()\n",
    "            ]:\n",
    "        # инициализируем последовательную модель параметрами от model_5\n",
    "        model = Sequential()\n",
    "        model = model.from_config(config_5)\n",
    "        \n",
    "        model.compile(\n",
    "                optimizer=opt,\n",
    "                loss='categorical_crossentropy',\n",
    "                metrics=['accuracy'],\n",
    "                )\n",
    "        \n",
    "\n",
    "        model.fit(X_train, y_train,\n",
    "                  epochs=num_epochs,\n",
    "                  batch_size=batch_size,\n",
    "                  validation_data=(X_test, y_test),\n",
    "                  verbose=1)\n",
    "        print(100 * '*')\n",
    "        \n",
    "        train_loss, train_metric = model.evaluate(X_train, y_train, batch_size=batch_size, verbose=0)\n",
    "        test_loss, test_metric = model.evaluate(X_test, y_test, batch_size=batch_size, verbose=0)\n",
    "\n",
    "        stata_3 = stata_3.append(\n",
    "                {'Оптимизатор': model.optimizer.get_config()['name'],\n",
    "                 'accuracy_train': train_metric,\n",
    "                 'accuracy_test': test_metric\n",
    "                 },\n",
    "                 ignore_index=True\n",
    "                 )\n",
    "\n",
    "        "
   ]
  },
  {
   "cell_type": "code",
   "execution_count": 25,
   "metadata": {},
   "outputs": [
    {
     "data": {
      "text/html": [
       "<div>\n",
       "<style scoped>\n",
       "    .dataframe tbody tr th:only-of-type {\n",
       "        vertical-align: middle;\n",
       "    }\n",
       "\n",
       "    .dataframe tbody tr th {\n",
       "        vertical-align: top;\n",
       "    }\n",
       "\n",
       "    .dataframe thead th {\n",
       "        text-align: right;\n",
       "    }\n",
       "</style>\n",
       "<table border=\"1\" class=\"dataframe\">\n",
       "  <thead>\n",
       "    <tr style=\"text-align: right;\">\n",
       "      <th></th>\n",
       "      <th>Оптимизатор</th>\n",
       "      <th>accuracy_train</th>\n",
       "      <th>accuracy_test</th>\n",
       "    </tr>\n",
       "  </thead>\n",
       "  <tbody>\n",
       "    <tr>\n",
       "      <th>0</th>\n",
       "      <td>SGD</td>\n",
       "      <td>0.795150</td>\n",
       "      <td>0.7942</td>\n",
       "    </tr>\n",
       "    <tr>\n",
       "      <th>1</th>\n",
       "      <td>Adam</td>\n",
       "      <td>0.886333</td>\n",
       "      <td>0.8742</td>\n",
       "    </tr>\n",
       "    <tr>\n",
       "      <th>2</th>\n",
       "      <td>RMSprop</td>\n",
       "      <td>0.887850</td>\n",
       "      <td>0.8776</td>\n",
       "    </tr>\n",
       "  </tbody>\n",
       "</table>\n",
       "</div>"
      ],
      "text/plain": [
       "  Оптимизатор  accuracy_train  accuracy_test\n",
       "0         SGD        0.795150         0.7942\n",
       "1        Adam        0.886333         0.8742\n",
       "2     RMSprop        0.887850         0.8776"
      ]
     },
     "execution_count": 25,
     "metadata": {},
     "output_type": "execute_result"
    }
   ],
   "source": [
    "stata_3"
   ]
  },
  {
   "cell_type": "code",
   "execution_count": 26,
   "metadata": {},
   "outputs": [
    {
     "data": {
      "image/png": "[encoded data removed]",
      "text/plain": [
       "<Figure size 1000x800 with 1 Axes>"
      ]
     },
     "metadata": {},
     "output_type": "display_data"
    }
   ],
   "source": [
    "stata_3.plot(x='Оптимизатор', kind='bar', figsize=(10, 8))\n",
    "plt.xlabel('Оптимизатор')\n",
    "plt.ylim([.78, .9])\n",
    "plt.ylabel('accuracy')\n",
    "plt.grid(alpha=.3)\n",
    "plt.legend(loc='best');"
   ]
  },
  {
   "cell_type": "markdown",
   "metadata": {},
   "source": [
    "**Выводы по п.п 2-3:**\n",
    "\n",
    "Оптимизатор `RMSprop` показал лучшие метрики качества (как на трейне, так и на тесте).\n",
    "\n",
    "Улучшению качества классификации способствовало увеличение количества нейронов скрытого слоя сети и изменение оптимизатора на подходящий к конкретной задаче"
   ]
  },
  {
   "cell_type": "markdown",
   "metadata": {},
   "source": [
    "# 4. Матрица ошибок по классам для сети `model_5`"
   ]
  },
  {
   "cell_type": "code",
   "execution_count": 27,
   "metadata": {},
   "outputs": [],
   "source": [
    "from sklearn.metrics import confusion_matrix, ConfusionMatrixDisplay"
   ]
  },
  {
   "cell_type": "markdown",
   "metadata": {},
   "source": [
    "## 4.1 На трейне"
   ]
  },
  {
   "cell_type": "code",
   "execution_count": 28,
   "metadata": {},
   "outputs": [
    {
     "name": "stdout",
     "output_type": "stream",
     "text": [
      "235/235 [==============================] - 1s 3ms/step\n"
     ]
    }
   ],
   "source": [
    "y_pred_train = model_5.predict(X_train, batch_size=batch_size)\n",
    "y_pred_train_labels = y_pred_train.argmax(axis=1)"
   ]
  },
  {
   "cell_type": "code",
   "execution_count": 29,
   "metadata": {},
   "outputs": [
    {
     "data": {
      "image/png": "[encoded data removed]",
      "text/plain": [
       "<Figure size 1000x1000 with 2 Axes>"
      ]
     },
     "metadata": {},
     "output_type": "display_data"
    }
   ],
   "source": [
    "cm = confusion_matrix(y_train_labels, y_pred_train_labels)\n",
    "\n",
    "disp = ConfusionMatrixDisplay(cm)\n",
    "fig, ax = plt.subplots(figsize=(10,10))\n",
    "disp.plot(ax=ax, cmap='Greens');"
   ]
  },
  {
   "cell_type": "markdown",
   "metadata": {},
   "source": [
    "## 4.2 На тесте"
   ]
  },
  {
   "cell_type": "code",
   "execution_count": 30,
   "metadata": {},
   "outputs": [
    {
     "name": "stdout",
     "output_type": "stream",
     "text": [
      "40/40 [==============================] - 0s 3ms/step\n"
     ]
    }
   ],
   "source": [
    "y_pred_test = model_5.predict(X_test, batch_size=batch_size)\n",
    "y_pred_test_labels = y_pred_test.argmax(axis=1)         # предсказываем метки"
   ]
  },
  {
   "cell_type": "code",
   "execution_count": 31,
   "metadata": {},
   "outputs": [
    {
     "data": {
      "image/png": "[encoded data removed]",
      "text/plain": [
       "<Figure size 1000x1000 with 2 Axes>"
      ]
     },
     "metadata": {},
     "output_type": "display_data"
    }
   ],
   "source": [
    "# матрица ошибок\n",
    "cm = confusion_matrix(y_test_labels, y_pred_test_labels)\n",
    "\n",
    "# отображение\n",
    "disp = ConfusionMatrixDisplay(cm)\n",
    "fig, ax = plt.subplots(figsize=(10,10))\n",
    "disp.plot(ax=ax, cmap='Greens');"
   ]
  },
  {
   "cell_type": "markdown",
   "metadata": {},
   "source": [
    "# 5. Метрики качества модели `model_5` по каждому классу отдельно (полнота, точность)"
   ]
  },
  {
   "cell_type": "code",
   "execution_count": 32,
   "metadata": {},
   "outputs": [
    {
     "data": {
      "text/html": [
       "<div>\n",
       "<style scoped>\n",
       "    .dataframe tbody tr th:only-of-type {\n",
       "        vertical-align: middle;\n",
       "    }\n",
       "\n",
       "    .dataframe tbody tr th {\n",
       "        vertical-align: top;\n",
       "    }\n",
       "\n",
       "    .dataframe thead th {\n",
       "        text-align: right;\n",
       "    }\n",
       "</style>\n",
       "<table border=\"1\" class=\"dataframe\">\n",
       "  <thead>\n",
       "    <tr style=\"text-align: right;\">\n",
       "      <th></th>\n",
       "      <th>precision</th>\n",
       "      <th>recall</th>\n",
       "      <th>f1-score</th>\n",
       "      <th>support</th>\n",
       "    </tr>\n",
       "  </thead>\n",
       "  <tbody>\n",
       "    <tr>\n",
       "      <th>0</th>\n",
       "      <td>0.677609</td>\n",
       "      <td>0.8050</td>\n",
       "      <td>0.735832</td>\n",
       "      <td>1000.0000</td>\n",
       "    </tr>\n",
       "    <tr>\n",
       "      <th>1</th>\n",
       "      <td>0.951646</td>\n",
       "      <td>0.9250</td>\n",
       "      <td>0.938134</td>\n",
       "      <td>1000.0000</td>\n",
       "    </tr>\n",
       "    <tr>\n",
       "      <th>2</th>\n",
       "      <td>0.543243</td>\n",
       "      <td>0.6030</td>\n",
       "      <td>0.571564</td>\n",
       "      <td>1000.0000</td>\n",
       "    </tr>\n",
       "    <tr>\n",
       "      <th>3</th>\n",
       "      <td>0.742304</td>\n",
       "      <td>0.8440</td>\n",
       "      <td>0.789892</td>\n",
       "      <td>1000.0000</td>\n",
       "    </tr>\n",
       "    <tr>\n",
       "      <th>4</th>\n",
       "      <td>0.530556</td>\n",
       "      <td>0.5730</td>\n",
       "      <td>0.550962</td>\n",
       "      <td>1000.0000</td>\n",
       "    </tr>\n",
       "    <tr>\n",
       "      <th>5</th>\n",
       "      <td>0.945607</td>\n",
       "      <td>0.2260</td>\n",
       "      <td>0.364810</td>\n",
       "      <td>1000.0000</td>\n",
       "    </tr>\n",
       "    <tr>\n",
       "      <th>6</th>\n",
       "      <td>0.432000</td>\n",
       "      <td>0.2160</td>\n",
       "      <td>0.288000</td>\n",
       "      <td>1000.0000</td>\n",
       "    </tr>\n",
       "    <tr>\n",
       "      <th>7</th>\n",
       "      <td>0.633236</td>\n",
       "      <td>0.8650</td>\n",
       "      <td>0.731192</td>\n",
       "      <td>1000.0000</td>\n",
       "    </tr>\n",
       "    <tr>\n",
       "      <th>8</th>\n",
       "      <td>0.893805</td>\n",
       "      <td>0.9090</td>\n",
       "      <td>0.901339</td>\n",
       "      <td>1000.0000</td>\n",
       "    </tr>\n",
       "    <tr>\n",
       "      <th>9</th>\n",
       "      <td>0.667146</td>\n",
       "      <td>0.9280</td>\n",
       "      <td>0.776244</td>\n",
       "      <td>1000.0000</td>\n",
       "    </tr>\n",
       "    <tr>\n",
       "      <th>accuracy</th>\n",
       "      <td>0.689400</td>\n",
       "      <td>0.6894</td>\n",
       "      <td>0.689400</td>\n",
       "      <td>0.6894</td>\n",
       "    </tr>\n",
       "    <tr>\n",
       "      <th>macro avg</th>\n",
       "      <td>0.701715</td>\n",
       "      <td>0.6894</td>\n",
       "      <td>0.664797</td>\n",
       "      <td>10000.0000</td>\n",
       "    </tr>\n",
       "    <tr>\n",
       "      <th>weighted avg</th>\n",
       "      <td>0.701715</td>\n",
       "      <td>0.6894</td>\n",
       "      <td>0.664797</td>\n",
       "      <td>10000.0000</td>\n",
       "    </tr>\n",
       "  </tbody>\n",
       "</table>\n",
       "</div>"
      ],
      "text/plain": [
       "              precision  recall  f1-score     support\n",
       "0              0.677609  0.8050  0.735832   1000.0000\n",
       "1              0.951646  0.9250  0.938134   1000.0000\n",
       "2              0.543243  0.6030  0.571564   1000.0000\n",
       "3              0.742304  0.8440  0.789892   1000.0000\n",
       "4              0.530556  0.5730  0.550962   1000.0000\n",
       "5              0.945607  0.2260  0.364810   1000.0000\n",
       "6              0.432000  0.2160  0.288000   1000.0000\n",
       "7              0.633236  0.8650  0.731192   1000.0000\n",
       "8              0.893805  0.9090  0.901339   1000.0000\n",
       "9              0.667146  0.9280  0.776244   1000.0000\n",
       "accuracy       0.689400  0.6894  0.689400      0.6894\n",
       "macro avg      0.701715  0.6894  0.664797  10000.0000\n",
       "weighted avg   0.701715  0.6894  0.664797  10000.0000"
      ]
     },
     "execution_count": 32,
     "metadata": {},
     "output_type": "execute_result"
    }
   ],
   "source": [
    "from sklearn.metrics import classification_report\n",
    "\n",
    "cr_dict = classification_report(y_test_labels, y_pred_test_labels, output_dict=True)\n",
    "cr_df = pd.DataFrame(cr_dict).transpose()\n",
    "cr_df"
   ]
  },
  {
   "cell_type": "code",
   "execution_count": 33,
   "metadata": {},
   "outputs": [
    {
     "data": {
      "text/plain": [
       "(0.432, 0.216)"
      ]
     },
     "execution_count": 33,
     "metadata": {},
     "output_type": "execute_result"
    }
   ],
   "source": [
    "# проверка\n",
    "from sklearn.metrics import precision_score, recall_score\n",
    "\n",
    "(precision_score(y_test_labels, y_pred_test_labels, average='macro', labels='6'),\n",
    "recall_score(y_test_labels, y_pred_test_labels, average='macro', labels='6'))"
   ]
  },
  {
   "cell_type": "code",
   "execution_count": 34,
   "metadata": {},
   "outputs": [
    {
     "data": {
      "text/plain": [
       "(0.432, 0.216)"
      ]
     },
     "execution_count": 34,
     "metadata": {},
     "output_type": "execute_result"
    }
   ],
   "source": [
    "# соответствует\n",
    "tuple(cr_df.iloc[6][['precision', 'recall']])"
   ]
  },
  {
   "cell_type": "markdown",
   "metadata": {},
   "source": [
    "Найдем метки, которые хуже всего и лучше всего классифицровала model_5:"
   ]
  },
  {
   "cell_type": "code",
   "execution_count": 35,
   "metadata": {},
   "outputs": [
    {
     "data": {
      "text/plain": [
       "(1, 9)"
      ]
     },
     "execution_count": 35,
     "metadata": {},
     "output_type": "execute_result"
    }
   ],
   "source": [
    "cr_df['precision'].argmax(), cr_df['recall'].argmax()"
   ]
  },
  {
   "cell_type": "code",
   "execution_count": 36,
   "metadata": {},
   "outputs": [
    {
     "data": {
      "text/plain": [
       "(6, 6)"
      ]
     },
     "execution_count": 36,
     "metadata": {},
     "output_type": "execute_result"
    }
   ],
   "source": [
    "cr_df['precision'].argmin(), cr_df['recall'].argmin()"
   ]
  },
  {
   "cell_type": "markdown",
   "metadata": {},
   "source": [
    "**Выводы по п. 5:**"
   ]
  },
  {
   "cell_type": "markdown",
   "metadata": {},
   "source": [
    "Наибольшую точность классификации модель `model_5` показала для класса 1 (брюки). Наибольшую полноту – для класса 9 (ботинок с высоким берцем).\n",
    "\n",
    "Минимальные точность и полноту классификации модель `model_5` показала для класса 6 (рубашка)."
   ]
  }
 ],
 "metadata": {
  "kernelspec": {
   "display_name": "DS",
   "language": "python",
   "name": "python3"
  },
  "language_info": {
   "codemirror_mode": {
    "name": "ipython",
    "version": 3
   },
   "file_extension": ".py",
   "mimetype": "text/x-python",
   "name": "python",
   "nbconvert_exporter": "python",
   "pygments_lexer": "ipython3",
   "version": "3.8.15"
  }
 },
 "nbformat": 4,
 "nbformat_minor": 2
}
