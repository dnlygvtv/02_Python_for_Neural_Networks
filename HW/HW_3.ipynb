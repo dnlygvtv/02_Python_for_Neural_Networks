{
 "cells": [
  {
   "cell_type": "code",
   "execution_count": 1,
   "metadata": {},
   "outputs": [],
   "source": [
    "import numpy as np\n",
    "import pandas as pd\n",
    "import matplotlib.pyplot as plt\n",
    "import seaborn as sns\n",
    "\n",
    "import warnings\n",
    "warnings.filterwarnings('ignore')\n",
    "\n",
    "import tensorflow as tf"
   ]
  },
  {
   "cell_type": "markdown",
   "metadata": {},
   "source": [
    "# 1. Первичный и визуальный анализ данных"
   ]
  },
  {
   "cell_type": "code",
   "execution_count": 2,
   "metadata": {},
   "outputs": [
    {
     "data": {
      "text/plain": [
       "((20640, 8), (20640,))"
      ]
     },
     "execution_count": 2,
     "metadata": {},
     "output_type": "execute_result"
    }
   ],
   "source": [
    "from sklearn.datasets import fetch_california_housing\n",
    "\n",
    "X, y = fetch_california_housing(as_frame=True, return_X_y=True)\n",
    "\n",
    "X.shape, y.shape"
   ]
  },
  {
   "cell_type": "code",
   "execution_count": 3,
   "metadata": {},
   "outputs": [
    {
     "data": {
      "text/html": [
       "<div>\n",
       "<style scoped>\n",
       "    .dataframe tbody tr th:only-of-type {\n",
       "        vertical-align: middle;\n",
       "    }\n",
       "\n",
       "    .dataframe tbody tr th {\n",
       "        vertical-align: top;\n",
       "    }\n",
       "\n",
       "    .dataframe thead th {\n",
       "        text-align: right;\n",
       "    }\n",
       "</style>\n",
       "<table border=\"1\" class=\"dataframe\">\n",
       "  <thead>\n",
       "    <tr style=\"text-align: right;\">\n",
       "      <th></th>\n",
       "      <th>MedInc</th>\n",
       "      <th>HouseAge</th>\n",
       "      <th>AveRooms</th>\n",
       "      <th>AveBedrms</th>\n",
       "      <th>Population</th>\n",
       "      <th>AveOccup</th>\n",
       "      <th>Latitude</th>\n",
       "      <th>Longitude</th>\n",
       "      <th>MedHouseVal</th>\n",
       "    </tr>\n",
       "  </thead>\n",
       "  <tbody>\n",
       "    <tr>\n",
       "      <th>0</th>\n",
       "      <td>8.3252</td>\n",
       "      <td>41.0</td>\n",
       "      <td>6.984127</td>\n",
       "      <td>1.023810</td>\n",
       "      <td>322.0</td>\n",
       "      <td>2.555556</td>\n",
       "      <td>37.88</td>\n",
       "      <td>-122.23</td>\n",
       "      <td>4.526</td>\n",
       "    </tr>\n",
       "    <tr>\n",
       "      <th>1</th>\n",
       "      <td>8.3014</td>\n",
       "      <td>21.0</td>\n",
       "      <td>6.238137</td>\n",
       "      <td>0.971880</td>\n",
       "      <td>2401.0</td>\n",
       "      <td>2.109842</td>\n",
       "      <td>37.86</td>\n",
       "      <td>-122.22</td>\n",
       "      <td>3.585</td>\n",
       "    </tr>\n",
       "    <tr>\n",
       "      <th>2</th>\n",
       "      <td>7.2574</td>\n",
       "      <td>52.0</td>\n",
       "      <td>8.288136</td>\n",
       "      <td>1.073446</td>\n",
       "      <td>496.0</td>\n",
       "      <td>2.802260</td>\n",
       "      <td>37.85</td>\n",
       "      <td>-122.24</td>\n",
       "      <td>3.521</td>\n",
       "    </tr>\n",
       "    <tr>\n",
       "      <th>3</th>\n",
       "      <td>5.6431</td>\n",
       "      <td>52.0</td>\n",
       "      <td>5.817352</td>\n",
       "      <td>1.073059</td>\n",
       "      <td>558.0</td>\n",
       "      <td>2.547945</td>\n",
       "      <td>37.85</td>\n",
       "      <td>-122.25</td>\n",
       "      <td>3.413</td>\n",
       "    </tr>\n",
       "    <tr>\n",
       "      <th>4</th>\n",
       "      <td>3.8462</td>\n",
       "      <td>52.0</td>\n",
       "      <td>6.281853</td>\n",
       "      <td>1.081081</td>\n",
       "      <td>565.0</td>\n",
       "      <td>2.181467</td>\n",
       "      <td>37.85</td>\n",
       "      <td>-122.25</td>\n",
       "      <td>3.422</td>\n",
       "    </tr>\n",
       "  </tbody>\n",
       "</table>\n",
       "</div>"
      ],
      "text/plain": [
       "   MedInc  HouseAge  AveRooms  AveBedrms  Population  AveOccup  Latitude  \\\n",
       "0  8.3252      41.0  6.984127   1.023810       322.0  2.555556     37.88   \n",
       "1  8.3014      21.0  6.238137   0.971880      2401.0  2.109842     37.86   \n",
       "2  7.2574      52.0  8.288136   1.073446       496.0  2.802260     37.85   \n",
       "3  5.6431      52.0  5.817352   1.073059       558.0  2.547945     37.85   \n",
       "4  3.8462      52.0  6.281853   1.081081       565.0  2.181467     37.85   \n",
       "\n",
       "   Longitude  MedHouseVal  \n",
       "0    -122.23        4.526  \n",
       "1    -122.22        3.585  \n",
       "2    -122.24        3.521  \n",
       "3    -122.25        3.413  \n",
       "4    -122.25        3.422  "
      ]
     },
     "execution_count": 3,
     "metadata": {},
     "output_type": "execute_result"
    }
   ],
   "source": [
    "df = pd.concat([X, y], axis=1)\n",
    "\n",
    "df.head()"
   ]
  },
  {
   "cell_type": "code",
   "execution_count": 4,
   "metadata": {},
   "outputs": [
    {
     "name": "stdout",
     "output_type": "stream",
     "text": [
      "<class 'pandas.core.frame.DataFrame'>\n",
      "RangeIndex: 20640 entries, 0 to 20639\n",
      "Data columns (total 9 columns):\n",
      " #   Column       Non-Null Count  Dtype  \n",
      "---  ------       --------------  -----  \n",
      " 0   MedInc       20640 non-null  float64\n",
      " 1   HouseAge     20640 non-null  float64\n",
      " 2   AveRooms     20640 non-null  float64\n",
      " 3   AveBedrms    20640 non-null  float64\n",
      " 4   Population   20640 non-null  float64\n",
      " 5   AveOccup     20640 non-null  float64\n",
      " 6   Latitude     20640 non-null  float64\n",
      " 7   Longitude    20640 non-null  float64\n",
      " 8   MedHouseVal  20640 non-null  float64\n",
      "dtypes: float64(9)\n",
      "memory usage: 1.4 MB\n"
     ]
    }
   ],
   "source": [
    "df.info()"
   ]
  },
  {
   "cell_type": "code",
   "execution_count": 5,
   "metadata": {},
   "outputs": [
    {
     "data": {
      "text/plain": [
       "MedInc         0\n",
       "HouseAge       0\n",
       "AveRooms       0\n",
       "AveBedrms      0\n",
       "Population     0\n",
       "AveOccup       0\n",
       "Latitude       0\n",
       "Longitude      0\n",
       "MedHouseVal    0\n",
       "dtype: int64"
      ]
     },
     "execution_count": 5,
     "metadata": {},
     "output_type": "execute_result"
    }
   ],
   "source": [
    "df.isna().sum()"
   ]
  },
  {
   "cell_type": "markdown",
   "metadata": {},
   "source": [
    "В датасете 9 вещественных признаков и 20640 наблюдений. Пропусков нет. Целевой признак – `MedHouseVal`"
   ]
  },
  {
   "cell_type": "code",
   "execution_count": 6,
   "metadata": {},
   "outputs": [
    {
     "data": {
      "text/html": [
       "<div>\n",
       "<style scoped>\n",
       "    .dataframe tbody tr th:only-of-type {\n",
       "        vertical-align: middle;\n",
       "    }\n",
       "\n",
       "    .dataframe tbody tr th {\n",
       "        vertical-align: top;\n",
       "    }\n",
       "\n",
       "    .dataframe thead th {\n",
       "        text-align: right;\n",
       "    }\n",
       "</style>\n",
       "<table border=\"1\" class=\"dataframe\">\n",
       "  <thead>\n",
       "    <tr style=\"text-align: right;\">\n",
       "      <th></th>\n",
       "      <th>MedInc</th>\n",
       "      <th>HouseAge</th>\n",
       "      <th>AveRooms</th>\n",
       "      <th>AveBedrms</th>\n",
       "      <th>Population</th>\n",
       "      <th>AveOccup</th>\n",
       "      <th>Latitude</th>\n",
       "      <th>Longitude</th>\n",
       "      <th>MedHouseVal</th>\n",
       "    </tr>\n",
       "  </thead>\n",
       "  <tbody>\n",
       "    <tr>\n",
       "      <th>count</th>\n",
       "      <td>20640.000000</td>\n",
       "      <td>20640.000000</td>\n",
       "      <td>20640.000000</td>\n",
       "      <td>20640.000000</td>\n",
       "      <td>20640.000000</td>\n",
       "      <td>20640.000000</td>\n",
       "      <td>20640.000000</td>\n",
       "      <td>20640.000000</td>\n",
       "      <td>20640.000000</td>\n",
       "    </tr>\n",
       "    <tr>\n",
       "      <th>mean</th>\n",
       "      <td>3.870671</td>\n",
       "      <td>28.639486</td>\n",
       "      <td>5.429000</td>\n",
       "      <td>1.096675</td>\n",
       "      <td>1425.476744</td>\n",
       "      <td>3.070655</td>\n",
       "      <td>35.631861</td>\n",
       "      <td>-119.569704</td>\n",
       "      <td>2.068558</td>\n",
       "    </tr>\n",
       "    <tr>\n",
       "      <th>std</th>\n",
       "      <td>1.899822</td>\n",
       "      <td>12.585558</td>\n",
       "      <td>2.474173</td>\n",
       "      <td>0.473911</td>\n",
       "      <td>1132.462122</td>\n",
       "      <td>10.386050</td>\n",
       "      <td>2.135952</td>\n",
       "      <td>2.003532</td>\n",
       "      <td>1.153956</td>\n",
       "    </tr>\n",
       "    <tr>\n",
       "      <th>min</th>\n",
       "      <td>0.499900</td>\n",
       "      <td>1.000000</td>\n",
       "      <td>0.846154</td>\n",
       "      <td>0.333333</td>\n",
       "      <td>3.000000</td>\n",
       "      <td>0.692308</td>\n",
       "      <td>32.540000</td>\n",
       "      <td>-124.350000</td>\n",
       "      <td>0.149990</td>\n",
       "    </tr>\n",
       "    <tr>\n",
       "      <th>25%</th>\n",
       "      <td>2.563400</td>\n",
       "      <td>18.000000</td>\n",
       "      <td>4.440716</td>\n",
       "      <td>1.006079</td>\n",
       "      <td>787.000000</td>\n",
       "      <td>2.429741</td>\n",
       "      <td>33.930000</td>\n",
       "      <td>-121.800000</td>\n",
       "      <td>1.196000</td>\n",
       "    </tr>\n",
       "    <tr>\n",
       "      <th>50%</th>\n",
       "      <td>3.534800</td>\n",
       "      <td>29.000000</td>\n",
       "      <td>5.229129</td>\n",
       "      <td>1.048780</td>\n",
       "      <td>1166.000000</td>\n",
       "      <td>2.818116</td>\n",
       "      <td>34.260000</td>\n",
       "      <td>-118.490000</td>\n",
       "      <td>1.797000</td>\n",
       "    </tr>\n",
       "    <tr>\n",
       "      <th>75%</th>\n",
       "      <td>4.743250</td>\n",
       "      <td>37.000000</td>\n",
       "      <td>6.052381</td>\n",
       "      <td>1.099526</td>\n",
       "      <td>1725.000000</td>\n",
       "      <td>3.282261</td>\n",
       "      <td>37.710000</td>\n",
       "      <td>-118.010000</td>\n",
       "      <td>2.647250</td>\n",
       "    </tr>\n",
       "    <tr>\n",
       "      <th>max</th>\n",
       "      <td>15.000100</td>\n",
       "      <td>52.000000</td>\n",
       "      <td>141.909091</td>\n",
       "      <td>34.066667</td>\n",
       "      <td>35682.000000</td>\n",
       "      <td>1243.333333</td>\n",
       "      <td>41.950000</td>\n",
       "      <td>-114.310000</td>\n",
       "      <td>5.000010</td>\n",
       "    </tr>\n",
       "  </tbody>\n",
       "</table>\n",
       "</div>"
      ],
      "text/plain": [
       "             MedInc      HouseAge      AveRooms     AveBedrms    Population  \\\n",
       "count  20640.000000  20640.000000  20640.000000  20640.000000  20640.000000   \n",
       "mean       3.870671     28.639486      5.429000      1.096675   1425.476744   \n",
       "std        1.899822     12.585558      2.474173      0.473911   1132.462122   \n",
       "min        0.499900      1.000000      0.846154      0.333333      3.000000   \n",
       "25%        2.563400     18.000000      4.440716      1.006079    787.000000   \n",
       "50%        3.534800     29.000000      5.229129      1.048780   1166.000000   \n",
       "75%        4.743250     37.000000      6.052381      1.099526   1725.000000   \n",
       "max       15.000100     52.000000    141.909091     34.066667  35682.000000   \n",
       "\n",
       "           AveOccup      Latitude     Longitude   MedHouseVal  \n",
       "count  20640.000000  20640.000000  20640.000000  20640.000000  \n",
       "mean       3.070655     35.631861   -119.569704      2.068558  \n",
       "std       10.386050      2.135952      2.003532      1.153956  \n",
       "min        0.692308     32.540000   -124.350000      0.149990  \n",
       "25%        2.429741     33.930000   -121.800000      1.196000  \n",
       "50%        2.818116     34.260000   -118.490000      1.797000  \n",
       "75%        3.282261     37.710000   -118.010000      2.647250  \n",
       "max     1243.333333     41.950000   -114.310000      5.000010  "
      ]
     },
     "execution_count": 6,
     "metadata": {},
     "output_type": "execute_result"
    }
   ],
   "source": [
    "df.describe()"
   ]
  },
  {
   "cell_type": "code",
   "execution_count": 8,
   "metadata": {},
   "outputs": [
    {
     "data": {
      "image/png": "[encoded data removed]",
      "text/plain": [
       "<Figure size 1600x1200 with 9 Axes>"
      ]
     },
     "metadata": {},
     "output_type": "display_data"
    }
   ],
   "source": [
    "plt.figure(figsize=(16, 12))\n",
    "\n",
    "for i, col in enumerate(df.columns):\n",
    "    plt.subplot(3, 3, i + 1)\n",
    "    plt.boxplot(df[col])\n",
    "    plt.title(col)\n",
    "    plt.grid(alpha=.5)"
   ]
  },
  {
   "cell_type": "markdown",
   "metadata": {},
   "source": [
    "Признаки `MedInc`, `AveRooms`, `AveBedrms`, `Population` и `AveOccup`, а также целевой признак `MedHouseVal` имеют выбросы.\n",
    "\n",
    "Корреляционная матрица:"
   ]
  },
  {
   "cell_type": "code",
   "execution_count": 9,
   "metadata": {},
   "outputs": [
    {
     "data": {
      "image/png": "[encoded data removed]",
      "text/plain": [
       "<Figure size 1200x800 with 2 Axes>"
      ]
     },
     "metadata": {},
     "output_type": "display_data"
    }
   ],
   "source": [
    "corr_matrix = df.corr()\n",
    "corr_matrix = np.round(corr_matrix, 2)\n",
    "corr_matrix[np.abs(corr_matrix) < 0.2] = 0\n",
    "\n",
    "plt.figure(figsize=(12, 8))\n",
    "sns.set(font_scale=0.8)\n",
    "sns.heatmap(corr_matrix, annot=True, linewidths=.5, cmap='coolwarm')\n",
    "\n",
    "plt.title('Корреляционная матрица')\n",
    "plt.show();"
   ]
  },
  {
   "cell_type": "markdown",
   "metadata": {},
   "source": [
    "Корреляционная матрица показала, что целевой признак `MedHouseVal` сильно коррелирует с признаком `MedInc`"
   ]
  },
  {
   "cell_type": "markdown",
   "metadata": {},
   "source": [
    "# 2. Базовое решение"
   ]
  },
  {
   "cell_type": "code",
   "execution_count": 201,
   "metadata": {},
   "outputs": [],
   "source": [
    "num_epochs = 10\n",
    "verbose = 0"
   ]
  },
  {
   "cell_type": "code",
   "execution_count": 373,
   "metadata": {},
   "outputs": [
    {
     "data": {
      "text/html": [
       "<div>\n",
       "<style scoped>\n",
       "    .dataframe tbody tr th:only-of-type {\n",
       "        vertical-align: middle;\n",
       "    }\n",
       "\n",
       "    .dataframe tbody tr th {\n",
       "        vertical-align: top;\n",
       "    }\n",
       "\n",
       "    .dataframe thead th {\n",
       "        text-align: right;\n",
       "    }\n",
       "</style>\n",
       "<table border=\"1\" class=\"dataframe\">\n",
       "  <thead>\n",
       "    <tr style=\"text-align: right;\">\n",
       "      <th></th>\n",
       "      <th>Название модели</th>\n",
       "      <th>Кол-во скрытых слоев</th>\n",
       "      <th>Кол-во нейронов скрытых слоев</th>\n",
       "      <th>Ф-я активации</th>\n",
       "      <th>Оптимизатор</th>\n",
       "      <th>MSE test</th>\n",
       "      <th>R2 test</th>\n",
       "    </tr>\n",
       "  </thead>\n",
       "  <tbody>\n",
       "  </tbody>\n",
       "</table>\n",
       "</div>"
      ],
      "text/plain": [
       "Empty DataFrame\n",
       "Columns: [Название модели, Кол-во скрытых слоев, Кол-во нейронов скрытых слоев, Ф-я активации, Оптимизатор, MSE test, R2 test]\n",
       "Index: []"
      ]
     },
     "execution_count": 373,
     "metadata": {},
     "output_type": "execute_result"
    }
   ],
   "source": [
    "stata = pd.DataFrame(columns=['Название модели',\n",
    "                              'Кол-во скрытых слоев',\n",
    "                              'Кол-во нейронов скрытых слоев',\n",
    "                              'Ф-я активации',\n",
    "                              'Оптимизатор',\n",
    "                              'MSE test',\n",
    "                              'R2 test'\n",
    "                              ])\n",
    "stata"
   ]
  },
  {
   "cell_type": "code",
   "execution_count": 347,
   "metadata": {},
   "outputs": [],
   "source": [
    "from sklearn.model_selection import train_test_split\n",
    "from sklearn.preprocessing import MinMaxScaler\n",
    "\n",
    "X_train, X_test, y_train, y_test = train_test_split(df.drop('MedHouseVal', axis=1)\n",
    "                                                    , df['MedHouseVal']\n",
    "                                                    , test_size=.25\n",
    "                                                    , random_state=42)\n",
    "\n",
    "scaler = MinMaxScaler().fit(X_train)\n",
    "X_train = scaler.transform(X_train)\n",
    "X_test = scaler.transform(X_test)"
   ]
  },
  {
   "cell_type": "code",
   "execution_count": 348,
   "metadata": {},
   "outputs": [],
   "source": [
    "from tensorflow.keras.layers import InputLayer, Dense\n",
    "from tensorflow.keras.models import Sequential"
   ]
  },
  {
   "cell_type": "code",
   "execution_count": 349,
   "metadata": {},
   "outputs": [
    {
     "name": "stdout",
     "output_type": "stream",
     "text": [
      "Model: \"sequential_51\"\n",
      "_________________________________________________________________\n",
      " Layer (type)                Output Shape              Param #   \n",
      "=================================================================\n",
      " dense_256 (Dense)           (None, 70)                630       \n",
      "                                                                 \n",
      " dense_257 (Dense)           (None, 30)                2130      \n",
      "                                                                 \n",
      " dense_258 (Dense)           (None, 1)                 31        \n",
      "                                                                 \n",
      "=================================================================\n",
      "Total params: 2,791\n",
      "Trainable params: 2,791\n",
      "Non-trainable params: 0\n",
      "_________________________________________________________________\n"
     ]
    }
   ],
   "source": [
    "tf.random.set_seed(42)\n",
    "\n",
    "base_model = Sequential([\n",
    "    InputLayer(input_shape=X_train.shape[1],),\n",
    "    Dense(70, activation='relu'),\n",
    "    Dense(30, activation='relu'),\n",
    "    Dense(1),\n",
    "]\n",
    ")\n",
    "\n",
    "base_model.summary()"
   ]
  },
  {
   "cell_type": "code",
   "execution_count": 359,
   "metadata": {},
   "outputs": [],
   "source": [
    "from tensorflow.keras.losses import mean_absolute_error, mean_squared_error\n",
    "from tensorflow.keras.optimizers import Adam, SGD\n",
    "\n",
    "base_model.compile(optimizer=SGD(),\n",
    "                   loss=mean_squared_error,\n",
    "                   metrics=['mse']\n",
    "                   )"
   ]
  },
  {
   "cell_type": "code",
   "execution_count": 360,
   "metadata": {},
   "outputs": [
    {
     "name": "stdout",
     "output_type": "stream",
     "text": [
      "CPU times: user 11.4 s, sys: 1.3 s, total: 12.7 s\n",
      "Wall time: 9.84 s\n"
     ]
    }
   ],
   "source": [
    "%%time\n",
    "\n",
    "history = base_model.fit(X_train, y_train,\n",
    "               epochs=num_epochs,\n",
    "               validation_data=(X_test, y_test),\n",
    "               verbose=verbose\n",
    "               )"
   ]
  },
  {
   "cell_type": "code",
   "execution_count": 374,
   "metadata": {},
   "outputs": [],
   "source": [
    "from sklearn.metrics import r2_score, \\\n",
    "    mean_squared_error as mse, mean_absolute_error as mae\n",
    "\n",
    "preds = base_model.predict(X_test, verbose=verbose)\n",
    "r2_test = r2_score(y_test, preds)\n",
    "mse_test = mse(y_test, preds)"
   ]
  },
  {
   "cell_type": "code",
   "execution_count": 365,
   "metadata": {},
   "outputs": [
    {
     "data": {
      "image/png": "[encoded data removed]",
      "text/plain": [
       "<Figure size 2400x1200 with 1 Axes>"
      ]
     },
     "metadata": {},
     "output_type": "display_data"
    }
   ],
   "source": [
    "# визуализируем предсказания модели\n",
    "\n",
    "plt.figure(figsize=(16, 8), dpi=150)\n",
    "\n",
    "plt.plot(range(len(y_test)), y_test, label=\"test\", c='b')\n",
    "plt.plot(range(len(preds)), preds, label=\"preds\", c='orange')\n",
    "\n",
    "plt.legend();"
   ]
  },
  {
   "cell_type": "code",
   "execution_count": 375,
   "metadata": {},
   "outputs": [
    {
     "data": {
      "text/html": [
       "<div>\n",
       "<style scoped>\n",
       "    .dataframe tbody tr th:only-of-type {\n",
       "        vertical-align: middle;\n",
       "    }\n",
       "\n",
       "    .dataframe tbody tr th {\n",
       "        vertical-align: top;\n",
       "    }\n",
       "\n",
       "    .dataframe thead th {\n",
       "        text-align: right;\n",
       "    }\n",
       "</style>\n",
       "<table border=\"1\" class=\"dataframe\">\n",
       "  <thead>\n",
       "    <tr style=\"text-align: right;\">\n",
       "      <th></th>\n",
       "      <th>Название модели</th>\n",
       "      <th>Кол-во скрытых слоев</th>\n",
       "      <th>Кол-во нейронов скрытых слоев</th>\n",
       "      <th>Ф-я активации</th>\n",
       "      <th>Оптимизатор</th>\n",
       "      <th>MSE test</th>\n",
       "      <th>R2 test</th>\n",
       "    </tr>\n",
       "  </thead>\n",
       "  <tbody>\n",
       "    <tr>\n",
       "      <th>0</th>\n",
       "      <td>Базовое решение</td>\n",
       "      <td>2</td>\n",
       "      <td>100</td>\n",
       "      <td>relu</td>\n",
       "      <td>SGD</td>\n",
       "      <td>0.463961</td>\n",
       "      <td>0.649369</td>\n",
       "    </tr>\n",
       "  </tbody>\n",
       "</table>\n",
       "</div>"
      ],
      "text/plain": [
       "   Название модели Кол-во скрытых слоев Кол-во нейронов скрытых слоев  \\\n",
       "0  Базовое решение                    2                           100   \n",
       "\n",
       "  Ф-я активации Оптимизатор  MSE test   R2 test  \n",
       "0          relu         SGD  0.463961  0.649369  "
      ]
     },
     "execution_count": 375,
     "metadata": {},
     "output_type": "execute_result"
    }
   ],
   "source": [
    "stata = stata.append(\n",
    "    {\n",
    "        'Название модели': 'Базовое решение',\n",
    "        'Кол-во скрытых слоев': 2,\n",
    "        'Кол-во нейронов скрытых слоев': 100,\n",
    "        'Ф-я активации': 'relu',\n",
    "        'Оптимизатор': 'SGD',\n",
    "        'MSE test': mse_test,\n",
    "        'R2 test': r2_test\n",
    "    },\n",
    "    ignore_index=True\n",
    ")\n",
    "\n",
    "stata"
   ]
  },
  {
   "cell_type": "markdown",
   "metadata": {},
   "source": [
    "# 3. Изменение параметров ИНС"
   ]
  },
  {
   "cell_type": "markdown",
   "metadata": {},
   "source": [
    "## 3.1 Изменяем число слоев"
   ]
  },
  {
   "cell_type": "markdown",
   "metadata": {},
   "source": [
    "### 3.1.1 Модель с 4 скрытыми слоями нейронов"
   ]
  },
  {
   "cell_type": "code",
   "execution_count": 367,
   "metadata": {},
   "outputs": [
    {
     "name": "stdout",
     "output_type": "stream",
     "text": [
      "Model: \"sequential_52\"\n",
      "_________________________________________________________________\n",
      " Layer (type)                Output Shape              Param #   \n",
      "=================================================================\n",
      " dense_259 (Dense)           (None, 60)                540       \n",
      "                                                                 \n",
      " dense_260 (Dense)           (None, 25)                1525      \n",
      "                                                                 \n",
      " dense_261 (Dense)           (None, 10)                260       \n",
      "                                                                 \n",
      " dense_262 (Dense)           (None, 5)                 55        \n",
      "                                                                 \n",
      " dense_263 (Dense)           (None, 1)                 6         \n",
      "                                                                 \n",
      "=================================================================\n",
      "Total params: 2,386\n",
      "Trainable params: 2,386\n",
      "Non-trainable params: 0\n",
      "_________________________________________________________________\n"
     ]
    }
   ],
   "source": [
    "tf.random.set_seed(42)\n",
    "\n",
    "model_1 = Sequential([\n",
    "    InputLayer(input_shape=X_train.shape[1],),\n",
    "    Dense(60, activation='relu'),\n",
    "    Dense(25, activation='relu'),\n",
    "    Dense(10, activation='relu'),\n",
    "    Dense(5, activation='relu'),\n",
    "    Dense(1),\n",
    "]\n",
    ")\n",
    "\n",
    "model_1.summary()"
   ]
  },
  {
   "cell_type": "code",
   "execution_count": 368,
   "metadata": {},
   "outputs": [
    {
     "name": "stdout",
     "output_type": "stream",
     "text": [
      "CPU times: user 12.2 s, sys: 1.31 s, total: 13.5 s\n",
      "Wall time: 10.4 s\n"
     ]
    }
   ],
   "source": [
    "%%time\n",
    "\n",
    "model_1.compile(optimizer=SGD(),\n",
    "                   loss=mean_squared_error,\n",
    "                   metrics=['mse'])\n",
    "\n",
    "history = model_1.fit(X_train, y_train,\n",
    "               epochs=num_epochs,\n",
    "               validation_data=(X_test, y_test),\n",
    "               verbose=verbose\n",
    "               )"
   ]
  },
  {
   "cell_type": "code",
   "execution_count": 376,
   "metadata": {},
   "outputs": [],
   "source": [
    "preds = model_1.predict(X_test, verbose=verbose)\n",
    "r2_test = r2_score(y_test, preds)\n",
    "mse_test = mse(y_test, preds)"
   ]
  },
  {
   "cell_type": "code",
   "execution_count": 377,
   "metadata": {},
   "outputs": [
    {
     "data": {
      "text/html": [
       "<div>\n",
       "<style scoped>\n",
       "    .dataframe tbody tr th:only-of-type {\n",
       "        vertical-align: middle;\n",
       "    }\n",
       "\n",
       "    .dataframe tbody tr th {\n",
       "        vertical-align: top;\n",
       "    }\n",
       "\n",
       "    .dataframe thead th {\n",
       "        text-align: right;\n",
       "    }\n",
       "</style>\n",
       "<table border=\"1\" class=\"dataframe\">\n",
       "  <thead>\n",
       "    <tr style=\"text-align: right;\">\n",
       "      <th></th>\n",
       "      <th>Название модели</th>\n",
       "      <th>Кол-во скрытых слоев</th>\n",
       "      <th>Кол-во нейронов скрытых слоев</th>\n",
       "      <th>Ф-я активации</th>\n",
       "      <th>Оптимизатор</th>\n",
       "      <th>MSE test</th>\n",
       "      <th>R2 test</th>\n",
       "    </tr>\n",
       "  </thead>\n",
       "  <tbody>\n",
       "    <tr>\n",
       "      <th>0</th>\n",
       "      <td>Базовое решение</td>\n",
       "      <td>2</td>\n",
       "      <td>100</td>\n",
       "      <td>relu</td>\n",
       "      <td>SGD</td>\n",
       "      <td>0.463961</td>\n",
       "      <td>0.649369</td>\n",
       "    </tr>\n",
       "    <tr>\n",
       "      <th>1</th>\n",
       "      <td>Модель №1</td>\n",
       "      <td>4</td>\n",
       "      <td>100</td>\n",
       "      <td>relu</td>\n",
       "      <td>SGD</td>\n",
       "      <td>0.462122</td>\n",
       "      <td>0.650759</td>\n",
       "    </tr>\n",
       "  </tbody>\n",
       "</table>\n",
       "</div>"
      ],
      "text/plain": [
       "   Название модели Кол-во скрытых слоев Кол-во нейронов скрытых слоев  \\\n",
       "0  Базовое решение                    2                           100   \n",
       "1        Модель №1                    4                           100   \n",
       "\n",
       "  Ф-я активации Оптимизатор  MSE test   R2 test  \n",
       "0          relu         SGD  0.463961  0.649369  \n",
       "1          relu         SGD  0.462122  0.650759  "
      ]
     },
     "execution_count": 377,
     "metadata": {},
     "output_type": "execute_result"
    }
   ],
   "source": [
    "stata = stata.append(\n",
    "    {\n",
    "        'Название модели': 'Модель №1',\n",
    "        'Кол-во скрытых слоев': 4,\n",
    "        'Кол-во нейронов скрытых слоев': 100,\n",
    "        'Ф-я активации': 'relu',\n",
    "        'Оптимизатор': 'SGD',\n",
    "        'MSE test': mse_test,\n",
    "        'R2 test': r2_test,\n",
    "    },\n",
    "    ignore_index=True\n",
    ")\n",
    "\n",
    "stata"
   ]
  },
  {
   "cell_type": "markdown",
   "metadata": {},
   "source": [
    "### 3.1.2 Модель с 8 скрытыми слоями нейронов"
   ]
  },
  {
   "cell_type": "code",
   "execution_count": 326,
   "metadata": {},
   "outputs": [
    {
     "name": "stdout",
     "output_type": "stream",
     "text": [
      "Model: \"sequential_47\"\n",
      "_________________________________________________________________\n",
      " Layer (type)                Output Shape              Param #   \n",
      "=================================================================\n",
      " dense_202 (Dense)           (None, 30)                270       \n",
      "                                                                 \n",
      " dense_203 (Dense)           (None, 25)                775       \n",
      "                                                                 \n",
      " dense_204 (Dense)           (None, 12)                312       \n",
      "                                                                 \n",
      " dense_205 (Dense)           (None, 10)                130       \n",
      "                                                                 \n",
      " dense_206 (Dense)           (None, 8)                 88        \n",
      "                                                                 \n",
      " dense_207 (Dense)           (None, 6)                 54        \n",
      "                                                                 \n",
      " dense_208 (Dense)           (None, 5)                 35        \n",
      "                                                                 \n",
      " dense_209 (Dense)           (None, 4)                 24        \n",
      "                                                                 \n",
      " dense_210 (Dense)           (None, 1)                 5         \n",
      "                                                                 \n",
      "=================================================================\n",
      "Total params: 1,693\n",
      "Trainable params: 1,693\n"
     ]
    },
    {
     "name": "stdout",
     "output_type": "stream",
     "text": [
      "Non-trainable params: 0\n",
      "_________________________________________________________________\n"
     ]
    }
   ],
   "source": [
    "tf.random.set_seed(42)\n",
    "\n",
    "model_2 = Sequential([\n",
    "    InputLayer(input_shape=X_train.shape[1],),\n",
    "    Dense(30, activation='relu'),\n",
    "    Dense(25, activation='relu'),\n",
    "    Dense(12, activation='relu'),\n",
    "    Dense(10, activation='relu'),\n",
    "    Dense(8, activation='relu'),\n",
    "    Dense(6, activation='relu'),\n",
    "    Dense(5, activation='relu'),\n",
    "    Dense(4, activation='relu'),\n",
    "    Dense(1),\n",
    "]\n",
    ")\n",
    "\n",
    "model_2.summary()"
   ]
  },
  {
   "cell_type": "code",
   "execution_count": 327,
   "metadata": {},
   "outputs": [
    {
     "name": "stdout",
     "output_type": "stream",
     "text": [
      "CPU times: user 14.4 s, sys: 1.44 s, total: 15.8 s\n",
      "Wall time: 15.4 s\n"
     ]
    }
   ],
   "source": [
    "%%time\n",
    "\n",
    "model_2.compile(optimizer=SGD(),\n",
    "                   loss=mean_squared_error,\n",
    "                   metrics=['mse'])\n",
    "\n",
    "history = model_2.fit(X_train, y_train,\n",
    "               epochs=num_epochs,\n",
    "               validation_data=(X_test, y_test),\n",
    "               verbose=verbose\n",
    "               )"
   ]
  },
  {
   "cell_type": "code",
   "execution_count": 378,
   "metadata": {},
   "outputs": [],
   "source": [
    "preds = model_2.predict(X_test, verbose=verbose)\n",
    "r2_test = r2_score(y_test, preds)\n",
    "mse_test = mse(y_test, preds)"
   ]
  },
  {
   "cell_type": "code",
   "execution_count": 379,
   "metadata": {},
   "outputs": [
    {
     "data": {
      "text/html": [
       "<div>\n",
       "<style scoped>\n",
       "    .dataframe tbody tr th:only-of-type {\n",
       "        vertical-align: middle;\n",
       "    }\n",
       "\n",
       "    .dataframe tbody tr th {\n",
       "        vertical-align: top;\n",
       "    }\n",
       "\n",
       "    .dataframe thead th {\n",
       "        text-align: right;\n",
       "    }\n",
       "</style>\n",
       "<table border=\"1\" class=\"dataframe\">\n",
       "  <thead>\n",
       "    <tr style=\"text-align: right;\">\n",
       "      <th></th>\n",
       "      <th>Название модели</th>\n",
       "      <th>Кол-во скрытых слоев</th>\n",
       "      <th>Кол-во нейронов скрытых слоев</th>\n",
       "      <th>Ф-я активации</th>\n",
       "      <th>Оптимизатор</th>\n",
       "      <th>MSE test</th>\n",
       "      <th>R2 test</th>\n",
       "    </tr>\n",
       "  </thead>\n",
       "  <tbody>\n",
       "    <tr>\n",
       "      <th>0</th>\n",
       "      <td>Базовое решение</td>\n",
       "      <td>2</td>\n",
       "      <td>100</td>\n",
       "      <td>relu</td>\n",
       "      <td>SGD</td>\n",
       "      <td>0.463961</td>\n",
       "      <td>0.649369</td>\n",
       "    </tr>\n",
       "    <tr>\n",
       "      <th>1</th>\n",
       "      <td>Модель №1</td>\n",
       "      <td>4</td>\n",
       "      <td>100</td>\n",
       "      <td>relu</td>\n",
       "      <td>SGD</td>\n",
       "      <td>0.462122</td>\n",
       "      <td>0.650759</td>\n",
       "    </tr>\n",
       "    <tr>\n",
       "      <th>2</th>\n",
       "      <td>Модель №2</td>\n",
       "      <td>8</td>\n",
       "      <td>100</td>\n",
       "      <td>relu</td>\n",
       "      <td>SGD</td>\n",
       "      <td>0.484522</td>\n",
       "      <td>0.633830</td>\n",
       "    </tr>\n",
       "  </tbody>\n",
       "</table>\n",
       "</div>"
      ],
      "text/plain": [
       "   Название модели Кол-во скрытых слоев Кол-во нейронов скрытых слоев  \\\n",
       "0  Базовое решение                    2                           100   \n",
       "1        Модель №1                    4                           100   \n",
       "2        Модель №2                    8                           100   \n",
       "\n",
       "  Ф-я активации Оптимизатор  MSE test   R2 test  \n",
       "0          relu         SGD  0.463961  0.649369  \n",
       "1          relu         SGD  0.462122  0.650759  \n",
       "2          relu         SGD  0.484522  0.633830  "
      ]
     },
     "execution_count": 379,
     "metadata": {},
     "output_type": "execute_result"
    }
   ],
   "source": [
    "stata = stata.append(\n",
    "    {\n",
    "        'Название модели': 'Модель №2',\n",
    "        'Кол-во скрытых слоев': 8,\n",
    "        'Кол-во нейронов скрытых слоев': 100,\n",
    "        'Ф-я активации': 'relu',\n",
    "        'Оптимизатор': 'SGD',\n",
    "        'MSE test': mse_test,\n",
    "        'R2 test': r2_test,\n",
    "    },\n",
    "    ignore_index=True\n",
    ")\n",
    "\n",
    "stata"
   ]
  },
  {
   "cell_type": "markdown",
   "metadata": {},
   "source": [
    "### 3.1.3 Модель с 12 скрытыми слоями нейронов"
   ]
  },
  {
   "cell_type": "code",
   "execution_count": 380,
   "metadata": {},
   "outputs": [
    {
     "name": "stdout",
     "output_type": "stream",
     "text": [
      "Model: \"sequential_53\"\n",
      "_________________________________________________________________\n",
      " Layer (type)                Output Shape              Param #   \n",
      "=================================================================\n"
     ]
    },
    {
     "name": "stdout",
     "output_type": "stream",
     "text": [
      " dense_264 (Dense)           (None, 18)                162       \n",
      "                                                                 \n",
      " dense_265 (Dense)           (None, 14)                266       \n",
      "                                                                 \n",
      " dense_266 (Dense)           (None, 13)                195       \n",
      "                                                                 \n",
      " dense_267 (Dense)           (None, 10)                140       \n",
      "                                                                 \n",
      " dense_268 (Dense)           (None, 8)                 88        \n",
      "                                                                 \n",
      " dense_269 (Dense)           (None, 8)                 72        \n",
      "                                                                 \n",
      " dense_270 (Dense)           (None, 7)                 63        \n",
      "                                                                 \n",
      " dense_271 (Dense)           (None, 6)                 48        \n",
      "                                                                 \n",
      " dense_272 (Dense)           (None, 6)                 42        \n",
      "                                                                 \n",
      " dense_273 (Dense)           (None, 5)                 35        \n",
      "                                                                 \n",
      " dense_274 (Dense)           (None, 3)                 18        \n",
      "                                                                 \n",
      " dense_275 (Dense)           (None, 2)                 8         \n",
      "                                                                 \n",
      " dense_276 (Dense)           (None, 1)                 3         \n",
      "                                                                 \n",
      "=================================================================\n",
      "Total params: 1,140\n",
      "Trainable params: 1,140\n",
      "Non-trainable params: 0\n",
      "_________________________________________________________________\n"
     ]
    }
   ],
   "source": [
    "tf.random.set_seed(42)\n",
    "\n",
    "model_3 = Sequential([\n",
    "    InputLayer(input_shape=X_train.shape[1],),\n",
    "    Dense(18, activation='relu'),\n",
    "    Dense(14, activation='relu'),\n",
    "    Dense(13, activation='relu'),\n",
    "    Dense(10, activation='relu'),\n",
    "    Dense(8, activation='relu'),\n",
    "    Dense(8, activation='relu'),\n",
    "    Dense(7, activation='relu'),\n",
    "    Dense(6, activation='relu'),\n",
    "    Dense(6, activation='relu'),\n",
    "    Dense(5, activation='relu'),\n",
    "    Dense(3, activation='relu'),\n",
    "    Dense(2, activation='relu'),\n",
    "    Dense(1),\n",
    "]\n",
    ")\n",
    "\n",
    "model_3.summary()"
   ]
  },
  {
   "cell_type": "code",
   "execution_count": 381,
   "metadata": {},
   "outputs": [
    {
     "name": "stdout",
     "output_type": "stream",
     "text": [
      "CPU times: user 14.3 s, sys: 1.48 s, total: 15.8 s\n",
      "Wall time: 11.6 s\n"
     ]
    }
   ],
   "source": [
    "%%time\n",
    "\n",
    "model_3.compile(optimizer=SGD(),\n",
    "                   loss=mean_squared_error,\n",
    "                   metrics=['mse'])\n",
    "\n",
    "history = model_3.fit(X_train, y_train,\n",
    "               epochs=num_epochs,\n",
    "               validation_data=(X_test, y_test),\n",
    "               verbose=verbose\n",
    "               )"
   ]
  },
  {
   "cell_type": "code",
   "execution_count": 382,
   "metadata": {},
   "outputs": [],
   "source": [
    "preds = model_3.predict(X_test, verbose=verbose)\n",
    "r2_test = r2_score(y_test, preds)\n",
    "mse_test = mse(y_test, preds)"
   ]
  },
  {
   "cell_type": "code",
   "execution_count": 383,
   "metadata": {},
   "outputs": [
    {
     "data": {
      "text/html": [
       "<div>\n",
       "<style scoped>\n",
       "    .dataframe tbody tr th:only-of-type {\n",
       "        vertical-align: middle;\n",
       "    }\n",
       "\n",
       "    .dataframe tbody tr th {\n",
       "        vertical-align: top;\n",
       "    }\n",
       "\n",
       "    .dataframe thead th {\n",
       "        text-align: right;\n",
       "    }\n",
       "</style>\n",
       "<table border=\"1\" class=\"dataframe\">\n",
       "  <thead>\n",
       "    <tr style=\"text-align: right;\">\n",
       "      <th></th>\n",
       "      <th>Название модели</th>\n",
       "      <th>Кол-во скрытых слоев</th>\n",
       "      <th>Кол-во нейронов скрытых слоев</th>\n",
       "      <th>Ф-я активации</th>\n",
       "      <th>Оптимизатор</th>\n",
       "      <th>MSE test</th>\n",
       "      <th>R2 test</th>\n",
       "    </tr>\n",
       "  </thead>\n",
       "  <tbody>\n",
       "    <tr>\n",
       "      <th>0</th>\n",
       "      <td>Базовое решение</td>\n",
       "      <td>2</td>\n",
       "      <td>100</td>\n",
       "      <td>relu</td>\n",
       "      <td>SGD</td>\n",
       "      <td>0.463961</td>\n",
       "      <td>0.649369</td>\n",
       "    </tr>\n",
       "    <tr>\n",
       "      <th>1</th>\n",
       "      <td>Модель №1</td>\n",
       "      <td>4</td>\n",
       "      <td>100</td>\n",
       "      <td>relu</td>\n",
       "      <td>SGD</td>\n",
       "      <td>0.462122</td>\n",
       "      <td>0.650759</td>\n",
       "    </tr>\n",
       "    <tr>\n",
       "      <th>2</th>\n",
       "      <td>Модель №2</td>\n",
       "      <td>8</td>\n",
       "      <td>100</td>\n",
       "      <td>relu</td>\n",
       "      <td>SGD</td>\n",
       "      <td>0.484522</td>\n",
       "      <td>0.633830</td>\n",
       "    </tr>\n",
       "    <tr>\n",
       "      <th>3</th>\n",
       "      <td>Модель №3</td>\n",
       "      <td>12</td>\n",
       "      <td>100</td>\n",
       "      <td>relu</td>\n",
       "      <td>SGD</td>\n",
       "      <td>0.476177</td>\n",
       "      <td>0.640137</td>\n",
       "    </tr>\n",
       "  </tbody>\n",
       "</table>\n",
       "</div>"
      ],
      "text/plain": [
       "   Название модели Кол-во скрытых слоев Кол-во нейронов скрытых слоев  \\\n",
       "0  Базовое решение                    2                           100   \n",
       "1        Модель №1                    4                           100   \n",
       "2        Модель №2                    8                           100   \n",
       "3        Модель №3                   12                           100   \n",
       "\n",
       "  Ф-я активации Оптимизатор  MSE test   R2 test  \n",
       "0          relu         SGD  0.463961  0.649369  \n",
       "1          relu         SGD  0.462122  0.650759  \n",
       "2          relu         SGD  0.484522  0.633830  \n",
       "3          relu         SGD  0.476177  0.640137  "
      ]
     },
     "execution_count": 383,
     "metadata": {},
     "output_type": "execute_result"
    }
   ],
   "source": [
    "stata = stata.append(\n",
    "    {\n",
    "        'Название модели': 'Модель №3',\n",
    "        'Кол-во скрытых слоев': 12,\n",
    "        'Кол-во нейронов скрытых слоев': 100,\n",
    "        'Ф-я активации': 'relu',\n",
    "        'Оптимизатор': 'SGD',\n",
    "        'MSE test': mse_test,\n",
    "        'R2 test': r2_test,\n",
    "    },\n",
    "    ignore_index=True\n",
    ")\n",
    "\n",
    "stata"
   ]
  },
  {
   "cell_type": "markdown",
   "metadata": {},
   "source": [
    "### 3.1.4 Модель с 15 скрытыми слоями нейронов"
   ]
  },
  {
   "cell_type": "code",
   "execution_count": 384,
   "metadata": {},
   "outputs": [
    {
     "name": "stdout",
     "output_type": "stream",
     "text": [
      "Model: \"sequential_54\"\n",
      "_________________________________________________________________\n",
      " Layer (type)                Output Shape              Param #   \n",
      "=================================================================\n",
      " dense_277 (Dense)           (None, 15)                135       \n",
      "                                                                 \n",
      " dense_278 (Dense)           (None, 12)                192       \n",
      "                                                                 \n",
      " dense_279 (Dense)           (None, 12)                156       \n",
      "                                                                 \n",
      " dense_280 (Dense)           (None, 9)                 117       \n",
      "                                                                 \n",
      " dense_281 (Dense)           (None, 8)                 80        \n",
      "                                                                 \n",
      " dense_282 (Dense)           (None, 7)                 63        \n",
      "                                                                 \n",
      " dense_283 (Dense)           (None, 6)                 48        \n",
      "                                                                 \n",
      " dense_284 (Dense)           (None, 6)                 42        \n",
      "                                                                 \n",
      " dense_285 (Dense)           (None, 5)                 35        \n",
      "                                                                 \n",
      " dense_286 (Dense)           (None, 5)                 30        \n",
      "                                                                 \n",
      " dense_287 (Dense)           (None, 4)                 24        \n",
      "                                                                 \n",
      " dense_288 (Dense)           (None, 4)                 20        \n",
      "                                                                 \n",
      " dense_289 (Dense)           (None, 3)                 15        \n",
      "                                                                 \n",
      " dense_290 (Dense)           (None, 2)                 8         \n",
      "                                                                 \n",
      " dense_291 (Dense)           (None, 2)                 6         \n",
      "                                                                 \n",
      " dense_292 (Dense)           (None, 1)                 3         \n",
      "                                                                 \n",
      "=================================================================\n",
      "Total params: 974\n",
      "Trainable params: 974\n",
      "Non-trainable params: 0\n",
      "_________________________________________________________________\n"
     ]
    }
   ],
   "source": [
    "tf.random.set_seed(42)\n",
    "\n",
    "model_4 = Sequential([\n",
    "    InputLayer(input_shape=X_train.shape[1],),\n",
    "    Dense(15, activation='relu'),\n",
    "    Dense(12, activation='relu'),\n",
    "    Dense(12, activation='relu'),\n",
    "    Dense(9, activation='relu'),\n",
    "    Dense(8, activation='relu'),\n",
    "    Dense(7, activation='relu'),\n",
    "    Dense(6, activation='relu'),\n",
    "    Dense(6, activation='relu'),\n",
    "    Dense(5, activation='relu'),\n",
    "    Dense(5, activation='relu'),\n",
    "    Dense(4, activation='relu'),\n",
    "    Dense(4, activation='relu'),\n",
    "    Dense(3, activation='relu'),\n",
    "    Dense(2, activation='relu'),\n",
    "    Dense(2, activation='relu'),\n",
    "    Dense(1),\n",
    "]\n",
    ")\n",
    "\n",
    "model_4.summary()"
   ]
  },
  {
   "cell_type": "code",
   "execution_count": 385,
   "metadata": {},
   "outputs": [
    {
     "name": "stdout",
     "output_type": "stream",
     "text": [
      "CPU times: user 17.2 s, sys: 1.66 s, total: 18.9 s\n",
      "Wall time: 22.3 s\n"
     ]
    }
   ],
   "source": [
    "%%time\n",
    "\n",
    "model_4.compile(optimizer=SGD(),\n",
    "                   loss=mean_squared_error,\n",
    "                   metrics=['mse'])\n",
    "\n",
    "history = model_4.fit(X_train, y_train,\n",
    "               epochs=num_epochs,\n",
    "               validation_data=(X_test, y_test),\n",
    "               verbose=verbose\n",
    "               )"
   ]
  },
  {
   "cell_type": "code",
   "execution_count": 386,
   "metadata": {},
   "outputs": [],
   "source": [
    "preds = model_4.predict(X_test, verbose=verbose)\n",
    "r2_test = r2_score(y_test, preds)\n",
    "mse_test = mse(y_test, preds)"
   ]
  },
  {
   "cell_type": "code",
   "execution_count": 387,
   "metadata": {},
   "outputs": [
    {
     "data": {
      "text/html": [
       "<div>\n",
       "<style scoped>\n",
       "    .dataframe tbody tr th:only-of-type {\n",
       "        vertical-align: middle;\n",
       "    }\n",
       "\n",
       "    .dataframe tbody tr th {\n",
       "        vertical-align: top;\n",
       "    }\n",
       "\n",
       "    .dataframe thead th {\n",
       "        text-align: right;\n",
       "    }\n",
       "</style>\n",
       "<table border=\"1\" class=\"dataframe\">\n",
       "  <thead>\n",
       "    <tr style=\"text-align: right;\">\n",
       "      <th></th>\n",
       "      <th>Название модели</th>\n",
       "      <th>Кол-во скрытых слоев</th>\n",
       "      <th>Кол-во нейронов скрытых слоев</th>\n",
       "      <th>Ф-я активации</th>\n",
       "      <th>Оптимизатор</th>\n",
       "      <th>MSE test</th>\n",
       "      <th>R2 test</th>\n",
       "    </tr>\n",
       "  </thead>\n",
       "  <tbody>\n",
       "    <tr>\n",
       "      <th>0</th>\n",
       "      <td>Базовое решение</td>\n",
       "      <td>2</td>\n",
       "      <td>100</td>\n",
       "      <td>relu</td>\n",
       "      <td>SGD</td>\n",
       "      <td>0.463961</td>\n",
       "      <td>0.649369</td>\n",
       "    </tr>\n",
       "    <tr>\n",
       "      <th>1</th>\n",
       "      <td>Модель №1</td>\n",
       "      <td>4</td>\n",
       "      <td>100</td>\n",
       "      <td>relu</td>\n",
       "      <td>SGD</td>\n",
       "      <td>0.462122</td>\n",
       "      <td>0.650759</td>\n",
       "    </tr>\n",
       "    <tr>\n",
       "      <th>2</th>\n",
       "      <td>Модель №2</td>\n",
       "      <td>8</td>\n",
       "      <td>100</td>\n",
       "      <td>relu</td>\n",
       "      <td>SGD</td>\n",
       "      <td>0.484522</td>\n",
       "      <td>0.633830</td>\n",
       "    </tr>\n",
       "    <tr>\n",
       "      <th>3</th>\n",
       "      <td>Модель №3</td>\n",
       "      <td>12</td>\n",
       "      <td>100</td>\n",
       "      <td>relu</td>\n",
       "      <td>SGD</td>\n",
       "      <td>0.476177</td>\n",
       "      <td>0.640137</td>\n",
       "    </tr>\n",
       "    <tr>\n",
       "      <th>4</th>\n",
       "      <td>Модель №4</td>\n",
       "      <td>15</td>\n",
       "      <td>100</td>\n",
       "      <td>relu</td>\n",
       "      <td>SGD</td>\n",
       "      <td>1.323242</td>\n",
       "      <td>-0.000018</td>\n",
       "    </tr>\n",
       "  </tbody>\n",
       "</table>\n",
       "</div>"
      ],
      "text/plain": [
       "   Название модели Кол-во скрытых слоев Кол-во нейронов скрытых слоев  \\\n",
       "0  Базовое решение                    2                           100   \n",
       "1        Модель №1                    4                           100   \n",
       "2        Модель №2                    8                           100   \n",
       "3        Модель №3                   12                           100   \n",
       "4        Модель №4                   15                           100   \n",
       "\n",
       "  Ф-я активации Оптимизатор  MSE test   R2 test  \n",
       "0          relu         SGD  0.463961  0.649369  \n",
       "1          relu         SGD  0.462122  0.650759  \n",
       "2          relu         SGD  0.484522  0.633830  \n",
       "3          relu         SGD  0.476177  0.640137  \n",
       "4          relu         SGD  1.323242 -0.000018  "
      ]
     },
     "execution_count": 387,
     "metadata": {},
     "output_type": "execute_result"
    }
   ],
   "source": [
    "stata = stata.append(\n",
    "    {\n",
    "        'Название модели': 'Модель №4',\n",
    "        'Кол-во скрытых слоев': 15,\n",
    "        'Кол-во нейронов скрытых слоев': 100,\n",
    "        'Ф-я активации': 'relu',\n",
    "        'Оптимизатор': 'SGD',\n",
    "        'MSE test': mse_test,\n",
    "        'R2 test': r2_test,\n",
    "    },\n",
    "    ignore_index=True\n",
    ")\n",
    "\n",
    "stata"
   ]
  },
  {
   "cell_type": "markdown",
   "metadata": {},
   "source": [
    "## 3.2 Изменяем число нейронов"
   ]
  },
  {
   "cell_type": "markdown",
   "metadata": {},
   "source": [
    "### 3.2.1 Модель с 10 нейронами в скрытых слоях"
   ]
  },
  {
   "cell_type": "code",
   "execution_count": 388,
   "metadata": {},
   "outputs": [
    {
     "name": "stdout",
     "output_type": "stream",
     "text": [
      "Model: \"sequential_55\"\n",
      "_________________________________________________________________\n",
      " Layer (type)                Output Shape              Param #   \n",
      "=================================================================\n",
      " dense_293 (Dense)           (None, 6)                 54        \n",
      "                                                                 \n",
      " dense_294 (Dense)           (None, 4)                 28        \n",
      "                                                                 \n",
      " dense_295 (Dense)           (None, 1)                 5         \n",
      "                                                                 \n",
      "=================================================================\n",
      "Total params: 87\n",
      "Trainable params: 87\n",
      "Non-trainable params: 0\n",
      "_________________________________________________________________\n"
     ]
    }
   ],
   "source": [
    "tf.random.set_seed(42)\n",
    "\n",
    "model_5 = Sequential([\n",
    "    InputLayer(input_shape=X_train.shape[1],),\n",
    "    Dense(6, activation='relu'),\n",
    "    Dense(4, activation='relu'),\n",
    "    Dense(1),\n",
    "]\n",
    ")\n",
    "\n",
    "model_5.summary()"
   ]
  },
  {
   "cell_type": "code",
   "execution_count": 389,
   "metadata": {},
   "outputs": [
    {
     "name": "stdout",
     "output_type": "stream",
     "text": [
      "CPU times: user 11.2 s, sys: 1.26 s, total: 12.4 s\n",
      "Wall time: 11.1 s\n"
     ]
    }
   ],
   "source": [
    "%%time\n",
    "\n",
    "model_5.compile(optimizer=SGD(),\n",
    "                   loss=mean_squared_error,\n",
    "                   metrics=['mse'])\n",
    "\n",
    "history = model_5.fit(X_train, y_train,\n",
    "               epochs=num_epochs,\n",
    "               validation_data=(X_test, y_test),\n",
    "               verbose=verbose\n",
    "               )"
   ]
  },
  {
   "cell_type": "code",
   "execution_count": 390,
   "metadata": {},
   "outputs": [],
   "source": [
    "preds = model_5.predict(X_test, verbose=verbose)\n",
    "r2_test = r2_score(y_test, preds)\n",
    "mse_test = mse(y_test, preds)"
   ]
  },
  {
   "cell_type": "code",
   "execution_count": 391,
   "metadata": {},
   "outputs": [
    {
     "data": {
      "text/html": [
       "<div>\n",
       "<style scoped>\n",
       "    .dataframe tbody tr th:only-of-type {\n",
       "        vertical-align: middle;\n",
       "    }\n",
       "\n",
       "    .dataframe tbody tr th {\n",
       "        vertical-align: top;\n",
       "    }\n",
       "\n",
       "    .dataframe thead th {\n",
       "        text-align: right;\n",
       "    }\n",
       "</style>\n",
       "<table border=\"1\" class=\"dataframe\">\n",
       "  <thead>\n",
       "    <tr style=\"text-align: right;\">\n",
       "      <th></th>\n",
       "      <th>Название модели</th>\n",
       "      <th>Кол-во скрытых слоев</th>\n",
       "      <th>Кол-во нейронов скрытых слоев</th>\n",
       "      <th>Ф-я активации</th>\n",
       "      <th>Оптимизатор</th>\n",
       "      <th>MSE test</th>\n",
       "      <th>R2 test</th>\n",
       "    </tr>\n",
       "  </thead>\n",
       "  <tbody>\n",
       "    <tr>\n",
       "      <th>0</th>\n",
       "      <td>Базовое решение</td>\n",
       "      <td>2</td>\n",
       "      <td>100</td>\n",
       "      <td>relu</td>\n",
       "      <td>SGD</td>\n",
       "      <td>0.463961</td>\n",
       "      <td>0.649369</td>\n",
       "    </tr>\n",
       "    <tr>\n",
       "      <th>1</th>\n",
       "      <td>Модель №1</td>\n",
       "      <td>4</td>\n",
       "      <td>100</td>\n",
       "      <td>relu</td>\n",
       "      <td>SGD</td>\n",
       "      <td>0.462122</td>\n",
       "      <td>0.650759</td>\n",
       "    </tr>\n",
       "    <tr>\n",
       "      <th>2</th>\n",
       "      <td>Модель №2</td>\n",
       "      <td>8</td>\n",
       "      <td>100</td>\n",
       "      <td>relu</td>\n",
       "      <td>SGD</td>\n",
       "      <td>0.484522</td>\n",
       "      <td>0.633830</td>\n",
       "    </tr>\n",
       "    <tr>\n",
       "      <th>3</th>\n",
       "      <td>Модель №3</td>\n",
       "      <td>12</td>\n",
       "      <td>100</td>\n",
       "      <td>relu</td>\n",
       "      <td>SGD</td>\n",
       "      <td>0.476177</td>\n",
       "      <td>0.640137</td>\n",
       "    </tr>\n",
       "    <tr>\n",
       "      <th>4</th>\n",
       "      <td>Модель №4</td>\n",
       "      <td>15</td>\n",
       "      <td>100</td>\n",
       "      <td>relu</td>\n",
       "      <td>SGD</td>\n",
       "      <td>1.323242</td>\n",
       "      <td>-0.000018</td>\n",
       "    </tr>\n",
       "    <tr>\n",
       "      <th>5</th>\n",
       "      <td>Модель №5</td>\n",
       "      <td>2</td>\n",
       "      <td>10</td>\n",
       "      <td>relu</td>\n",
       "      <td>SGD</td>\n",
       "      <td>0.487298</td>\n",
       "      <td>0.631732</td>\n",
       "    </tr>\n",
       "  </tbody>\n",
       "</table>\n",
       "</div>"
      ],
      "text/plain": [
       "   Название модели Кол-во скрытых слоев Кол-во нейронов скрытых слоев  \\\n",
       "0  Базовое решение                    2                           100   \n",
       "1        Модель №1                    4                           100   \n",
       "2        Модель №2                    8                           100   \n",
       "3        Модель №3                   12                           100   \n",
       "4        Модель №4                   15                           100   \n",
       "5        Модель №5                    2                            10   \n",
       "\n",
       "  Ф-я активации Оптимизатор  MSE test   R2 test  \n",
       "0          relu         SGD  0.463961  0.649369  \n",
       "1          relu         SGD  0.462122  0.650759  \n",
       "2          relu         SGD  0.484522  0.633830  \n",
       "3          relu         SGD  0.476177  0.640137  \n",
       "4          relu         SGD  1.323242 -0.000018  \n",
       "5          relu         SGD  0.487298  0.631732  "
      ]
     },
     "execution_count": 391,
     "metadata": {},
     "output_type": "execute_result"
    }
   ],
   "source": [
    "stata = stata.append(\n",
    "    {\n",
    "        'Название модели': 'Модель №5',\n",
    "        'Кол-во скрытых слоев': 2,\n",
    "        'Кол-во нейронов скрытых слоев': 10,\n",
    "        'Ф-я активации': 'relu',\n",
    "        'Оптимизатор': 'SGD',\n",
    "        'MSE test': mse_test,\n",
    "        'R2 test': r2_test\n",
    "    },\n",
    "    ignore_index=True\n",
    ")\n",
    "\n",
    "stata"
   ]
  },
  {
   "cell_type": "markdown",
   "metadata": {},
   "source": [
    "### 3.2.2 Модель с 50 нейронами в скрытых слоях"
   ]
  },
  {
   "cell_type": "code",
   "execution_count": 392,
   "metadata": {},
   "outputs": [
    {
     "name": "stdout",
     "output_type": "stream",
     "text": [
      "Model: \"sequential_56\"\n",
      "_________________________________________________________________\n",
      " Layer (type)                Output Shape              Param #   \n",
      "=================================================================\n",
      " dense_296 (Dense)           (None, 35)                315       \n",
      "                                                                 \n",
      " dense_297 (Dense)           (None, 15)                540       \n",
      "                                                                 \n",
      " dense_298 (Dense)           (None, 1)                 16        \n",
      "                                                                 \n",
      "=================================================================\n",
      "Total params: 871\n",
      "Trainable params: 871\n",
      "Non-trainable params: 0\n",
      "_________________________________________________________________\n"
     ]
    }
   ],
   "source": [
    "tf.random.set_seed(42)\n",
    "\n",
    "model_6 = Sequential([\n",
    "    InputLayer(input_shape=X_train.shape[1],),\n",
    "    Dense(35, activation='relu'),\n",
    "    Dense(15, activation='relu'),\n",
    "    Dense(1),\n",
    "]\n",
    ")\n",
    "\n",
    "model_6.summary()"
   ]
  },
  {
   "cell_type": "code",
   "execution_count": 393,
   "metadata": {},
   "outputs": [
    {
     "name": "stdout",
     "output_type": "stream",
     "text": [
      "CPU times: user 11.4 s, sys: 1.31 s, total: 12.7 s\n",
      "Wall time: 12.4 s\n"
     ]
    }
   ],
   "source": [
    "%%time\n",
    "\n",
    "model_6.compile(optimizer=SGD(),\n",
    "                   loss=mean_squared_error,\n",
    "                   metrics=['mse'])\n",
    "\n",
    "history = model_6.fit(X_train, y_train,\n",
    "               epochs=num_epochs,\n",
    "               validation_data=(X_test, y_test),\n",
    "               verbose=verbose\n",
    "               )"
   ]
  },
  {
   "cell_type": "code",
   "execution_count": 394,
   "metadata": {},
   "outputs": [],
   "source": [
    "preds = model_6.predict(X_test, verbose=0)\n",
    "r2_test = r2_score(y_test, preds)\n",
    "mse_test = mse(y_test, preds)"
   ]
  },
  {
   "cell_type": "code",
   "execution_count": 395,
   "metadata": {},
   "outputs": [
    {
     "data": {
      "text/html": [
       "<div>\n",
       "<style scoped>\n",
       "    .dataframe tbody tr th:only-of-type {\n",
       "        vertical-align: middle;\n",
       "    }\n",
       "\n",
       "    .dataframe tbody tr th {\n",
       "        vertical-align: top;\n",
       "    }\n",
       "\n",
       "    .dataframe thead th {\n",
       "        text-align: right;\n",
       "    }\n",
       "</style>\n",
       "<table border=\"1\" class=\"dataframe\">\n",
       "  <thead>\n",
       "    <tr style=\"text-align: right;\">\n",
       "      <th></th>\n",
       "      <th>Название модели</th>\n",
       "      <th>Кол-во скрытых слоев</th>\n",
       "      <th>Кол-во нейронов скрытых слоев</th>\n",
       "      <th>Ф-я активации</th>\n",
       "      <th>Оптимизатор</th>\n",
       "      <th>MSE test</th>\n",
       "      <th>R2 test</th>\n",
       "    </tr>\n",
       "  </thead>\n",
       "  <tbody>\n",
       "    <tr>\n",
       "      <th>0</th>\n",
       "      <td>Базовое решение</td>\n",
       "      <td>2</td>\n",
       "      <td>100</td>\n",
       "      <td>relu</td>\n",
       "      <td>SGD</td>\n",
       "      <td>0.463961</td>\n",
       "      <td>0.649369</td>\n",
       "    </tr>\n",
       "    <tr>\n",
       "      <th>1</th>\n",
       "      <td>Модель №1</td>\n",
       "      <td>4</td>\n",
       "      <td>100</td>\n",
       "      <td>relu</td>\n",
       "      <td>SGD</td>\n",
       "      <td>0.462122</td>\n",
       "      <td>0.650759</td>\n",
       "    </tr>\n",
       "    <tr>\n",
       "      <th>2</th>\n",
       "      <td>Модель №2</td>\n",
       "      <td>8</td>\n",
       "      <td>100</td>\n",
       "      <td>relu</td>\n",
       "      <td>SGD</td>\n",
       "      <td>0.484522</td>\n",
       "      <td>0.633830</td>\n",
       "    </tr>\n",
       "    <tr>\n",
       "      <th>3</th>\n",
       "      <td>Модель №3</td>\n",
       "      <td>12</td>\n",
       "      <td>100</td>\n",
       "      <td>relu</td>\n",
       "      <td>SGD</td>\n",
       "      <td>0.476177</td>\n",
       "      <td>0.640137</td>\n",
       "    </tr>\n",
       "    <tr>\n",
       "      <th>4</th>\n",
       "      <td>Модель №4</td>\n",
       "      <td>15</td>\n",
       "      <td>100</td>\n",
       "      <td>relu</td>\n",
       "      <td>SGD</td>\n",
       "      <td>1.323242</td>\n",
       "      <td>-0.000018</td>\n",
       "    </tr>\n",
       "    <tr>\n",
       "      <th>5</th>\n",
       "      <td>Модель №5</td>\n",
       "      <td>2</td>\n",
       "      <td>10</td>\n",
       "      <td>relu</td>\n",
       "      <td>SGD</td>\n",
       "      <td>0.487298</td>\n",
       "      <td>0.631732</td>\n",
       "    </tr>\n",
       "    <tr>\n",
       "      <th>6</th>\n",
       "      <td>Модель №6</td>\n",
       "      <td>2</td>\n",
       "      <td>50</td>\n",
       "      <td>relu</td>\n",
       "      <td>SGD</td>\n",
       "      <td>0.486486</td>\n",
       "      <td>0.632346</td>\n",
       "    </tr>\n",
       "  </tbody>\n",
       "</table>\n",
       "</div>"
      ],
      "text/plain": [
       "   Название модели Кол-во скрытых слоев Кол-во нейронов скрытых слоев  \\\n",
       "0  Базовое решение                    2                           100   \n",
       "1        Модель №1                    4                           100   \n",
       "2        Модель №2                    8                           100   \n",
       "3        Модель №3                   12                           100   \n",
       "4        Модель №4                   15                           100   \n",
       "5        Модель №5                    2                            10   \n",
       "6        Модель №6                    2                            50   \n",
       "\n",
       "  Ф-я активации Оптимизатор  MSE test   R2 test  \n",
       "0          relu         SGD  0.463961  0.649369  \n",
       "1          relu         SGD  0.462122  0.650759  \n",
       "2          relu         SGD  0.484522  0.633830  \n",
       "3          relu         SGD  0.476177  0.640137  \n",
       "4          relu         SGD  1.323242 -0.000018  \n",
       "5          relu         SGD  0.487298  0.631732  \n",
       "6          relu         SGD  0.486486  0.632346  "
      ]
     },
     "execution_count": 395,
     "metadata": {},
     "output_type": "execute_result"
    }
   ],
   "source": [
    "stata = stata.append(\n",
    "    {\n",
    "        'Название модели': 'Модель №6',\n",
    "        'Кол-во скрытых слоев': 2,\n",
    "        'Кол-во нейронов скрытых слоев': 50,\n",
    "        'Ф-я активации': 'relu',\n",
    "        'Оптимизатор': 'SGD',\n",
    "        'MSE test': mse_test,\n",
    "        'R2 test': r2_test\n",
    "    },\n",
    "    ignore_index=True\n",
    ")\n",
    "\n",
    "stata"
   ]
  },
  {
   "cell_type": "markdown",
   "metadata": {},
   "source": [
    "### 3.2.3 Модель с 120 нейронами в скрытых слоях"
   ]
  },
  {
   "cell_type": "code",
   "execution_count": 396,
   "metadata": {},
   "outputs": [
    {
     "name": "stdout",
     "output_type": "stream",
     "text": [
      "Model: \"sequential_57\"\n",
      "_________________________________________________________________\n",
      " Layer (type)                Output Shape              Param #   \n",
      "=================================================================\n",
      " dense_299 (Dense)           (None, 80)                720       \n",
      "                                                                 \n",
      " dense_300 (Dense)           (None, 40)                3240      \n",
      "                                                                 \n",
      " dense_301 (Dense)           (None, 1)                 41        \n",
      "                                                                 \n",
      "=================================================================\n",
      "Total params: 4,001\n",
      "Trainable params: 4,001\n",
      "Non-trainable params: 0\n",
      "_________________________________________________________________\n"
     ]
    }
   ],
   "source": [
    "tf.random.set_seed(42)\n",
    "\n",
    "model_7 = Sequential([\n",
    "    InputLayer(input_shape=X_train.shape[1],),\n",
    "    Dense(80, activation='relu'),\n",
    "    Dense(40, activation='relu'),\n",
    "    Dense(1),\n",
    "]\n",
    ")\n",
    "\n",
    "model_7.summary()"
   ]
  },
  {
   "cell_type": "code",
   "execution_count": 398,
   "metadata": {},
   "outputs": [
    {
     "name": "stdout",
     "output_type": "stream",
     "text": [
      "CPU times: user 12.7 s, sys: 1.41 s, total: 14.1 s\n",
      "Wall time: 17.7 s\n"
     ]
    }
   ],
   "source": [
    "%%time\n",
    "\n",
    "model_7.compile(optimizer=SGD(),\n",
    "                   loss=mean_squared_error,\n",
    "                   metrics=['mse'])\n",
    "\n",
    "history = model_7.fit(X_train, y_train,\n",
    "               epochs=num_epochs,\n",
    "               validation_data=(X_test, y_test),\n",
    "               verbose=verbose\n",
    "               )"
   ]
  },
  {
   "cell_type": "code",
   "execution_count": 399,
   "metadata": {},
   "outputs": [],
   "source": [
    "preds = model_7.predict(X_test, verbose=0)\n",
    "r2_test = r2_score(y_test, preds)\n",
    "mse_test = mse(y_test, preds)"
   ]
  },
  {
   "cell_type": "code",
   "execution_count": 400,
   "metadata": {},
   "outputs": [
    {
     "data": {
      "text/html": [
       "<div>\n",
       "<style scoped>\n",
       "    .dataframe tbody tr th:only-of-type {\n",
       "        vertical-align: middle;\n",
       "    }\n",
       "\n",
       "    .dataframe tbody tr th {\n",
       "        vertical-align: top;\n",
       "    }\n",
       "\n",
       "    .dataframe thead th {\n",
       "        text-align: right;\n",
       "    }\n",
       "</style>\n",
       "<table border=\"1\" class=\"dataframe\">\n",
       "  <thead>\n",
       "    <tr style=\"text-align: right;\">\n",
       "      <th></th>\n",
       "      <th>Название модели</th>\n",
       "      <th>Кол-во скрытых слоев</th>\n",
       "      <th>Кол-во нейронов скрытых слоев</th>\n",
       "      <th>Ф-я активации</th>\n",
       "      <th>Оптимизатор</th>\n",
       "      <th>MSE test</th>\n",
       "      <th>R2 test</th>\n",
       "    </tr>\n",
       "  </thead>\n",
       "  <tbody>\n",
       "    <tr>\n",
       "      <th>0</th>\n",
       "      <td>Базовое решение</td>\n",
       "      <td>2</td>\n",
       "      <td>100</td>\n",
       "      <td>relu</td>\n",
       "      <td>SGD</td>\n",
       "      <td>0.463961</td>\n",
       "      <td>0.649369</td>\n",
       "    </tr>\n",
       "    <tr>\n",
       "      <th>1</th>\n",
       "      <td>Модель №1</td>\n",
       "      <td>4</td>\n",
       "      <td>100</td>\n",
       "      <td>relu</td>\n",
       "      <td>SGD</td>\n",
       "      <td>0.462122</td>\n",
       "      <td>0.650759</td>\n",
       "    </tr>\n",
       "    <tr>\n",
       "      <th>2</th>\n",
       "      <td>Модель №2</td>\n",
       "      <td>8</td>\n",
       "      <td>100</td>\n",
       "      <td>relu</td>\n",
       "      <td>SGD</td>\n",
       "      <td>0.484522</td>\n",
       "      <td>0.633830</td>\n",
       "    </tr>\n",
       "    <tr>\n",
       "      <th>3</th>\n",
       "      <td>Модель №3</td>\n",
       "      <td>12</td>\n",
       "      <td>100</td>\n",
       "      <td>relu</td>\n",
       "      <td>SGD</td>\n",
       "      <td>0.476177</td>\n",
       "      <td>0.640137</td>\n",
       "    </tr>\n",
       "    <tr>\n",
       "      <th>4</th>\n",
       "      <td>Модель №4</td>\n",
       "      <td>15</td>\n",
       "      <td>100</td>\n",
       "      <td>relu</td>\n",
       "      <td>SGD</td>\n",
       "      <td>1.323242</td>\n",
       "      <td>-0.000018</td>\n",
       "    </tr>\n",
       "    <tr>\n",
       "      <th>5</th>\n",
       "      <td>Модель №5</td>\n",
       "      <td>2</td>\n",
       "      <td>10</td>\n",
       "      <td>relu</td>\n",
       "      <td>SGD</td>\n",
       "      <td>0.487298</td>\n",
       "      <td>0.631732</td>\n",
       "    </tr>\n",
       "    <tr>\n",
       "      <th>6</th>\n",
       "      <td>Модель №6</td>\n",
       "      <td>2</td>\n",
       "      <td>50</td>\n",
       "      <td>relu</td>\n",
       "      <td>SGD</td>\n",
       "      <td>0.486486</td>\n",
       "      <td>0.632346</td>\n",
       "    </tr>\n",
       "    <tr>\n",
       "      <th>7</th>\n",
       "      <td>Модель №7</td>\n",
       "      <td>2</td>\n",
       "      <td>120</td>\n",
       "      <td>relu</td>\n",
       "      <td>SGD</td>\n",
       "      <td>0.464461</td>\n",
       "      <td>0.648991</td>\n",
       "    </tr>\n",
       "  </tbody>\n",
       "</table>\n",
       "</div>"
      ],
      "text/plain": [
       "   Название модели Кол-во скрытых слоев Кол-во нейронов скрытых слоев  \\\n",
       "0  Базовое решение                    2                           100   \n",
       "1        Модель №1                    4                           100   \n",
       "2        Модель №2                    8                           100   \n",
       "3        Модель №3                   12                           100   \n",
       "4        Модель №4                   15                           100   \n",
       "5        Модель №5                    2                            10   \n",
       "6        Модель №6                    2                            50   \n",
       "7        Модель №7                    2                           120   \n",
       "\n",
       "  Ф-я активации Оптимизатор  MSE test   R2 test  \n",
       "0          relu         SGD  0.463961  0.649369  \n",
       "1          relu         SGD  0.462122  0.650759  \n",
       "2          relu         SGD  0.484522  0.633830  \n",
       "3          relu         SGD  0.476177  0.640137  \n",
       "4          relu         SGD  1.323242 -0.000018  \n",
       "5          relu         SGD  0.487298  0.631732  \n",
       "6          relu         SGD  0.486486  0.632346  \n",
       "7          relu         SGD  0.464461  0.648991  "
      ]
     },
     "execution_count": 400,
     "metadata": {},
     "output_type": "execute_result"
    }
   ],
   "source": [
    "stata = stata.append(\n",
    "    {\n",
    "        'Название модели': 'Модель №7',\n",
    "        'Кол-во скрытых слоев': 2,\n",
    "        'Кол-во нейронов скрытых слоев': 120,\n",
    "        'Ф-я активации': 'relu',\n",
    "        'Оптимизатор': 'SGD',\n",
    "        'MSE test': mse_test,\n",
    "        'R2 test': r2_test\n",
    "    },\n",
    "    ignore_index=True\n",
    ")\n",
    "\n",
    "stata"
   ]
  },
  {
   "cell_type": "markdown",
   "metadata": {},
   "source": [
    "### 3.2.4 Модель с 150 нейронами в скрытых слоях"
   ]
  },
  {
   "cell_type": "code",
   "execution_count": 401,
   "metadata": {},
   "outputs": [
    {
     "name": "stdout",
     "output_type": "stream",
     "text": [
      "Model: \"sequential_58\"\n",
      "_________________________________________________________________\n",
      " Layer (type)                Output Shape              Param #   \n",
      "=================================================================\n",
      " dense_302 (Dense)           (None, 110)               990       \n",
      "                                                                 \n",
      " dense_303 (Dense)           (None, 40)                4440      \n",
      "                                                                 \n",
      " dense_304 (Dense)           (None, 1)                 41        \n",
      "                                                                 \n",
      "=================================================================\n",
      "Total params: 5,471\n",
      "Trainable params: 5,471\n",
      "Non-trainable params: 0\n",
      "_________________________________________________________________\n"
     ]
    }
   ],
   "source": [
    "tf.random.set_seed(42)\n",
    "\n",
    "model_8 = Sequential([\n",
    "    InputLayer(input_shape=X_train.shape[1],),\n",
    "    Dense(110, activation='relu'),\n",
    "    Dense(40, activation='relu'),\n",
    "    Dense(1),\n",
    "]\n",
    ")\n",
    "\n",
    "model_8.summary()"
   ]
  },
  {
   "cell_type": "code",
   "execution_count": 402,
   "metadata": {},
   "outputs": [
    {
     "name": "stdout",
     "output_type": "stream",
     "text": [
      "CPU times: user 13.6 s, sys: 1.59 s, total: 15.2 s\n",
      "Wall time: 17.2 s\n"
     ]
    }
   ],
   "source": [
    "%%time\n",
    "\n",
    "model_8.compile(optimizer=SGD(),\n",
    "                   loss=mean_squared_error,\n",
    "                   metrics=['mse'])\n",
    "\n",
    "history = model_8.fit(X_train, y_train,\n",
    "               epochs=num_epochs,\n",
    "               validation_data=(X_test, y_test),\n",
    "               verbose=verbose\n",
    "               )"
   ]
  },
  {
   "cell_type": "code",
   "execution_count": 403,
   "metadata": {},
   "outputs": [],
   "source": [
    "preds = model_8.predict(X_test, verbose=0)\n",
    "r2_test = r2_score(y_test, preds)\n",
    "mse_test = mse(y_test, preds)"
   ]
  },
  {
   "cell_type": "code",
   "execution_count": 404,
   "metadata": {},
   "outputs": [
    {
     "data": {
      "text/html": [
       "<div>\n",
       "<style scoped>\n",
       "    .dataframe tbody tr th:only-of-type {\n",
       "        vertical-align: middle;\n",
       "    }\n",
       "\n",
       "    .dataframe tbody tr th {\n",
       "        vertical-align: top;\n",
       "    }\n",
       "\n",
       "    .dataframe thead th {\n",
       "        text-align: right;\n",
       "    }\n",
       "</style>\n",
       "<table border=\"1\" class=\"dataframe\">\n",
       "  <thead>\n",
       "    <tr style=\"text-align: right;\">\n",
       "      <th></th>\n",
       "      <th>Название модели</th>\n",
       "      <th>Кол-во скрытых слоев</th>\n",
       "      <th>Кол-во нейронов скрытых слоев</th>\n",
       "      <th>Ф-я активации</th>\n",
       "      <th>Оптимизатор</th>\n",
       "      <th>MSE test</th>\n",
       "      <th>R2 test</th>\n",
       "    </tr>\n",
       "  </thead>\n",
       "  <tbody>\n",
       "    <tr>\n",
       "      <th>0</th>\n",
       "      <td>Базовое решение</td>\n",
       "      <td>2</td>\n",
       "      <td>100</td>\n",
       "      <td>relu</td>\n",
       "      <td>SGD</td>\n",
       "      <td>0.463961</td>\n",
       "      <td>0.649369</td>\n",
       "    </tr>\n",
       "    <tr>\n",
       "      <th>1</th>\n",
       "      <td>Модель №1</td>\n",
       "      <td>4</td>\n",
       "      <td>100</td>\n",
       "      <td>relu</td>\n",
       "      <td>SGD</td>\n",
       "      <td>0.462122</td>\n",
       "      <td>0.650759</td>\n",
       "    </tr>\n",
       "    <tr>\n",
       "      <th>2</th>\n",
       "      <td>Модель №2</td>\n",
       "      <td>8</td>\n",
       "      <td>100</td>\n",
       "      <td>relu</td>\n",
       "      <td>SGD</td>\n",
       "      <td>0.484522</td>\n",
       "      <td>0.633830</td>\n",
       "    </tr>\n",
       "    <tr>\n",
       "      <th>3</th>\n",
       "      <td>Модель №3</td>\n",
       "      <td>12</td>\n",
       "      <td>100</td>\n",
       "      <td>relu</td>\n",
       "      <td>SGD</td>\n",
       "      <td>0.476177</td>\n",
       "      <td>0.640137</td>\n",
       "    </tr>\n",
       "    <tr>\n",
       "      <th>4</th>\n",
       "      <td>Модель №4</td>\n",
       "      <td>15</td>\n",
       "      <td>100</td>\n",
       "      <td>relu</td>\n",
       "      <td>SGD</td>\n",
       "      <td>1.323242</td>\n",
       "      <td>-0.000018</td>\n",
       "    </tr>\n",
       "    <tr>\n",
       "      <th>5</th>\n",
       "      <td>Модель №5</td>\n",
       "      <td>2</td>\n",
       "      <td>10</td>\n",
       "      <td>relu</td>\n",
       "      <td>SGD</td>\n",
       "      <td>0.487298</td>\n",
       "      <td>0.631732</td>\n",
       "    </tr>\n",
       "    <tr>\n",
       "      <th>6</th>\n",
       "      <td>Модель №6</td>\n",
       "      <td>2</td>\n",
       "      <td>50</td>\n",
       "      <td>relu</td>\n",
       "      <td>SGD</td>\n",
       "      <td>0.486486</td>\n",
       "      <td>0.632346</td>\n",
       "    </tr>\n",
       "    <tr>\n",
       "      <th>7</th>\n",
       "      <td>Модель №7</td>\n",
       "      <td>2</td>\n",
       "      <td>120</td>\n",
       "      <td>relu</td>\n",
       "      <td>SGD</td>\n",
       "      <td>0.464461</td>\n",
       "      <td>0.648991</td>\n",
       "    </tr>\n",
       "    <tr>\n",
       "      <th>8</th>\n",
       "      <td>Модель №8</td>\n",
       "      <td>2</td>\n",
       "      <td>150</td>\n",
       "      <td>relu</td>\n",
       "      <td>SGD</td>\n",
       "      <td>0.479616</td>\n",
       "      <td>0.637539</td>\n",
       "    </tr>\n",
       "  </tbody>\n",
       "</table>\n",
       "</div>"
      ],
      "text/plain": [
       "   Название модели Кол-во скрытых слоев Кол-во нейронов скрытых слоев  \\\n",
       "0  Базовое решение                    2                           100   \n",
       "1        Модель №1                    4                           100   \n",
       "2        Модель №2                    8                           100   \n",
       "3        Модель №3                   12                           100   \n",
       "4        Модель №4                   15                           100   \n",
       "5        Модель №5                    2                            10   \n",
       "6        Модель №6                    2                            50   \n",
       "7        Модель №7                    2                           120   \n",
       "8        Модель №8                    2                           150   \n",
       "\n",
       "  Ф-я активации Оптимизатор  MSE test   R2 test  \n",
       "0          relu         SGD  0.463961  0.649369  \n",
       "1          relu         SGD  0.462122  0.650759  \n",
       "2          relu         SGD  0.484522  0.633830  \n",
       "3          relu         SGD  0.476177  0.640137  \n",
       "4          relu         SGD  1.323242 -0.000018  \n",
       "5          relu         SGD  0.487298  0.631732  \n",
       "6          relu         SGD  0.486486  0.632346  \n",
       "7          relu         SGD  0.464461  0.648991  \n",
       "8          relu         SGD  0.479616  0.637539  "
      ]
     },
     "execution_count": 404,
     "metadata": {},
     "output_type": "execute_result"
    }
   ],
   "source": [
    "stata = stata.append(\n",
    "    {\n",
    "        'Название модели': 'Модель №8',\n",
    "        'Кол-во скрытых слоев': 2,\n",
    "        'Кол-во нейронов скрытых слоев': 150,\n",
    "        'Ф-я активации': 'relu',\n",
    "        'Оптимизатор': 'SGD',\n",
    "        'MSE test': mse_test,\n",
    "        'R2 test': r2_test\n",
    "    },\n",
    "    ignore_index=True\n",
    ")\n",
    "\n",
    "stata"
   ]
  },
  {
   "cell_type": "markdown",
   "metadata": {},
   "source": [
    "## 3.3 Изменяем функции активации"
   ]
  },
  {
   "cell_type": "code",
   "execution_count": null,
   "metadata": {},
   "outputs": [],
   "source": []
  }
 ],
 "metadata": {
  "kernelspec": {
   "display_name": "DS",
   "language": "python",
   "name": "python3"
  },
  "language_info": {
   "codemirror_mode": {
    "name": "ipython",
    "version": 3
   },
   "file_extension": ".py",
   "mimetype": "text/x-python",
   "name": "python",
   "nbconvert_exporter": "python",
   "pygments_lexer": "ipython3",
   "version": "3.8.15"
  }
 },
 "nbformat": 4,
 "nbformat_minor": 2
}
